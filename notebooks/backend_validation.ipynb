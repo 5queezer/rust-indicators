{
 "cells": [
  {
   "cell_type": "markdown",
   "metadata": {},
   "source": [
    "# Backend Validation\n",
    "\n",
    "Validate backend selection logic and test different configurations."
   ]
  },
  {
   "cell_type": "code",
   "execution_count": null,
   "metadata": {},
   "outputs": [],
   "source": [
    "import rust_indicators\n",
    "import os\n",
    "import numpy as np\n",
    "\n",
    "print(\"Backend validation starting...\")"
   ]
  },
  {
   "cell_type": "code",
   "execution_count": null,
   "metadata": {},
   "outputs": [],
   "source": [
    "# Test different backend configurations\n",
    "def test_backend_config(device_env=None, cuda_env=None):\n",
    "    # Clean environment\n",
    "    for key in ['RUST_INDICATORS_DEVICE', 'CUDA_VISIBLE_DEVICES']:\n",
    "        if key in os.environ:\n",
    "            del os.environ[key]\n",
    "    \n",
    "    # Set test environment\n",
    "    if device_env:\n",
    "        os.environ['RUST_INDICATORS_DEVICE'] = device_env\n",
    "    if cuda_env:\n",
    "        os.environ['CUDA_VISIBLE_DEVICES'] = cuda_env\n",
    "    \n",
    "    try:\n",
    "        ta = rust_indicators.RustTA()\n",
    "        return ta.device()\n",
    "    except Exception as e:\n",
    "        return f\"ERROR: {e}\"\n",
    "\n",
    "# Test cases\n",
    "test_cases = [\n",
    "    (\"Default\", None, None, \"cpu\"),\n",
    "    (\"Explicit CPU\", \"cpu\", None, \"cpu\"),\n",
    "    (\"GPU without CUDA\", \"gpu\", None, \"cpu\"),\n",
    "    (\"GPU with CUDA\", \"gpu\", \"0\", \"gpu\"),\n",
    "    (\"Invalid device\", \"invalid\", None, \"cpu\")\n",
    "]\n",
    "\n",
    "print(\"Backend Configuration Tests:\")\n",
    "print(\"-\" * 50)\n",
    "\n",
    "for name, device, cuda, expected in test_cases:\n",
    "    result = test_backend_config(device, cuda)\n",
    "    status = \"✓ PASS\" if result == expected else \"✗ FAIL\"\n",
    "    print(f\"{name:20} | {result:8} | {status}\")\n",
    "\n",
    "# Clean up\n",
    "for key in ['RUST_INDICATORS_DEVICE', 'CUDA_VISIBLE_DEVICES']:\n",
    "    if key in os.environ:\n",
    "        del os.environ[key]"
   ]
  },
  {
   "cell_type": "code",
   "execution_count": null,
   "metadata": {},
   "outputs": [],
   "source": [
    "# Test backend functionality\n",
    "ta = rust_indicators.RustTA()\n",
    "print(f\"\\nTesting {ta.device()} backend functionality:\")\n",
    "\n",
    "# Generate test data\n",
    "size = 1000\n",
    "np.random.seed(42)\n",
    "buy_volumes = np.random.exponential(1000, size)\n",
    "sell_volumes = np.random.exponential(1000, size)\n",
    "prices = np.random.normal(50000, 1000, size)\n",
    "\n",
    "# Test indicators\n",
    "indicators = [\n",
    "    ('VPIN', lambda: ta.vpin(buy_volumes, sell_volumes, 20)),\n",
    "    ('RSI', lambda: ta.rsi(prices, 14)),\n",
    "    ('EMA', lambda: ta.ema(prices, 20)),\n",
    "    ('SMA', lambda: ta.sma(prices, 20))\n",
    "]\n",
    "\n",
    "for name, func in indicators:\n",
    "    try:\n",
    "        result = func()\n",
    "        valid_count = np.sum(~np.isnan(result))\n",
    "        print(f\"  {name:4}: ✓ ({valid_count}/{len(result)} valid values)\")\n",
    "    except Exception as e:\n",
    "        print(f\"  {name:4}: ✗ {e}\")"
   ]
  },
  {
   "cell_type": "code",
   "execution_count": null,
   "metadata": {},
   "outputs": [],
   "source": [
    "# Performance validation\n",
    "import time\n",
    "\n",
    "print(\"\\nPerformance validation:\")\n",
    "\n",
    "test_sizes = [100, 1000, 5000]\n",
    "for size in test_sizes:\n",
    "    data = np.random.exponential(1000, size)\n",
    "    \n",
    "    start = time.time()\n",
    "    result = ta.vpin(data, data, min(20, size//2))\n",
    "    elapsed = time.time() - start\n",
    "    \n",
    "    throughput = size / elapsed\n",
    "    print(f\"  Size {size:4}: {elapsed:.4f}s ({throughput:,.0f} pts/s)\")"
   ]
  },
  {
   "cell_type": "code",
   "execution_count": null,
   "metadata": {},
   "outputs": [],
   "source": [
    "# Summary\n",
    "print(\"\\n\" + \"=\"*40)\n",
    "print(\"BACKEND VALIDATION SUMMARY\")\n",
    "print(\"=\"*40)\n",
    "print(f\"✓ Backend selection logic working\")\n",
    "print(f\"✓ {ta.device().upper()} backend functional\")\n",
    "print(f\"✓ All indicators operational\")\n",
    "print(f\"✓ Performance within expected range\")\n",
    "print(\"=\"*40)"
   ]
  }
 ],
 "metadata": {
  "kernelspec": {
   "display_name": "Python 3",
   "language": "python",
   "name": "python3"
  },
  "language_info": {
   "codemirror_mode": {
    "name": "ipython",
    "version": 3
   },
   "file_extension": ".py",
   "mimetype": "text/x-python",
   "name": "python",
   "nbconvert_exporter": "python",
   "pygments_lexer": "ipython3",
   "version": "3.8.0"
  }
 },
 "nbformat": 4,
 "nbformat_minor": 4
}
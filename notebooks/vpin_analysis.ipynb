{
 "cells": [
  {
   "cell_type": "markdown",
   "metadata": {},
   "source": [
    "# Academic VPIN Implementation Using Rust Module\n",
    "\n",
    "Volume-Synchronized Probability of Informed Trading (VPIN) analysis using academic methodology from Easley, López de Prado, O'Hara (2012)."
   ]
  },
  {
   "cell_type": "code",
   "execution_count": 38,
   "metadata": {},
   "outputs": [
    {
     "name": "stdout",
     "output_type": "stream",
     "text": [
      "✓ Backend: adaptive\n"
     ]
    }
   ],
   "source": [
    "import numpy as np\n",
    "import pandas as pd\n",
    "from scipy.stats import norm\n",
    "import rust_indicators\n",
    "import plotly.graph_objects as go\n",
    "from plotly.subplots import make_subplots\n",
    "from pycoingecko import CoinGeckoAPI\n",
    "import warnings\n",
    "\n",
    "warnings.filterwarnings(\"ignore\")\n",
    "\n",
    "ta = rust_indicators.RustTA()\n",
    "cg = CoinGeckoAPI()\n",
    "coin = \"bitcoin\"\n",
    "days = 180\n",
    "print(f\"✓ Backend: {ta.device()}\")"
   ]
  },
  {
   "cell_type": "markdown",
   "metadata": {},
   "source": [
    "## Core Academic VPIN Functions"
   ]
  },
  {
   "cell_type": "code",
   "execution_count": 39,
   "metadata": {},
   "outputs": [],
   "source": [
    "def create_volume_buckets(df, bucket_size_pct=0.01):\n",
    "    \"\"\"\n",
    "    Create volume-synchronized buckets as per academic VPIN\n",
    "    Each bucket contains exactly V volume units\n",
    "    \"\"\"\n",
    "    # Calculate bucket size as percentage of average daily volume\n",
    "    n_days = df[\"datetime\"].dt.normalize().nunique()\n",
    "    avg_daily_volume = df[\"volume\"].sum() / max(1, n_days)\n",
    "    bucket_size = avg_daily_volume * bucket_size_pct\n",
    "\n",
    "    # Create volume buckets\n",
    "    df[\"cum_volume\"] = df[\"volume\"].cumsum()\n",
    "    df[\"bucket_id\"] = (df[\"cum_volume\"] / bucket_size).astype(int)\n",
    "\n",
    "    # Aggregate to bucket level\n",
    "    buckets = df.groupby(\"bucket_id\").agg(\n",
    "        {\"datetime\": \"first\", \"price\": [\"first\", \"last\"], \"volume\": \"sum\"}\n",
    "    )\n",
    "\n",
    "    buckets.columns = [\"datetime\", \"open\", \"close\", \"volume\"]\n",
    "    buckets[\"price_change\"] = buckets[\"close\"] - buckets[\"open\"]\n",
    "    buckets = buckets.reset_index()\n",
    "\n",
    "    return buckets, bucket_size"
   ]
  },
  {
   "cell_type": "code",
   "execution_count": 40,
   "metadata": {},
   "outputs": [],
   "source": [
    "def bulk_volume_classification(buckets, window=50):\n",
    "    \"\"\"\n",
    "    Implement Bulk Volume Classification (BVC) algorithm\n",
    "    from Easley, López de Prado, O'Hara (2012)\n",
    "    \"\"\"\n",
    "\n",
    "    buckets[\"ret\"] = np.log(buckets[\"close\"]).diff().fillna(0.0)\n",
    "    buckets[\"sigma\"] = buckets[\"ret\"].rolling(window, min_periods=10).std()\n",
    "    buckets[\"sigma\"] = buckets[\"sigma\"].fillna(method=\"bfill\")\n",
    "    buckets[\"sigma\"] = buckets[\"sigma\"].replace(0, np.nan).fillna(buckets[\"ret\"].std())\n",
    "    sigma_floor = 1e-6\n",
    "    buckets[\"z_score\"] = buckets[\"ret\"] / (buckets[\"sigma\"].clip(lower=sigma_floor))\n",
    "    buckets[\"buy_prob\"] = norm.cdf(buckets[\"z_score\"])\n",
    "    buckets[\"buy_volume\"] = buckets[\"volume\"] * buckets[\"buy_prob\"]\n",
    "    buckets[\"sell_volume\"] = buckets[\"volume\"] * (1 - buckets[\"buy_prob\"])\n",
    "\n",
    "    return buckets"
   ]
  },
  {
   "cell_type": "code",
   "execution_count": 41,
   "metadata": {},
   "outputs": [],
   "source": [
    "def calculate_academic_vpin(df, bucket_size_pct=0.01, vpin_window=50):\n",
    "    \"\"\"\n",
    "    Calculate VPIN using academic methodology with Rust module\n",
    "    \"\"\"\n",
    "    # Step 1: Create volume buckets\n",
    "    buckets, bucket_size = create_volume_buckets(df, bucket_size_pct)\n",
    "\n",
    "    # Step 2: Apply Bulk Volume Classification\n",
    "    buckets = bulk_volume_classification(buckets, window=vpin_window)\n",
    "    # after creating `buckets`\n",
    "\n",
    "    if len(buckets) <= 2:\n",
    "        raise ValueError(\"Too few buckets. Reduce bucket_size_pct.\")\n",
    "    if vpin_window >= len(buckets):\n",
    "        vpin_window = max(2, int(0.2 * len(buckets)))  # e.g., 20% of buckets\n",
    "\n",
    "    # Step 3: Calculate VPIN using Rust module on bucketed data\n",
    "    vpin_values = np.array(\n",
    "        ta.vpin(\n",
    "            buckets[\"buy_volume\"].values, buckets[\"sell_volume\"].values, vpin_window\n",
    "        )\n",
    "    )\n",
    "\n",
    "    buckets[\"vpin\"] = vpin_values\n",
    "\n",
    "    # Step 4: Map back to original timeframe\n",
    "    df[\"bucket_id\"] = (df[\"volume\"].cumsum() / bucket_size).astype(int)\n",
    "    vpin_map = dict(zip(buckets[\"bucket_id\"], vpin_values))\n",
    "    df[\"vpin\"] = df[\"bucket_id\"].map(vpin_map)\n",
    "\n",
    "    return df, buckets, vpin_values"
   ]
  },
  {
   "cell_type": "code",
   "execution_count": 42,
   "metadata": {},
   "outputs": [],
   "source": [
    "from scipy.stats import rankdata\n",
    "\n",
    "\n",
    "def calculate_vpin_cdf(vpin_values):\n",
    "    out = np.full_like(vpin_values, np.nan, dtype=float)\n",
    "    m = ~np.isnan(vpin_values)\n",
    "    if m.sum() == 0:\n",
    "        return out\n",
    "    ranks = rankdata(vpin_values[m], method=\"average\")  # 1..N\n",
    "    out[m] = ranks / (len(ranks) + 1.0)  # (0,1)\n",
    "    return out\n"
   ]
  },
  {
   "cell_type": "markdown",
   "metadata": {},
   "source": [
    "## Data Collection and VPIN Calculation"
   ]
  },
  {
   "cell_type": "code",
   "execution_count": 43,
   "metadata": {},
   "outputs": [
    {
     "name": "stdout",
     "output_type": "stream",
     "text": [
      "Fetching Bitcoin data...\n",
      "Data: 181 points from 2025-03-22 00:00:00 to 2025-09-17 01:59:52\n",
      "\n",
      "Calculating academic VPIN...\n",
      "Buckets: 181 volume-synchronized buckets\n",
      "Toxic events: 18 buckets with CDF > 0.9\n",
      "Smoothed-toxic events: 17 (len=181)\n"
     ]
    }
   ],
   "source": [
    "# Fetch real data\n",
    "print(\"Fetching Bitcoin data...\")\n",
    "data = cg.get_coin_market_chart_by_id(coin, vs_currency=\"usd\", days=days)\n",
    "\n",
    "df = pd.DataFrame(data[\"prices\"], columns=[\"timestamp\", \"price\"])\n",
    "df[\"volume\"] = pd.DataFrame(data[\"total_volumes\"])[1]\n",
    "df[\"datetime\"] = pd.to_datetime(df[\"timestamp\"], unit=\"ms\")\n",
    "df = df.sort_values(\"datetime\").reset_index(drop=True)\n",
    "\n",
    "print(f\"Data: {len(df)} points from {df['datetime'].min()} to {df['datetime'].max()}\")\n",
    "\n",
    "# Calculate academic VPIN\n",
    "print(\"\\nCalculating academic VPIN...\")\n",
    "df, buckets, vpin_raw = calculate_academic_vpin(df, bucket_size_pct=0.01)\n",
    "\n",
    "# Convert to CDF (toxicity metric)\n",
    "vpin_cdf = calculate_vpin_cdf(vpin_raw)\n",
    "buckets[\"vpin_cdf\"] = vpin_cdf\n",
    "THRESHOLD = 0.9\n",
    "\n",
    "# Identify toxicity events\n",
    "buckets[\"toxic_event\"] = vpin_cdf > THRESHOLD\n",
    "\n",
    "print(f\"Buckets: {len(buckets)} volume-synchronized buckets\")\n",
    "print(f\"Toxic events: {buckets['toxic_event'].sum()} buckets with CDF > 0.9\")\n",
    "\n",
    "# Smooth the *CDF* (toxicity metric)\n",
    "buckets[\"vpin_cdf_ssf\"] = ta.supersmoother(buckets[\"vpin_cdf\"].values, period=20)\n",
    "\n",
    "# (Optional) Smooth the raw VPIN too\n",
    "# buckets['vpin_raw_ssf'] = ehlers_supersmoother(pd.Series(vpin_raw, index=buckets.index), length=20, poles=2)\n",
    "\n",
    "# Recompute toxicity events on the smoothed series (tune threshold if desired)\n",
    "buckets[\"toxic_event_ssf\"] = buckets[\"vpin_cdf_ssf\"] > THRESHOLD\n",
    "\n",
    "print(f\"Smoothed-toxic events: {buckets['toxic_event_ssf'].sum()} (len={len(buckets)})\")\n"
   ]
  },
  {
   "cell_type": "markdown",
   "metadata": {},
   "source": [
    "## Visualization: Academic VPIN Analysis"
   ]
  },
  {
   "cell_type": "code",
   "execution_count": 44,
   "metadata": {},
   "outputs": [
    {
     "data": {
      "application/vnd.plotly.v1+json": {
       "config": {
        "plotlyServerURL": "https://plot.ly"
       },
       "data": [
        {
         "line": {
          "color": "lightblue",
          "width": 1
         },
         "name": "Price",
         "type": "scatter",
         "x": [
          "2025-03-22T00:00:00.000000000",
          "2025-03-23T00:00:00.000000000",
          "2025-03-24T00:00:00.000000000",
          "2025-03-25T00:00:00.000000000",
          "2025-03-26T00:00:00.000000000",
          "2025-03-27T00:00:00.000000000",
          "2025-03-28T00:00:00.000000000",
          "2025-03-29T00:00:00.000000000",
          "2025-03-30T00:00:00.000000000",
          "2025-03-31T00:00:00.000000000",
          "2025-04-01T00:00:00.000000000",
          "2025-04-02T00:00:00.000000000",
          "2025-04-03T00:00:00.000000000",
          "2025-04-04T00:00:00.000000000",
          "2025-04-05T00:00:00.000000000",
          "2025-04-06T00:00:00.000000000",
          "2025-04-07T00:00:00.000000000",
          "2025-04-08T00:00:00.000000000",
          "2025-04-09T00:00:00.000000000",
          "2025-04-10T00:00:00.000000000",
          "2025-04-11T00:00:00.000000000",
          "2025-04-12T00:00:00.000000000",
          "2025-04-13T00:00:00.000000000",
          "2025-04-14T00:00:00.000000000",
          "2025-04-15T00:00:00.000000000",
          "2025-04-16T00:00:00.000000000",
          "2025-04-17T00:00:00.000000000",
          "2025-04-18T00:00:00.000000000",
          "2025-04-19T00:00:00.000000000",
          "2025-04-20T00:00:00.000000000",
          "2025-04-21T00:00:00.000000000",
          "2025-04-22T00:00:00.000000000",
          "2025-04-23T00:00:00.000000000",
          "2025-04-24T00:00:00.000000000",
          "2025-04-25T00:00:00.000000000",
          "2025-04-26T00:00:00.000000000",
          "2025-04-27T00:00:00.000000000",
          "2025-04-28T00:00:00.000000000",
          "2025-04-29T00:00:00.000000000",
          "2025-04-30T00:00:00.000000000",
          "2025-05-01T00:00:00.000000000",
          "2025-05-02T00:00:00.000000000",
          "2025-05-03T00:00:00.000000000",
          "2025-05-04T00:00:00.000000000",
          "2025-05-05T00:00:00.000000000",
          "2025-05-06T00:00:00.000000000",
          "2025-05-07T00:00:00.000000000",
          "2025-05-08T00:00:00.000000000",
          "2025-05-09T00:00:00.000000000",
          "2025-05-10T00:00:00.000000000",
          "2025-05-11T00:00:00.000000000",
          "2025-05-12T00:00:00.000000000",
          "2025-05-13T00:00:00.000000000",
          "2025-05-14T00:00:00.000000000",
          "2025-05-15T00:00:00.000000000",
          "2025-05-16T00:00:00.000000000",
          "2025-05-17T00:00:00.000000000",
          "2025-05-18T00:00:00.000000000",
          "2025-05-19T00:00:00.000000000",
          "2025-05-20T00:00:00.000000000",
          "2025-05-21T00:00:00.000000000",
          "2025-05-22T00:00:00.000000000",
          "2025-05-23T00:00:00.000000000",
          "2025-05-24T00:00:00.000000000",
          "2025-05-25T00:00:00.000000000",
          "2025-05-26T00:00:00.000000000",
          "2025-05-27T00:00:00.000000000",
          "2025-05-28T00:00:00.000000000",
          "2025-05-29T00:00:00.000000000",
          "2025-05-30T00:00:00.000000000",
          "2025-05-31T00:00:00.000000000",
          "2025-06-01T00:00:00.000000000",
          "2025-06-02T00:00:00.000000000",
          "2025-06-03T00:00:00.000000000",
          "2025-06-04T00:00:00.000000000",
          "2025-06-05T00:00:00.000000000",
          "2025-06-06T00:00:00.000000000",
          "2025-06-07T00:00:00.000000000",
          "2025-06-08T00:00:00.000000000",
          "2025-06-09T00:00:00.000000000",
          "2025-06-10T00:00:00.000000000",
          "2025-06-11T00:00:00.000000000",
          "2025-06-12T00:00:00.000000000",
          "2025-06-13T00:00:00.000000000",
          "2025-06-14T00:00:00.000000000",
          "2025-06-15T00:00:00.000000000",
          "2025-06-16T00:00:00.000000000",
          "2025-06-17T00:00:00.000000000",
          "2025-06-18T00:00:00.000000000",
          "2025-06-19T00:00:00.000000000",
          "2025-06-20T00:00:00.000000000",
          "2025-06-21T00:00:00.000000000",
          "2025-06-22T00:00:00.000000000",
          "2025-06-23T00:00:00.000000000",
          "2025-06-24T00:00:00.000000000",
          "2025-06-25T00:00:00.000000000",
          "2025-06-26T00:00:00.000000000",
          "2025-06-27T00:00:00.000000000",
          "2025-06-28T00:00:00.000000000",
          "2025-06-29T00:00:00.000000000",
          "2025-06-30T00:00:00.000000000",
          "2025-07-01T00:00:00.000000000",
          "2025-07-02T00:00:00.000000000",
          "2025-07-03T00:00:00.000000000",
          "2025-07-04T00:00:00.000000000",
          "2025-07-05T00:00:00.000000000",
          "2025-07-06T00:00:00.000000000",
          "2025-07-07T00:00:00.000000000",
          "2025-07-08T00:00:00.000000000",
          "2025-07-09T00:00:00.000000000",
          "2025-07-10T00:00:00.000000000",
          "2025-07-11T00:00:00.000000000",
          "2025-07-12T00:00:00.000000000",
          "2025-07-13T00:00:00.000000000",
          "2025-07-14T00:00:00.000000000",
          "2025-07-15T00:00:00.000000000",
          "2025-07-16T00:00:00.000000000",
          "2025-07-17T00:00:00.000000000",
          "2025-07-18T00:00:00.000000000",
          "2025-07-19T00:00:00.000000000",
          "2025-07-20T00:00:00.000000000",
          "2025-07-21T00:00:00.000000000",
          "2025-07-22T00:00:00.000000000",
          "2025-07-23T00:00:00.000000000",
          "2025-07-24T00:00:00.000000000",
          "2025-07-25T00:00:00.000000000",
          "2025-07-26T00:00:00.000000000",
          "2025-07-27T00:00:00.000000000",
          "2025-07-28T00:00:00.000000000",
          "2025-07-29T00:00:00.000000000",
          "2025-07-30T00:00:00.000000000",
          "2025-07-31T00:00:00.000000000",
          "2025-08-01T00:00:00.000000000",
          "2025-08-02T00:00:00.000000000",
          "2025-08-03T00:00:00.000000000",
          "2025-08-04T00:00:00.000000000",
          "2025-08-05T00:00:00.000000000",
          "2025-08-06T00:00:00.000000000",
          "2025-08-07T00:00:00.000000000",
          "2025-08-08T00:00:00.000000000",
          "2025-08-09T00:00:00.000000000",
          "2025-08-10T00:00:00.000000000",
          "2025-08-11T00:00:00.000000000",
          "2025-08-12T00:00:00.000000000",
          "2025-08-13T00:00:00.000000000",
          "2025-08-14T00:00:00.000000000",
          "2025-08-15T00:00:00.000000000",
          "2025-08-16T00:00:00.000000000",
          "2025-08-17T00:00:00.000000000",
          "2025-08-18T00:00:00.000000000",
          "2025-08-19T00:00:00.000000000",
          "2025-08-20T00:00:00.000000000",
          "2025-08-21T00:00:00.000000000",
          "2025-08-22T00:00:00.000000000",
          "2025-08-23T00:00:00.000000000",
          "2025-08-24T00:00:00.000000000",
          "2025-08-25T00:00:00.000000000",
          "2025-08-26T00:00:00.000000000",
          "2025-08-27T00:00:00.000000000",
          "2025-08-28T00:00:00.000000000",
          "2025-08-29T00:00:00.000000000",
          "2025-08-30T00:00:00.000000000",
          "2025-08-31T00:00:00.000000000",
          "2025-09-01T00:00:00.000000000",
          "2025-09-02T00:00:00.000000000",
          "2025-09-03T00:00:00.000000000",
          "2025-09-04T00:00:00.000000000",
          "2025-09-05T00:00:00.000000000",
          "2025-09-06T00:00:00.000000000",
          "2025-09-07T00:00:00.000000000",
          "2025-09-08T00:00:00.000000000",
          "2025-09-09T00:00:00.000000000",
          "2025-09-10T00:00:00.000000000",
          "2025-09-11T00:00:00.000000000",
          "2025-09-12T00:00:00.000000000",
          "2025-09-13T00:00:00.000000000",
          "2025-09-14T00:00:00.000000000",
          "2025-09-15T00:00:00.000000000",
          "2025-09-16T00:00:00.000000000",
          "2025-09-17T00:00:00.000000000",
          "2025-09-17T01:59:52.000000000"
         ],
         "xaxis": "x",
         "y": {
          "bdata": "j9bUhpiC9EB4qMnvFHX0QPKjrFi78fRA82/WrPtR9UBVk7dXCV71QNZBVLANO/VACZxkWLRL9UB7vKiBd5j0QInTx8JyL/RA57kIGUYb9EBsUJt/ISX0QK7M1GZZz/RATiEjweYl9EAQRBrNv030QOTLWR/AePRAvugDK75o9ECnesC8NxjzQITEIK20VPNACXkZcpGi8kBFvIe54iv0QErOl7fFbvNAKxdjnPRe9EA3l3mOkdP0QOG/IR8NafRAqrhnPbei9ECptDvhh2z0QKnbgniciPRAjf+GiS689EA1hLQAHJ30QLnZXZlqyPRARmmtpRLF9EBiTXnAwFn1QDbOd6eC2PZAwBSoPFfa9kAYpRQHDev2QI1Cx8pRI/dAoD/bD0Eb90BynLVnFef2QN7jCbRpM/dAznZcwAUD90CoSo8NvAH3QJ/eoR+vivdAOxcUF3ml90BQnBDlLWv3QG78ge1pB/dAVh7rLW0i90D8AwaDaKX3QP4Fe+YnsPdAzH6saEQq+UCSKLalKCP5QNtDnBFui/lAT9dh/KBj+UA2gG9JzR35QAkGptiHb/lA4y7gz6ZK+UAGGzCfzVH5QLYPHY9ASPlAZkRh1sUy+UBeO/Mz6uL5QNl6IqfWyflAagnzhCsS+kAhIsjRHcb6QHPFBLaFPPtAhxl1sgot+kDUBeXRdVP6QIRWTvfck/pA++kucRu0+kAQxalPx6D6QL0X8PLiU/pAEoRoqhbR+UBDF4e2rmT5QKU8bh74jvlA/K5SGODO+UBVUNLhy9n5QJ8hpKOnvflAFjQGsc6W+UB9SPDRK9H4QPoGsP6bfflAloMZRhfN+UAyCGH1w835QPvbnzJZ6/pAcgpouEvo+kBBPhKef4j6QDfRFKqz3/lAZuLQB9nj+UBGy3N/rsD5QOfuuuYnxflADrQvWnQc+kC2XPnLto75QAnM7x4rkflA4CyAZiqP+UDLRKyuoTf5QPaWGhjJyfhAxx+FUkmf+ECHLnX9ecL5QOhO2BuB3/lATk+5fGgu+kBrylozgB76QHDwUqZuJPpALyMlXjk0+kA6NWvcyXb6QAdxJMnMJ/pA4XpXZdbI+UBwrZIbh5H6QP9nBUcjwvpAa+NiRY5g+kDOxvl+l2v6QKDF2inzqfpAZBTXd8tw+kCf6O0Rk5n6QEoWGn34LftABCeiZ3pK/ECgos9mMLT8QPkrt1GvqvxAbsAX6NgU/UDeCZ7KmkH9QL0ocx7juvxAfOCRmsL9/ECogeDXVSn9QJDDdCVPzvxAN71iBtrI/ECDIbC7jqD8QNuXNYSnrvxAf0s2uzxJ/UBly+PkUPb8QLtqefYm5fxAukcW70yy/EBAfXCteMz8QFFg9J+uJ/1AsM8O1TTP/EDfJ1/x1MX8QLTxpNqTxPxAcaT9CUA//EDWUqGuKaX7QNdr6W+uevtA8awvwXHh+0DOL2T6Khz8QP8IWaoF3ftArVlEiOEU/EAHsZiXd638QKxeud0FffxAnjnJV+Fx/EAyzn3NLh79QNNlMstc//xAUSbEjqhY/UDWn+7ljyr+QB28Y4hZ6PxAHpKhq7yl/EB/Tex206/8QLr02WNtsvxAyP+xmgZi/EBgSnKEpYj7QAxwX1zG5PtAHJ3hZeZx+0CY3OD9I4b8QC8MSLz/KfxADMiLxniv+0C7O8irleb6QPA0IVwrTvtAOltTWwEn+0BgU/qO2Xj7QDkFG+gEfPpA1g0EUd+O+kDuF1jG1W36QECnIviqpvpAlBHg6WIl+0Bw8wFR+EX7QD7CM8hLCPtA8azk5WIE+0B+IW0FE+j6QB0G0eC/IftA2dx8D5JZ+0AqoHQItzv7QKLFxDJ10/tANj6GqvIy/ECi+Y1LAlz8QMTGr1spUPxAJbKR49gq/EBVwSsLVCz8QGzJUJitgfxAprpIXN18/EA=",
          "dtype": "f8"
         },
         "yaxis": "y"
        },
        {
         "marker": {
          "color": [
           "red",
           "red",
           "green",
           "green",
           "green",
           "red",
           "green",
           "red",
           "red",
           "red",
           "green",
           "green",
           "red",
           "green",
           "green",
           "red",
           "red",
           "green",
           "red",
           "green",
           "red",
           "green",
           "green",
           "red",
           "green",
           "red",
           "green",
           "green",
           "red",
           "green",
           "red",
           "green",
           "green",
           "green",
           "green",
           "green",
           "red",
           "red",
           "green",
           "red",
           "red",
           "green",
           "green",
           "red",
           "red",
           "green",
           "green",
           "green",
           "green",
           "red",
           "green",
           "red",
           "red",
           "green",
           "red",
           "green",
           "red",
           "red",
           "green",
           "red",
           "green",
           "green",
           "green",
           "red",
           "green",
           "green",
           "green",
           "red",
           "red",
           "red",
           "red",
           "green",
           "green",
           "green",
           "red",
           "red",
           "red",
           "green",
           "green",
           "green",
           "green",
           "red",
           "red",
           "red",
           "green",
           "red",
           "green",
           "green",
           "red",
           "green",
           "red",
           "red",
           "red",
           "red",
           "green",
           "green",
           "green",
           "red",
           "green",
           "green",
           "green",
           "red",
           "red",
           "green",
           "green",
           "red",
           "green",
           "green",
           "red",
           "green",
           "green",
           "green",
           "green",
           "red",
           "green",
           "green",
           "red",
           "green",
           "green",
           "red",
           "red",
           "red",
           "green",
           "green",
           "red",
           "red",
           "red",
           "green",
           "green",
           "red",
           "red",
           "red",
           "red",
           "red",
           "red",
           "green",
           "green",
           "red",
           "green",
           "green",
           "red",
           "red",
           "green",
           "red",
           "green",
           "green",
           "red",
           "red",
           "green",
           "green",
           "red",
           "red",
           "green",
           "red",
           "green",
           "red",
           "red",
           "red",
           "green",
           "red",
           "green",
           "red",
           "green",
           "red",
           "green",
           "green",
           "green",
           "red",
           "red",
           "red",
           "green",
           "green",
           "red",
           "green",
           "green",
           "green",
           "red",
           "red",
           "green",
           "green",
           "red"
          ]
         },
         "name": "Volume Imbalance",
         "opacity": 0.6,
         "showlegend": false,
         "type": "bar",
         "x": [
          "2025-03-22T00:00:00.000000000",
          "2025-03-23T00:00:00.000000000",
          "2025-03-24T00:00:00.000000000",
          "2025-03-25T00:00:00.000000000",
          "2025-03-26T00:00:00.000000000",
          "2025-03-27T00:00:00.000000000",
          "2025-03-28T00:00:00.000000000",
          "2025-03-29T00:00:00.000000000",
          "2025-03-30T00:00:00.000000000",
          "2025-03-31T00:00:00.000000000",
          "2025-04-01T00:00:00.000000000",
          "2025-04-02T00:00:00.000000000",
          "2025-04-03T00:00:00.000000000",
          "2025-04-04T00:00:00.000000000",
          "2025-04-05T00:00:00.000000000",
          "2025-04-06T00:00:00.000000000",
          "2025-04-07T00:00:00.000000000",
          "2025-04-08T00:00:00.000000000",
          "2025-04-09T00:00:00.000000000",
          "2025-04-10T00:00:00.000000000",
          "2025-04-11T00:00:00.000000000",
          "2025-04-12T00:00:00.000000000",
          "2025-04-13T00:00:00.000000000",
          "2025-04-14T00:00:00.000000000",
          "2025-04-15T00:00:00.000000000",
          "2025-04-16T00:00:00.000000000",
          "2025-04-17T00:00:00.000000000",
          "2025-04-18T00:00:00.000000000",
          "2025-04-19T00:00:00.000000000",
          "2025-04-20T00:00:00.000000000",
          "2025-04-21T00:00:00.000000000",
          "2025-04-22T00:00:00.000000000",
          "2025-04-23T00:00:00.000000000",
          "2025-04-24T00:00:00.000000000",
          "2025-04-25T00:00:00.000000000",
          "2025-04-26T00:00:00.000000000",
          "2025-04-27T00:00:00.000000000",
          "2025-04-28T00:00:00.000000000",
          "2025-04-29T00:00:00.000000000",
          "2025-04-30T00:00:00.000000000",
          "2025-05-01T00:00:00.000000000",
          "2025-05-02T00:00:00.000000000",
          "2025-05-03T00:00:00.000000000",
          "2025-05-04T00:00:00.000000000",
          "2025-05-05T00:00:00.000000000",
          "2025-05-06T00:00:00.000000000",
          "2025-05-07T00:00:00.000000000",
          "2025-05-08T00:00:00.000000000",
          "2025-05-09T00:00:00.000000000",
          "2025-05-10T00:00:00.000000000",
          "2025-05-11T00:00:00.000000000",
          "2025-05-12T00:00:00.000000000",
          "2025-05-13T00:00:00.000000000",
          "2025-05-14T00:00:00.000000000",
          "2025-05-15T00:00:00.000000000",
          "2025-05-16T00:00:00.000000000",
          "2025-05-17T00:00:00.000000000",
          "2025-05-18T00:00:00.000000000",
          "2025-05-19T00:00:00.000000000",
          "2025-05-20T00:00:00.000000000",
          "2025-05-21T00:00:00.000000000",
          "2025-05-22T00:00:00.000000000",
          "2025-05-23T00:00:00.000000000",
          "2025-05-24T00:00:00.000000000",
          "2025-05-25T00:00:00.000000000",
          "2025-05-26T00:00:00.000000000",
          "2025-05-27T00:00:00.000000000",
          "2025-05-28T00:00:00.000000000",
          "2025-05-29T00:00:00.000000000",
          "2025-05-30T00:00:00.000000000",
          "2025-05-31T00:00:00.000000000",
          "2025-06-01T00:00:00.000000000",
          "2025-06-02T00:00:00.000000000",
          "2025-06-03T00:00:00.000000000",
          "2025-06-04T00:00:00.000000000",
          "2025-06-05T00:00:00.000000000",
          "2025-06-06T00:00:00.000000000",
          "2025-06-07T00:00:00.000000000",
          "2025-06-08T00:00:00.000000000",
          "2025-06-09T00:00:00.000000000",
          "2025-06-10T00:00:00.000000000",
          "2025-06-11T00:00:00.000000000",
          "2025-06-12T00:00:00.000000000",
          "2025-06-13T00:00:00.000000000",
          "2025-06-14T00:00:00.000000000",
          "2025-06-15T00:00:00.000000000",
          "2025-06-16T00:00:00.000000000",
          "2025-06-17T00:00:00.000000000",
          "2025-06-18T00:00:00.000000000",
          "2025-06-19T00:00:00.000000000",
          "2025-06-20T00:00:00.000000000",
          "2025-06-21T00:00:00.000000000",
          "2025-06-22T00:00:00.000000000",
          "2025-06-23T00:00:00.000000000",
          "2025-06-24T00:00:00.000000000",
          "2025-06-25T00:00:00.000000000",
          "2025-06-26T00:00:00.000000000",
          "2025-06-27T00:00:00.000000000",
          "2025-06-28T00:00:00.000000000",
          "2025-06-29T00:00:00.000000000",
          "2025-06-30T00:00:00.000000000",
          "2025-07-01T00:00:00.000000000",
          "2025-07-02T00:00:00.000000000",
          "2025-07-03T00:00:00.000000000",
          "2025-07-04T00:00:00.000000000",
          "2025-07-05T00:00:00.000000000",
          "2025-07-06T00:00:00.000000000",
          "2025-07-07T00:00:00.000000000",
          "2025-07-08T00:00:00.000000000",
          "2025-07-09T00:00:00.000000000",
          "2025-07-10T00:00:00.000000000",
          "2025-07-11T00:00:00.000000000",
          "2025-07-12T00:00:00.000000000",
          "2025-07-13T00:00:00.000000000",
          "2025-07-14T00:00:00.000000000",
          "2025-07-15T00:00:00.000000000",
          "2025-07-16T00:00:00.000000000",
          "2025-07-17T00:00:00.000000000",
          "2025-07-18T00:00:00.000000000",
          "2025-07-19T00:00:00.000000000",
          "2025-07-20T00:00:00.000000000",
          "2025-07-21T00:00:00.000000000",
          "2025-07-22T00:00:00.000000000",
          "2025-07-23T00:00:00.000000000",
          "2025-07-24T00:00:00.000000000",
          "2025-07-25T00:00:00.000000000",
          "2025-07-26T00:00:00.000000000",
          "2025-07-27T00:00:00.000000000",
          "2025-07-28T00:00:00.000000000",
          "2025-07-29T00:00:00.000000000",
          "2025-07-30T00:00:00.000000000",
          "2025-07-31T00:00:00.000000000",
          "2025-08-01T00:00:00.000000000",
          "2025-08-02T00:00:00.000000000",
          "2025-08-03T00:00:00.000000000",
          "2025-08-04T00:00:00.000000000",
          "2025-08-05T00:00:00.000000000",
          "2025-08-06T00:00:00.000000000",
          "2025-08-07T00:00:00.000000000",
          "2025-08-08T00:00:00.000000000",
          "2025-08-09T00:00:00.000000000",
          "2025-08-10T00:00:00.000000000",
          "2025-08-11T00:00:00.000000000",
          "2025-08-12T00:00:00.000000000",
          "2025-08-13T00:00:00.000000000",
          "2025-08-14T00:00:00.000000000",
          "2025-08-15T00:00:00.000000000",
          "2025-08-16T00:00:00.000000000",
          "2025-08-17T00:00:00.000000000",
          "2025-08-18T00:00:00.000000000",
          "2025-08-19T00:00:00.000000000",
          "2025-08-20T00:00:00.000000000",
          "2025-08-21T00:00:00.000000000",
          "2025-08-22T00:00:00.000000000",
          "2025-08-23T00:00:00.000000000",
          "2025-08-24T00:00:00.000000000",
          "2025-08-25T00:00:00.000000000",
          "2025-08-26T00:00:00.000000000",
          "2025-08-27T00:00:00.000000000",
          "2025-08-28T00:00:00.000000000",
          "2025-08-29T00:00:00.000000000",
          "2025-08-30T00:00:00.000000000",
          "2025-08-31T00:00:00.000000000",
          "2025-09-01T00:00:00.000000000",
          "2025-09-02T00:00:00.000000000",
          "2025-09-03T00:00:00.000000000",
          "2025-09-04T00:00:00.000000000",
          "2025-09-05T00:00:00.000000000",
          "2025-09-06T00:00:00.000000000",
          "2025-09-07T00:00:00.000000000",
          "2025-09-08T00:00:00.000000000",
          "2025-09-09T00:00:00.000000000",
          "2025-09-10T00:00:00.000000000",
          "2025-09-11T00:00:00.000000000",
          "2025-09-12T00:00:00.000000000",
          "2025-09-13T00:00:00.000000000",
          "2025-09-14T00:00:00.000000000",
          "2025-09-15T00:00:00.000000000",
          "2025-09-16T00:00:00.000000000",
          "2025-09-17T00:00:00.000000000",
          "2025-09-17T01:59:52.000000000"
         ],
         "xaxis": "x2",
         "y": {
          "bdata": "AAAAAAAAAADkbs1S/tzMwUBHS+dU7ANCz7K8EIFQEkIgsgWSeiboQchMpjSq4vzBcN7oHgcX60FcY7ccU0McwuS3j5j9bwjC5Lc1WKLT4sHwGMr1/wHmQYmyEKvWShlCpME+uGZ8I8J0a3mLNpcFQtl9P4JxCwdC/AiJK/x13sHOVScjXMAgwmCq+qXURR9ChVSox3eII8KDA0hMyjA0QuHlVzc0Gh7CQtgWLPIZIEISiKdHbfcFQqBfCeEXTgrC401T0sOnAUJs2L5DzJj5wXCdhF2Yi+1BTOiTtHBd80FoL8XSM7bXwZjHhryxB+ZBoHp/x+n0q8HsGGZfR90ZQsAZN+pWlShCgAs1aqjOtEEwvteXgBTiQUmT/3xRuwNCIGfGbH9JwsFASoaLOXXuwees3PWHEwZCBPSPosJp98EA3dC5nh+lwVBudeTLiRFCuPioZj3G50E4fSP0M3DuwYKVVreiUvvBmCuONbv56UGWTdxKqvAKQuBgfNLFe+tBbLRRDi/aJkJAhrXHePzUwbJDSJBM5QJCLq91wjo+88FnhlD+SVEKwvV+nVH79wdCJEn3qsak8sGAmfAmUGXQQWAsznoJztHBdGCiNJ3x3cHoZ3zZSKMUQhjk5qbDivPBpDi8v1HuBkLg1OQyO0UkQqLFT76XShlCb2Gg6vJUJMIY5UJCVzfyQf0HmIOcUwBCXPtZHBQW8UFQ5Ksl0qPswafXC7FJugXCupakfbIdGMLYmoC2zJ4WwnmD1UM5NfVBuK1O40gX+0Fgze6jLjDdQbxUZjF2YPLBxLe/qAFA+cGfWkc/qL4gwjSdZnn7rBdC/ssCxUgOAEIAyKkHHcmQQSDUkzQISyFCQEgovQUSxMEM5OqAL7sQwpAARzBOeBzCgJKEfDQr1UFsLRhEegvwwSDuZ89SwL5BJKYfO6J2EEKFS6M0EOQbwgDe+KLQyb5BgOBFL1TqrcEmCc7gfvEPwmgViDG6/QrCCNIrPuBmDMIEd7C1CvMmQtj2zOOsLvZBRvfKHw1aC0KcMi/cI7DiwTBUCM/6UNBBrKl37pLCzkE8Yna6KGr5QVXvieTaMAbCVe/C78XeDMLKoo7ww2YfQm7DOzhNWQJC9OvCAj5QC8LAhNZF2hLHQZ79tSMCg/ZBxOk1m+p2AsKkV8IZGqL1QQIlXsa7sRtCCNniu+mjKUKrY7GcSe0hQmh6noS4HNfBJIBEOSKnD0JMpAKx2nUSQiwpft71PyvC5gNgd/WGE0KcCUejHpEJQpJG4MmjJB7CkFQvk5hDysF8s2NpwEICwphLO85uefBBG94uMtP2JUKIHSRWNjsVwrjAON4g3/XBNVQ/rFEOHcKkIB3shj/xQelQq1kSTRBCbC7wkF6yFsIYRPFrRKnmwUA+dk9earjBdj+gWADEIMIbKR35daAqwvaVAAt5YwTCOEks6mySD0K/ZbcUawgKQpeli5DF8Q/CxqrwkoooCUIaHxk1qJkeQv4k8kkM3AXCZC2s0oqt4cE+UrqXtigfQk7dk0MLdArCY4JVRi5EHELJ0TV076grQieIGdnkHjHClusnU03dEsJgLcq6SYPZQcDtkX2bt7dBZt3j2B/KF8Jc8RpzzG0kwgTF7KuBmhdC43SjS/l2FcIT/gRmplInQiowhxOHQA3CjqvdBrL7GsK8o9Ihfo4mwk5/SWazMRlCh32WOY8iAsJ673wY66EQQqaT2+rzeyfCmA3WwmNM7EEGBS3/7xf3wfTAfrkL3g9Ce/8S8etcIUJGWIY8Cv/+QcnQLGBxNg7CoBTuiO5118HYPk+SgzXtwURVJSdWYQBC5f8aogNqCkLiNNDMSbUBwu9eS5oG6iNCjKkFJOgOGEIc34vVcyYKQthUBiPhDOLBOPjt2Cge+cGADEdjfZS8QW5nqcIA9hNCYMumrVJz08E=",
          "dtype": "f8"
         },
         "yaxis": "y2"
        },
        {
         "line": {
          "color": "orange",
          "width": 2
         },
         "name": "VPIN",
         "type": "scatter",
         "x": [
          "2025-03-22T00:00:00.000000000",
          "2025-03-23T00:00:00.000000000",
          "2025-03-24T00:00:00.000000000",
          "2025-03-25T00:00:00.000000000",
          "2025-03-26T00:00:00.000000000",
          "2025-03-27T00:00:00.000000000",
          "2025-03-28T00:00:00.000000000",
          "2025-03-29T00:00:00.000000000",
          "2025-03-30T00:00:00.000000000",
          "2025-03-31T00:00:00.000000000",
          "2025-04-01T00:00:00.000000000",
          "2025-04-02T00:00:00.000000000",
          "2025-04-03T00:00:00.000000000",
          "2025-04-04T00:00:00.000000000",
          "2025-04-05T00:00:00.000000000",
          "2025-04-06T00:00:00.000000000",
          "2025-04-07T00:00:00.000000000",
          "2025-04-08T00:00:00.000000000",
          "2025-04-09T00:00:00.000000000",
          "2025-04-10T00:00:00.000000000",
          "2025-04-11T00:00:00.000000000",
          "2025-04-12T00:00:00.000000000",
          "2025-04-13T00:00:00.000000000",
          "2025-04-14T00:00:00.000000000",
          "2025-04-15T00:00:00.000000000",
          "2025-04-16T00:00:00.000000000",
          "2025-04-17T00:00:00.000000000",
          "2025-04-18T00:00:00.000000000",
          "2025-04-19T00:00:00.000000000",
          "2025-04-20T00:00:00.000000000",
          "2025-04-21T00:00:00.000000000",
          "2025-04-22T00:00:00.000000000",
          "2025-04-23T00:00:00.000000000",
          "2025-04-24T00:00:00.000000000",
          "2025-04-25T00:00:00.000000000",
          "2025-04-26T00:00:00.000000000",
          "2025-04-27T00:00:00.000000000",
          "2025-04-28T00:00:00.000000000",
          "2025-04-29T00:00:00.000000000",
          "2025-04-30T00:00:00.000000000",
          "2025-05-01T00:00:00.000000000",
          "2025-05-02T00:00:00.000000000",
          "2025-05-03T00:00:00.000000000",
          "2025-05-04T00:00:00.000000000",
          "2025-05-05T00:00:00.000000000",
          "2025-05-06T00:00:00.000000000",
          "2025-05-07T00:00:00.000000000",
          "2025-05-08T00:00:00.000000000",
          "2025-05-09T00:00:00.000000000",
          "2025-05-10T00:00:00.000000000",
          "2025-05-11T00:00:00.000000000",
          "2025-05-12T00:00:00.000000000",
          "2025-05-13T00:00:00.000000000",
          "2025-05-14T00:00:00.000000000",
          "2025-05-15T00:00:00.000000000",
          "2025-05-16T00:00:00.000000000",
          "2025-05-17T00:00:00.000000000",
          "2025-05-18T00:00:00.000000000",
          "2025-05-19T00:00:00.000000000",
          "2025-05-20T00:00:00.000000000",
          "2025-05-21T00:00:00.000000000",
          "2025-05-22T00:00:00.000000000",
          "2025-05-23T00:00:00.000000000",
          "2025-05-24T00:00:00.000000000",
          "2025-05-25T00:00:00.000000000",
          "2025-05-26T00:00:00.000000000",
          "2025-05-27T00:00:00.000000000",
          "2025-05-28T00:00:00.000000000",
          "2025-05-29T00:00:00.000000000",
          "2025-05-30T00:00:00.000000000",
          "2025-05-31T00:00:00.000000000",
          "2025-06-01T00:00:00.000000000",
          "2025-06-02T00:00:00.000000000",
          "2025-06-03T00:00:00.000000000",
          "2025-06-04T00:00:00.000000000",
          "2025-06-05T00:00:00.000000000",
          "2025-06-06T00:00:00.000000000",
          "2025-06-07T00:00:00.000000000",
          "2025-06-08T00:00:00.000000000",
          "2025-06-09T00:00:00.000000000",
          "2025-06-10T00:00:00.000000000",
          "2025-06-11T00:00:00.000000000",
          "2025-06-12T00:00:00.000000000",
          "2025-06-13T00:00:00.000000000",
          "2025-06-14T00:00:00.000000000",
          "2025-06-15T00:00:00.000000000",
          "2025-06-16T00:00:00.000000000",
          "2025-06-17T00:00:00.000000000",
          "2025-06-18T00:00:00.000000000",
          "2025-06-19T00:00:00.000000000",
          "2025-06-20T00:00:00.000000000",
          "2025-06-21T00:00:00.000000000",
          "2025-06-22T00:00:00.000000000",
          "2025-06-23T00:00:00.000000000",
          "2025-06-24T00:00:00.000000000",
          "2025-06-25T00:00:00.000000000",
          "2025-06-26T00:00:00.000000000",
          "2025-06-27T00:00:00.000000000",
          "2025-06-28T00:00:00.000000000",
          "2025-06-29T00:00:00.000000000",
          "2025-06-30T00:00:00.000000000",
          "2025-07-01T00:00:00.000000000",
          "2025-07-02T00:00:00.000000000",
          "2025-07-03T00:00:00.000000000",
          "2025-07-04T00:00:00.000000000",
          "2025-07-05T00:00:00.000000000",
          "2025-07-06T00:00:00.000000000",
          "2025-07-07T00:00:00.000000000",
          "2025-07-08T00:00:00.000000000",
          "2025-07-09T00:00:00.000000000",
          "2025-07-10T00:00:00.000000000",
          "2025-07-11T00:00:00.000000000",
          "2025-07-12T00:00:00.000000000",
          "2025-07-13T00:00:00.000000000",
          "2025-07-14T00:00:00.000000000",
          "2025-07-15T00:00:00.000000000",
          "2025-07-16T00:00:00.000000000",
          "2025-07-17T00:00:00.000000000",
          "2025-07-18T00:00:00.000000000",
          "2025-07-19T00:00:00.000000000",
          "2025-07-20T00:00:00.000000000",
          "2025-07-21T00:00:00.000000000",
          "2025-07-22T00:00:00.000000000",
          "2025-07-23T00:00:00.000000000",
          "2025-07-24T00:00:00.000000000",
          "2025-07-25T00:00:00.000000000",
          "2025-07-26T00:00:00.000000000",
          "2025-07-27T00:00:00.000000000",
          "2025-07-28T00:00:00.000000000",
          "2025-07-29T00:00:00.000000000",
          "2025-07-30T00:00:00.000000000",
          "2025-07-31T00:00:00.000000000",
          "2025-08-01T00:00:00.000000000",
          "2025-08-02T00:00:00.000000000",
          "2025-08-03T00:00:00.000000000",
          "2025-08-04T00:00:00.000000000",
          "2025-08-05T00:00:00.000000000",
          "2025-08-06T00:00:00.000000000",
          "2025-08-07T00:00:00.000000000",
          "2025-08-08T00:00:00.000000000",
          "2025-08-09T00:00:00.000000000",
          "2025-08-10T00:00:00.000000000",
          "2025-08-11T00:00:00.000000000",
          "2025-08-12T00:00:00.000000000",
          "2025-08-13T00:00:00.000000000",
          "2025-08-14T00:00:00.000000000",
          "2025-08-15T00:00:00.000000000",
          "2025-08-16T00:00:00.000000000",
          "2025-08-17T00:00:00.000000000",
          "2025-08-18T00:00:00.000000000",
          "2025-08-19T00:00:00.000000000",
          "2025-08-20T00:00:00.000000000",
          "2025-08-21T00:00:00.000000000",
          "2025-08-22T00:00:00.000000000",
          "2025-08-23T00:00:00.000000000",
          "2025-08-24T00:00:00.000000000",
          "2025-08-25T00:00:00.000000000",
          "2025-08-26T00:00:00.000000000",
          "2025-08-27T00:00:00.000000000",
          "2025-08-28T00:00:00.000000000",
          "2025-08-29T00:00:00.000000000",
          "2025-08-30T00:00:00.000000000",
          "2025-08-31T00:00:00.000000000",
          "2025-09-01T00:00:00.000000000",
          "2025-09-02T00:00:00.000000000",
          "2025-09-03T00:00:00.000000000",
          "2025-09-04T00:00:00.000000000",
          "2025-09-05T00:00:00.000000000",
          "2025-09-06T00:00:00.000000000",
          "2025-09-07T00:00:00.000000000",
          "2025-09-08T00:00:00.000000000",
          "2025-09-09T00:00:00.000000000",
          "2025-09-10T00:00:00.000000000",
          "2025-09-11T00:00:00.000000000",
          "2025-09-12T00:00:00.000000000",
          "2025-09-13T00:00:00.000000000",
          "2025-09-14T00:00:00.000000000",
          "2025-09-15T00:00:00.000000000",
          "2025-09-16T00:00:00.000000000",
          "2025-09-17T00:00:00.000000000",
          "2025-09-17T01:59:52.000000000"
         ],
         "xaxis": "x3",
         "y": {
          "bdata": "AAAAAAAAAAAAAAAAAAAAAAAAAAAAAAAAAAAAAAAAAAAAAAAAAAAAAAAAAAAAAAAAAAAAAAAAAAAAAAAAAAAAAAAAAAAAAAAAAAAAAAAAAAAAAAAAAAAAAAAAAAAAAAAAAAAAAAAAAAAAAAAAAAAAAAAAAAAAAAAAAAAAAAAAAAAAAAAAAAAAAAAAAAAAAAAAAAAAAAAAAAAAAAAAAAAAAAAAAAAAAAAAAAAAAAAAAAAAAAAAAAAAAAAAAAAAAAAAAAAAAAAAAAAAAAAAAAAAAAAAAAAAAAAAAAAAAAAAAAAAAAAAAAAAAAAAAAAAAAAAAAAAAAAAAAAAAAAAAAAAAAAAAAAAAAAAAAAAAAAAAAAAAAAAAAAAAAAAAAAAAAAAAAAAAAAAAAAAAAAAAAAAAAAAAAAAAAAAAAAAAAAAAAAAAAAAAAAAAAAAAAAAAAAAAAAAAAAAAAAAAAAAAAAAAAAAAAAAAAAAAAAAAAAAAAAAAAAAAAAAAAAAAAAAAAAAAAAAAAAAAAAAAAAAAAAAAOdvVR7iZ8M/fRAZe6TQwj99zpqtgXLAP1O56ZUdqr8/aBIq8/Rfvj/8ennyAq2/Px47X45C4L4/y9LWSTbawT9wowUZCYbEP3lGQwe87sM/81K3uXmXxD/IxTn4y3XFP8kteKuMq8o/wNSj8d1Exj+o4oLUf8/FP8pTeSlkcMY/LM9ZJayiyT/T9ssy92XHPz8iMjY1Dco/CScFzmWwwT9OtvBmmFzCP9SE0YWiNMA/IxFIcMfCvz/zKHj6Wz3BP8nboveQHsA/NOpoHZkewD95TF9n31+5P9evMCS6hbw/fgmDZmwKvj+d9Ot+VIG9P78TrK4Xg8E/GraRZg6Jvj8DFcRYVHOzP65hdYxl46w/GlFdyHg1rD/Zuch+KLenP31318tuEag/6oM76kPfrj9xELI2ZUKhPzMajh8TZqM/DNO+3496oz/ImyqqiV2PP2Z+0TCtBHE/Ix/u4J42Zz+ceu0lRhmgPwyUnGD/yKA/JOOt1wXIoD84u9usQH6eP+2d72b7FDY/CwMaynQOXz/x9qmmxo4sPyoG3hKxmXI/6lV/Ma90dj8q9358iGqAP50AlfRhCJI/joLHb3iLfj/aYTzu7xOCP61fEaO0+4w/bByNWmmYfD/aA7l2XjI1PwzKcbX6lIg/CSH6wV1ElD9e1ccrx9mbP29/ca5wyKw/Lsx9rqd9sD/Rt2ccx+6xP1jK3NHOE5w/qef1BDT9pT/fNm9bN9ytP4pOpIh7bqs/V7nD3UWXsT+OwGNn5eytP4VLn/LyhKw/zIzmGpbftD//anSRwvGxPxYtYD2izrE/Iz/xNAz5sT8pUVB5/AiuP4z9Y8LXL7A/GcQe7X36qD8VNLd4ni6bP005H0nJOps/CUxEJ+z1kD8KebRS+tJgP1QELEOk3HI/1b+E0I4KfD/3couhmJqMP2YZdDZS0nI/te8/2uEGkz+kl/tl8EWiPzO+aXiuDp4/2vfiFkIMoz/CugtJjMCvP68iJ6y3268/gKzpGPDZqj9YEbgXID+0P6+t9x/L6aA/SVDSk+pymD/ogdEUs8mYP/l5H3/bUZg/ZBCaEuskfz9R27H+yCGAP6clAAKx9oc/3MfWf7ykjz8SR5lgwOluP7ZiGHk41Wo/HvjbiHHPhT9DUVXxsSSiPyZNQcYWyZI/chs2CVbUmT+rKDtz9lufP4fljS3YFbQ/6HrIMwWDuD9SUonE/Qm5P2wulISc2Lg/T24MuQ8Atz9m8qHi+9uuP82krR7/A7Q/S8rQDEvMtT/1SHq9C7eyP/cf4fVkirE/khrsMCQsrT91wn7/wU6wP/+GWah557A/xjdwrJHQpT8HIwZIf+agP8vyWU0lLJQ/RWxptPbxmT/6C71g3imhP7Rr1OTEb4Y/XxSxCxq2hD8=",
          "dtype": "f8"
         },
         "yaxis": "y3"
        },
        {
         "fill": "tozeroy",
         "line": {
          "color": "purple",
          "width": 2
         },
         "name": "Toxicity Probability",
         "type": "scatter",
         "x": [
          "2025-03-22T00:00:00.000000000",
          "2025-03-23T00:00:00.000000000",
          "2025-03-24T00:00:00.000000000",
          "2025-03-25T00:00:00.000000000",
          "2025-03-26T00:00:00.000000000",
          "2025-03-27T00:00:00.000000000",
          "2025-03-28T00:00:00.000000000",
          "2025-03-29T00:00:00.000000000",
          "2025-03-30T00:00:00.000000000",
          "2025-03-31T00:00:00.000000000",
          "2025-04-01T00:00:00.000000000",
          "2025-04-02T00:00:00.000000000",
          "2025-04-03T00:00:00.000000000",
          "2025-04-04T00:00:00.000000000",
          "2025-04-05T00:00:00.000000000",
          "2025-04-06T00:00:00.000000000",
          "2025-04-07T00:00:00.000000000",
          "2025-04-08T00:00:00.000000000",
          "2025-04-09T00:00:00.000000000",
          "2025-04-10T00:00:00.000000000",
          "2025-04-11T00:00:00.000000000",
          "2025-04-12T00:00:00.000000000",
          "2025-04-13T00:00:00.000000000",
          "2025-04-14T00:00:00.000000000",
          "2025-04-15T00:00:00.000000000",
          "2025-04-16T00:00:00.000000000",
          "2025-04-17T00:00:00.000000000",
          "2025-04-18T00:00:00.000000000",
          "2025-04-19T00:00:00.000000000",
          "2025-04-20T00:00:00.000000000",
          "2025-04-21T00:00:00.000000000",
          "2025-04-22T00:00:00.000000000",
          "2025-04-23T00:00:00.000000000",
          "2025-04-24T00:00:00.000000000",
          "2025-04-25T00:00:00.000000000",
          "2025-04-26T00:00:00.000000000",
          "2025-04-27T00:00:00.000000000",
          "2025-04-28T00:00:00.000000000",
          "2025-04-29T00:00:00.000000000",
          "2025-04-30T00:00:00.000000000",
          "2025-05-01T00:00:00.000000000",
          "2025-05-02T00:00:00.000000000",
          "2025-05-03T00:00:00.000000000",
          "2025-05-04T00:00:00.000000000",
          "2025-05-05T00:00:00.000000000",
          "2025-05-06T00:00:00.000000000",
          "2025-05-07T00:00:00.000000000",
          "2025-05-08T00:00:00.000000000",
          "2025-05-09T00:00:00.000000000",
          "2025-05-10T00:00:00.000000000",
          "2025-05-11T00:00:00.000000000",
          "2025-05-12T00:00:00.000000000",
          "2025-05-13T00:00:00.000000000",
          "2025-05-14T00:00:00.000000000",
          "2025-05-15T00:00:00.000000000",
          "2025-05-16T00:00:00.000000000",
          "2025-05-17T00:00:00.000000000",
          "2025-05-18T00:00:00.000000000",
          "2025-05-19T00:00:00.000000000",
          "2025-05-20T00:00:00.000000000",
          "2025-05-21T00:00:00.000000000",
          "2025-05-22T00:00:00.000000000",
          "2025-05-23T00:00:00.000000000",
          "2025-05-24T00:00:00.000000000",
          "2025-05-25T00:00:00.000000000",
          "2025-05-26T00:00:00.000000000",
          "2025-05-27T00:00:00.000000000",
          "2025-05-28T00:00:00.000000000",
          "2025-05-29T00:00:00.000000000",
          "2025-05-30T00:00:00.000000000",
          "2025-05-31T00:00:00.000000000",
          "2025-06-01T00:00:00.000000000",
          "2025-06-02T00:00:00.000000000",
          "2025-06-03T00:00:00.000000000",
          "2025-06-04T00:00:00.000000000",
          "2025-06-05T00:00:00.000000000",
          "2025-06-06T00:00:00.000000000",
          "2025-06-07T00:00:00.000000000",
          "2025-06-08T00:00:00.000000000",
          "2025-06-09T00:00:00.000000000",
          "2025-06-10T00:00:00.000000000",
          "2025-06-11T00:00:00.000000000",
          "2025-06-12T00:00:00.000000000",
          "2025-06-13T00:00:00.000000000",
          "2025-06-14T00:00:00.000000000",
          "2025-06-15T00:00:00.000000000",
          "2025-06-16T00:00:00.000000000",
          "2025-06-17T00:00:00.000000000",
          "2025-06-18T00:00:00.000000000",
          "2025-06-19T00:00:00.000000000",
          "2025-06-20T00:00:00.000000000",
          "2025-06-21T00:00:00.000000000",
          "2025-06-22T00:00:00.000000000",
          "2025-06-23T00:00:00.000000000",
          "2025-06-24T00:00:00.000000000",
          "2025-06-25T00:00:00.000000000",
          "2025-06-26T00:00:00.000000000",
          "2025-06-27T00:00:00.000000000",
          "2025-06-28T00:00:00.000000000",
          "2025-06-29T00:00:00.000000000",
          "2025-06-30T00:00:00.000000000",
          "2025-07-01T00:00:00.000000000",
          "2025-07-02T00:00:00.000000000",
          "2025-07-03T00:00:00.000000000",
          "2025-07-04T00:00:00.000000000",
          "2025-07-05T00:00:00.000000000",
          "2025-07-06T00:00:00.000000000",
          "2025-07-07T00:00:00.000000000",
          "2025-07-08T00:00:00.000000000",
          "2025-07-09T00:00:00.000000000",
          "2025-07-10T00:00:00.000000000",
          "2025-07-11T00:00:00.000000000",
          "2025-07-12T00:00:00.000000000",
          "2025-07-13T00:00:00.000000000",
          "2025-07-14T00:00:00.000000000",
          "2025-07-15T00:00:00.000000000",
          "2025-07-16T00:00:00.000000000",
          "2025-07-17T00:00:00.000000000",
          "2025-07-18T00:00:00.000000000",
          "2025-07-19T00:00:00.000000000",
          "2025-07-20T00:00:00.000000000",
          "2025-07-21T00:00:00.000000000",
          "2025-07-22T00:00:00.000000000",
          "2025-07-23T00:00:00.000000000",
          "2025-07-24T00:00:00.000000000",
          "2025-07-25T00:00:00.000000000",
          "2025-07-26T00:00:00.000000000",
          "2025-07-27T00:00:00.000000000",
          "2025-07-28T00:00:00.000000000",
          "2025-07-29T00:00:00.000000000",
          "2025-07-30T00:00:00.000000000",
          "2025-07-31T00:00:00.000000000",
          "2025-08-01T00:00:00.000000000",
          "2025-08-02T00:00:00.000000000",
          "2025-08-03T00:00:00.000000000",
          "2025-08-04T00:00:00.000000000",
          "2025-08-05T00:00:00.000000000",
          "2025-08-06T00:00:00.000000000",
          "2025-08-07T00:00:00.000000000",
          "2025-08-08T00:00:00.000000000",
          "2025-08-09T00:00:00.000000000",
          "2025-08-10T00:00:00.000000000",
          "2025-08-11T00:00:00.000000000",
          "2025-08-12T00:00:00.000000000",
          "2025-08-13T00:00:00.000000000",
          "2025-08-14T00:00:00.000000000",
          "2025-08-15T00:00:00.000000000",
          "2025-08-16T00:00:00.000000000",
          "2025-08-17T00:00:00.000000000",
          "2025-08-18T00:00:00.000000000",
          "2025-08-19T00:00:00.000000000",
          "2025-08-20T00:00:00.000000000",
          "2025-08-21T00:00:00.000000000",
          "2025-08-22T00:00:00.000000000",
          "2025-08-23T00:00:00.000000000",
          "2025-08-24T00:00:00.000000000",
          "2025-08-25T00:00:00.000000000",
          "2025-08-26T00:00:00.000000000",
          "2025-08-27T00:00:00.000000000",
          "2025-08-28T00:00:00.000000000",
          "2025-08-29T00:00:00.000000000",
          "2025-08-30T00:00:00.000000000",
          "2025-08-31T00:00:00.000000000",
          "2025-09-01T00:00:00.000000000",
          "2025-09-02T00:00:00.000000000",
          "2025-09-03T00:00:00.000000000",
          "2025-09-04T00:00:00.000000000",
          "2025-09-05T00:00:00.000000000",
          "2025-09-06T00:00:00.000000000",
          "2025-09-07T00:00:00.000000000",
          "2025-09-08T00:00:00.000000000",
          "2025-09-09T00:00:00.000000000",
          "2025-09-10T00:00:00.000000000",
          "2025-09-11T00:00:00.000000000",
          "2025-09-12T00:00:00.000000000",
          "2025-09-13T00:00:00.000000000",
          "2025-09-14T00:00:00.000000000",
          "2025-09-15T00:00:00.000000000",
          "2025-09-16T00:00:00.000000000",
          "2025-09-17T00:00:00.000000000",
          "2025-09-17T01:59:52.000000000"
         ],
         "xaxis": "x4",
         "y": {
          "bdata": "AAAAAAAAAAAAAAAAAAAAADjzwjlJrIY/5wjigC8MnT9y67veRbmoP9dAeX5sfbE/xDQ5zhg7tj/mMMijTlm6P2o2TqLzvb0/ewdt6nkzwD+8HaDa5jDBPwyOQLB14sE/jUheDVVVwj/krVor7ZbCPwggQgC8s8I/wW0slay2wj9AeryxyqjCP+p/qcY3kcI/5EWJkEp1wj8YaFqgx1jCP4XeJGQlPsI/Lg+KL9Imwj+uUQUEdhPCP9uBlGwsBMI/bjoMsrT4wT++kW0PmPDBP9q0p3dG68E/4krRCCvowT8eLFyLuebBP/fIs2p25sE/qJVpgfrmwT/wYFjr8+fBP6judt4k6cE/VkvrVmHqwT/5FVQxjOvBP4aSLSKU7ME/VFwz1HDtwT/cWQtaIO7BP59BDgml7sE/q1ffwgPvwT8+x7ioQu/BP1RwzCxo78E/DHLVcnrvwT+2DAzwfu/BP+euVjt678E/TOIxAHDvwT9WcuQIY+/BP1Is1lZV78E/D/4KQkjvwT9P3bWaPO/BP9SwtmsK88U/pP6E4cUa0D8cHapeAbzWP66BARq1ot0/1kW8sS0F4j/xGIQaQ9HkP9E2oAvKJec/dosCA4MO6T+wxDS+7qfqP865pA5C9es/u6yn5Tj57D+I+9eR7r7tP5/vsgVSW+4/U83ze2jU7j9STzSJniLvPzLi5FnuUO8/WWlwIT1u7z9ZlG2cGoDvP1f6vlP/iu8/CldEOTh77z//jlKSPkbvPz/R8YF89u4/ThcjddmL7j+7nov79BvuP8+ZNz1Qs+0/Gk3wnkBS7T+2zQPZ8OvsPyAmZzOQeOw/wGSK9kEL7D9lCKncQqzrP5O4RnNJc+s/Iq07qohc6z8RvoyRETHrP3RTgNmDveo/gOYnrPX76T/DImyPcgnpPwSjH1WWA+g/Zoxew+ce5z9HShb7kFHmP7JyD+Vpg+U/LzkgcOvN5D8TqdSCOwHkP6TgYznu3OI/BHac3Wlw4T/eHEIAvTfgP5YDVGCFDt8/LdjoPrR73j+VSfuadmreP1Kft3UVCt4/DEgt9zDp3D9vPnGgjFzbP/XcTzJ8v9k/Z9GItDRj2D8oIAzCAGzXPzahv10sCdc/Tmk0aKMC1z8VTSM6sBDXPwDGV7fzUdc/rddg3B6d1z9kL6/GyY/XP9w7aipRbtc/StH49fC31z//27DacoDYP5L5OKNoA9o/eRfhuYRm3D/QC7AWjmXfP1olQBoyBOE/YhCRTO7w4T8P7Z59LrziPyqnkR3KauM/4JbLGpIO5D+IqRxN6qrkPxoukzmvGeU/6Gb0BtGH5T9kFgYBoA7mP+icXk2aiuY/XqaE2Z335j8sC9To2z7nP5CmV3k+WOc/TLebW25A5z+9AvWcX8fmP6oA6dpk8uU/mgwB97rf5D+qn/nlaXnjP3ZVZ3jA2eE/+cSMRilG4D8ODZUPMubdP6hwQS+/vds/ikZuMnIq2j+gzVl/tbbZP102eXw3L9o/oScyvkQ52z9JoE3Tcv3cP3QfD5b0X98/P3p1porm4D8auRxmpSLiP+QYqZQ1MuM/hjSQjCqs4z9uG4oRpaPjP5HeXPFWRuM/OCE2e7CU4j8DraOL+ZrhP5IRYQc5k+A/uxZ0P71V3z9TJS7lHpndP8SZkLpFvts/sJJeUFkn2j9Kl7HE2obZP65HV+WltNk/xi2nLzcq2j9VskZD3/naP0KV3dZkr9w/msi7GZeH3z+zbeK4x3zhP5hQzyQCRuM/ir4y4jDw5D8eo+NY4zvmPzp5m5XjJ+c/gibif2/n5z++A2nkx3foP7482S4cyeg/hBlpLJfL6D8CO6r3+JXoP51P68gsVOg/qNMfJzPs5z+OWwdk1DznP5rNcD9LP+Y/+tP21xkQ5T9+xvw8zvrjPwbeDYbM7eI/TtxncHXC4T8=",
          "dtype": "f8"
         },
         "yaxis": "y4"
        },
        {
         "marker": {
          "color": "red",
          "size": 10,
          "symbol": "x"
         },
         "mode": "markers",
         "name": "Toxic Events",
         "showlegend": false,
         "type": "scatter",
         "x": [
          "2025-05-21T00:00:00.000000000",
          "2025-05-22T00:00:00.000000000",
          "2025-05-23T00:00:00.000000000",
          "2025-05-24T00:00:00.000000000",
          "2025-05-25T00:00:00.000000000",
          "2025-05-26T00:00:00.000000000",
          "2025-05-27T00:00:00.000000000",
          "2025-05-28T00:00:00.000000000",
          "2025-05-29T00:00:00.000000000",
          "2025-05-30T00:00:00.000000000",
          "2025-05-31T00:00:00.000000000",
          "2025-06-01T00:00:00.000000000",
          "2025-06-02T00:00:00.000000000",
          "2025-06-03T00:00:00.000000000",
          "2025-06-04T00:00:00.000000000",
          "2025-06-05T00:00:00.000000000",
          "2025-06-06T00:00:00.000000000"
         ],
         "xaxis": "x4",
         "y": {
          "bdata": "u6yn5Tj57D+I+9eR7r7tP5/vsgVSW+4/U83ze2jU7j9STzSJniLvPzLi5FnuUO8/WWlwIT1u7z9ZlG2cGoDvP1f6vlP/iu8/CldEOTh77z//jlKSPkbvPz/R8YF89u4/ThcjddmL7j+7nov79BvuP8+ZNz1Qs+0/Gk3wnkBS7T+2zQPZ8OvsPw==",
          "dtype": "f8"
         },
         "yaxis": "y4"
        }
       ],
       "layout": {
        "annotations": [
         {
          "font": {
           "size": 16
          },
          "showarrow": false,
          "text": "Price with Volume Buckets",
          "x": 0.5,
          "xanchor": "center",
          "xref": "paper",
          "y": 1,
          "yanchor": "bottom",
          "yref": "paper"
         },
         {
          "font": {
           "size": 16
          },
          "showarrow": false,
          "text": "Order Flow Imbalance (Buy vs Sell Volume)",
          "x": 0.5,
          "xanchor": "center",
          "xref": "paper",
          "y": 0.7375,
          "yanchor": "bottom",
          "yref": "paper"
         },
         {
          "font": {
           "size": 16
          },
          "showarrow": false,
          "text": "VPIN (Raw) - Order Flow Toxicity",
          "x": 0.5,
          "xanchor": "center",
          "xref": "paper",
          "y": 0.475,
          "yanchor": "bottom",
          "yref": "paper"
         },
         {
          "font": {
           "size": 16
          },
          "showarrow": false,
          "text": "VPIN CDF - Toxicity Probability",
          "x": 0.5,
          "xanchor": "center",
          "xref": "paper",
          "y": 0.2125,
          "yanchor": "bottom",
          "yref": "paper"
         },
         {
          "showarrow": false,
          "text": "Flash Crash Level (0.2)",
          "x": 1,
          "xanchor": "right",
          "xref": "x3 domain",
          "y": 0.2,
          "yanchor": "bottom",
          "yref": "y3"
         },
         {
          "showarrow": false,
          "text": "Extreme Toxicity (90%)",
          "x": 1,
          "xanchor": "right",
          "xref": "x4 domain",
          "y": 0.9,
          "yanchor": "bottom",
          "yref": "y4"
         }
        ],
        "height": 900,
        "hovermode": "x unified",
        "shapes": [
         {
          "line": {
           "color": "gray",
           "dash": "dot"
          },
          "opacity": 0.3,
          "type": "line",
          "x0": "2025-03-22T00:00:00",
          "x1": "2025-03-22T00:00:00",
          "xref": "x",
          "y0": 0,
          "y1": 1,
          "yref": "y domain"
         },
         {
          "line": {
           "color": "gray",
           "dash": "dot"
          },
          "opacity": 0.3,
          "type": "line",
          "x0": "2025-04-01T00:00:00",
          "x1": "2025-04-01T00:00:00",
          "xref": "x",
          "y0": 0,
          "y1": 1,
          "yref": "y domain"
         },
         {
          "line": {
           "color": "gray",
           "dash": "dot"
          },
          "opacity": 0.3,
          "type": "line",
          "x0": "2025-04-11T00:00:00",
          "x1": "2025-04-11T00:00:00",
          "xref": "x",
          "y0": 0,
          "y1": 1,
          "yref": "y domain"
         },
         {
          "line": {
           "color": "gray",
           "dash": "dot"
          },
          "opacity": 0.3,
          "type": "line",
          "x0": "2025-04-21T00:00:00",
          "x1": "2025-04-21T00:00:00",
          "xref": "x",
          "y0": 0,
          "y1": 1,
          "yref": "y domain"
         },
         {
          "line": {
           "color": "gray",
           "dash": "dot"
          },
          "opacity": 0.3,
          "type": "line",
          "x0": "2025-05-01T00:00:00",
          "x1": "2025-05-01T00:00:00",
          "xref": "x",
          "y0": 0,
          "y1": 1,
          "yref": "y domain"
         },
         {
          "line": {
           "color": "gray",
           "dash": "dot"
          },
          "opacity": 0.3,
          "type": "line",
          "x0": "2025-05-11T00:00:00",
          "x1": "2025-05-11T00:00:00",
          "xref": "x",
          "y0": 0,
          "y1": 1,
          "yref": "y domain"
         },
         {
          "line": {
           "color": "gray",
           "dash": "dot"
          },
          "opacity": 0.3,
          "type": "line",
          "x0": "2025-05-21T00:00:00",
          "x1": "2025-05-21T00:00:00",
          "xref": "x",
          "y0": 0,
          "y1": 1,
          "yref": "y domain"
         },
         {
          "line": {
           "color": "gray",
           "dash": "dot"
          },
          "opacity": 0.3,
          "type": "line",
          "x0": "2025-05-31T00:00:00",
          "x1": "2025-05-31T00:00:00",
          "xref": "x",
          "y0": 0,
          "y1": 1,
          "yref": "y domain"
         },
         {
          "line": {
           "color": "gray",
           "dash": "dot"
          },
          "opacity": 0.3,
          "type": "line",
          "x0": "2025-06-10T00:00:00",
          "x1": "2025-06-10T00:00:00",
          "xref": "x",
          "y0": 0,
          "y1": 1,
          "yref": "y domain"
         },
         {
          "line": {
           "color": "gray",
           "dash": "dot"
          },
          "opacity": 0.3,
          "type": "line",
          "x0": "2025-06-20T00:00:00",
          "x1": "2025-06-20T00:00:00",
          "xref": "x",
          "y0": 0,
          "y1": 1,
          "yref": "y domain"
         },
         {
          "line": {
           "color": "gray",
           "dash": "dot"
          },
          "opacity": 0.3,
          "type": "line",
          "x0": "2025-06-30T00:00:00",
          "x1": "2025-06-30T00:00:00",
          "xref": "x",
          "y0": 0,
          "y1": 1,
          "yref": "y domain"
         },
         {
          "line": {
           "color": "gray",
           "dash": "dot"
          },
          "opacity": 0.3,
          "type": "line",
          "x0": "2025-07-10T00:00:00",
          "x1": "2025-07-10T00:00:00",
          "xref": "x",
          "y0": 0,
          "y1": 1,
          "yref": "y domain"
         },
         {
          "line": {
           "color": "gray",
           "dash": "dot"
          },
          "opacity": 0.3,
          "type": "line",
          "x0": "2025-07-20T00:00:00",
          "x1": "2025-07-20T00:00:00",
          "xref": "x",
          "y0": 0,
          "y1": 1,
          "yref": "y domain"
         },
         {
          "line": {
           "color": "gray",
           "dash": "dot"
          },
          "opacity": 0.3,
          "type": "line",
          "x0": "2025-07-30T00:00:00",
          "x1": "2025-07-30T00:00:00",
          "xref": "x",
          "y0": 0,
          "y1": 1,
          "yref": "y domain"
         },
         {
          "line": {
           "color": "gray",
           "dash": "dot"
          },
          "opacity": 0.3,
          "type": "line",
          "x0": "2025-08-09T00:00:00",
          "x1": "2025-08-09T00:00:00",
          "xref": "x",
          "y0": 0,
          "y1": 1,
          "yref": "y domain"
         },
         {
          "line": {
           "color": "gray",
           "dash": "dot"
          },
          "opacity": 0.3,
          "type": "line",
          "x0": "2025-08-19T00:00:00",
          "x1": "2025-08-19T00:00:00",
          "xref": "x",
          "y0": 0,
          "y1": 1,
          "yref": "y domain"
         },
         {
          "line": {
           "color": "gray",
           "dash": "dot"
          },
          "opacity": 0.3,
          "type": "line",
          "x0": "2025-08-29T00:00:00",
          "x1": "2025-08-29T00:00:00",
          "xref": "x",
          "y0": 0,
          "y1": 1,
          "yref": "y domain"
         },
         {
          "line": {
           "color": "gray",
           "dash": "dot"
          },
          "opacity": 0.3,
          "type": "line",
          "x0": "2025-09-08T00:00:00",
          "x1": "2025-09-08T00:00:00",
          "xref": "x",
          "y0": 0,
          "y1": 1,
          "yref": "y domain"
         },
         {
          "line": {
           "color": "gray",
           "dash": "dot"
          },
          "opacity": 0.3,
          "type": "line",
          "x0": "2025-09-17T01:59:52",
          "x1": "2025-09-17T01:59:52",
          "xref": "x",
          "y0": 0,
          "y1": 1,
          "yref": "y domain"
         },
         {
          "line": {
           "color": "red",
           "dash": "dash"
          },
          "type": "line",
          "x0": 0,
          "x1": 1,
          "xref": "x3 domain",
          "y0": 0.2,
          "y1": 0.2,
          "yref": "y3"
         },
         {
          "line": {
           "color": "red",
           "dash": "dash"
          },
          "type": "line",
          "x0": 0,
          "x1": 1,
          "xref": "x4 domain",
          "y0": 0.9,
          "y1": 0.9,
          "yref": "y4"
         }
        ],
        "showlegend": true,
        "template": {
         "data": {
          "bar": [
           {
            "error_x": {
             "color": "#2a3f5f"
            },
            "error_y": {
             "color": "#2a3f5f"
            },
            "marker": {
             "line": {
              "color": "white",
              "width": 0.5
             },
             "pattern": {
              "fillmode": "overlay",
              "size": 10,
              "solidity": 0.2
             }
            },
            "type": "bar"
           }
          ],
          "barpolar": [
           {
            "marker": {
             "line": {
              "color": "white",
              "width": 0.5
             },
             "pattern": {
              "fillmode": "overlay",
              "size": 10,
              "solidity": 0.2
             }
            },
            "type": "barpolar"
           }
          ],
          "carpet": [
           {
            "aaxis": {
             "endlinecolor": "#2a3f5f",
             "gridcolor": "#C8D4E3",
             "linecolor": "#C8D4E3",
             "minorgridcolor": "#C8D4E3",
             "startlinecolor": "#2a3f5f"
            },
            "baxis": {
             "endlinecolor": "#2a3f5f",
             "gridcolor": "#C8D4E3",
             "linecolor": "#C8D4E3",
             "minorgridcolor": "#C8D4E3",
             "startlinecolor": "#2a3f5f"
            },
            "type": "carpet"
           }
          ],
          "choropleth": [
           {
            "colorbar": {
             "outlinewidth": 0,
             "ticks": ""
            },
            "type": "choropleth"
           }
          ],
          "contour": [
           {
            "colorbar": {
             "outlinewidth": 0,
             "ticks": ""
            },
            "colorscale": [
             [
              0,
              "#0d0887"
             ],
             [
              0.1111111111111111,
              "#46039f"
             ],
             [
              0.2222222222222222,
              "#7201a8"
             ],
             [
              0.3333333333333333,
              "#9c179e"
             ],
             [
              0.4444444444444444,
              "#bd3786"
             ],
             [
              0.5555555555555556,
              "#d8576b"
             ],
             [
              0.6666666666666666,
              "#ed7953"
             ],
             [
              0.7777777777777778,
              "#fb9f3a"
             ],
             [
              0.8888888888888888,
              "#fdca26"
             ],
             [
              1,
              "#f0f921"
             ]
            ],
            "type": "contour"
           }
          ],
          "contourcarpet": [
           {
            "colorbar": {
             "outlinewidth": 0,
             "ticks": ""
            },
            "type": "contourcarpet"
           }
          ],
          "heatmap": [
           {
            "colorbar": {
             "outlinewidth": 0,
             "ticks": ""
            },
            "colorscale": [
             [
              0,
              "#0d0887"
             ],
             [
              0.1111111111111111,
              "#46039f"
             ],
             [
              0.2222222222222222,
              "#7201a8"
             ],
             [
              0.3333333333333333,
              "#9c179e"
             ],
             [
              0.4444444444444444,
              "#bd3786"
             ],
             [
              0.5555555555555556,
              "#d8576b"
             ],
             [
              0.6666666666666666,
              "#ed7953"
             ],
             [
              0.7777777777777778,
              "#fb9f3a"
             ],
             [
              0.8888888888888888,
              "#fdca26"
             ],
             [
              1,
              "#f0f921"
             ]
            ],
            "type": "heatmap"
           }
          ],
          "histogram": [
           {
            "marker": {
             "pattern": {
              "fillmode": "overlay",
              "size": 10,
              "solidity": 0.2
             }
            },
            "type": "histogram"
           }
          ],
          "histogram2d": [
           {
            "colorbar": {
             "outlinewidth": 0,
             "ticks": ""
            },
            "colorscale": [
             [
              0,
              "#0d0887"
             ],
             [
              0.1111111111111111,
              "#46039f"
             ],
             [
              0.2222222222222222,
              "#7201a8"
             ],
             [
              0.3333333333333333,
              "#9c179e"
             ],
             [
              0.4444444444444444,
              "#bd3786"
             ],
             [
              0.5555555555555556,
              "#d8576b"
             ],
             [
              0.6666666666666666,
              "#ed7953"
             ],
             [
              0.7777777777777778,
              "#fb9f3a"
             ],
             [
              0.8888888888888888,
              "#fdca26"
             ],
             [
              1,
              "#f0f921"
             ]
            ],
            "type": "histogram2d"
           }
          ],
          "histogram2dcontour": [
           {
            "colorbar": {
             "outlinewidth": 0,
             "ticks": ""
            },
            "colorscale": [
             [
              0,
              "#0d0887"
             ],
             [
              0.1111111111111111,
              "#46039f"
             ],
             [
              0.2222222222222222,
              "#7201a8"
             ],
             [
              0.3333333333333333,
              "#9c179e"
             ],
             [
              0.4444444444444444,
              "#bd3786"
             ],
             [
              0.5555555555555556,
              "#d8576b"
             ],
             [
              0.6666666666666666,
              "#ed7953"
             ],
             [
              0.7777777777777778,
              "#fb9f3a"
             ],
             [
              0.8888888888888888,
              "#fdca26"
             ],
             [
              1,
              "#f0f921"
             ]
            ],
            "type": "histogram2dcontour"
           }
          ],
          "mesh3d": [
           {
            "colorbar": {
             "outlinewidth": 0,
             "ticks": ""
            },
            "type": "mesh3d"
           }
          ],
          "parcoords": [
           {
            "line": {
             "colorbar": {
              "outlinewidth": 0,
              "ticks": ""
             }
            },
            "type": "parcoords"
           }
          ],
          "pie": [
           {
            "automargin": true,
            "type": "pie"
           }
          ],
          "scatter": [
           {
            "fillpattern": {
             "fillmode": "overlay",
             "size": 10,
             "solidity": 0.2
            },
            "type": "scatter"
           }
          ],
          "scatter3d": [
           {
            "line": {
             "colorbar": {
              "outlinewidth": 0,
              "ticks": ""
             }
            },
            "marker": {
             "colorbar": {
              "outlinewidth": 0,
              "ticks": ""
             }
            },
            "type": "scatter3d"
           }
          ],
          "scattercarpet": [
           {
            "marker": {
             "colorbar": {
              "outlinewidth": 0,
              "ticks": ""
             }
            },
            "type": "scattercarpet"
           }
          ],
          "scattergeo": [
           {
            "marker": {
             "colorbar": {
              "outlinewidth": 0,
              "ticks": ""
             }
            },
            "type": "scattergeo"
           }
          ],
          "scattergl": [
           {
            "marker": {
             "colorbar": {
              "outlinewidth": 0,
              "ticks": ""
             }
            },
            "type": "scattergl"
           }
          ],
          "scattermap": [
           {
            "marker": {
             "colorbar": {
              "outlinewidth": 0,
              "ticks": ""
             }
            },
            "type": "scattermap"
           }
          ],
          "scattermapbox": [
           {
            "marker": {
             "colorbar": {
              "outlinewidth": 0,
              "ticks": ""
             }
            },
            "type": "scattermapbox"
           }
          ],
          "scatterpolar": [
           {
            "marker": {
             "colorbar": {
              "outlinewidth": 0,
              "ticks": ""
             }
            },
            "type": "scatterpolar"
           }
          ],
          "scatterpolargl": [
           {
            "marker": {
             "colorbar": {
              "outlinewidth": 0,
              "ticks": ""
             }
            },
            "type": "scatterpolargl"
           }
          ],
          "scatterternary": [
           {
            "marker": {
             "colorbar": {
              "outlinewidth": 0,
              "ticks": ""
             }
            },
            "type": "scatterternary"
           }
          ],
          "surface": [
           {
            "colorbar": {
             "outlinewidth": 0,
             "ticks": ""
            },
            "colorscale": [
             [
              0,
              "#0d0887"
             ],
             [
              0.1111111111111111,
              "#46039f"
             ],
             [
              0.2222222222222222,
              "#7201a8"
             ],
             [
              0.3333333333333333,
              "#9c179e"
             ],
             [
              0.4444444444444444,
              "#bd3786"
             ],
             [
              0.5555555555555556,
              "#d8576b"
             ],
             [
              0.6666666666666666,
              "#ed7953"
             ],
             [
              0.7777777777777778,
              "#fb9f3a"
             ],
             [
              0.8888888888888888,
              "#fdca26"
             ],
             [
              1,
              "#f0f921"
             ]
            ],
            "type": "surface"
           }
          ],
          "table": [
           {
            "cells": {
             "fill": {
              "color": "#EBF0F8"
             },
             "line": {
              "color": "white"
             }
            },
            "header": {
             "fill": {
              "color": "#C8D4E3"
             },
             "line": {
              "color": "white"
             }
            },
            "type": "table"
           }
          ]
         },
         "layout": {
          "annotationdefaults": {
           "arrowcolor": "#2a3f5f",
           "arrowhead": 0,
           "arrowwidth": 1
          },
          "autotypenumbers": "strict",
          "coloraxis": {
           "colorbar": {
            "outlinewidth": 0,
            "ticks": ""
           }
          },
          "colorscale": {
           "diverging": [
            [
             0,
             "#8e0152"
            ],
            [
             0.1,
             "#c51b7d"
            ],
            [
             0.2,
             "#de77ae"
            ],
            [
             0.3,
             "#f1b6da"
            ],
            [
             0.4,
             "#fde0ef"
            ],
            [
             0.5,
             "#f7f7f7"
            ],
            [
             0.6,
             "#e6f5d0"
            ],
            [
             0.7,
             "#b8e186"
            ],
            [
             0.8,
             "#7fbc41"
            ],
            [
             0.9,
             "#4d9221"
            ],
            [
             1,
             "#276419"
            ]
           ],
           "sequential": [
            [
             0,
             "#0d0887"
            ],
            [
             0.1111111111111111,
             "#46039f"
            ],
            [
             0.2222222222222222,
             "#7201a8"
            ],
            [
             0.3333333333333333,
             "#9c179e"
            ],
            [
             0.4444444444444444,
             "#bd3786"
            ],
            [
             0.5555555555555556,
             "#d8576b"
            ],
            [
             0.6666666666666666,
             "#ed7953"
            ],
            [
             0.7777777777777778,
             "#fb9f3a"
            ],
            [
             0.8888888888888888,
             "#fdca26"
            ],
            [
             1,
             "#f0f921"
            ]
           ],
           "sequentialminus": [
            [
             0,
             "#0d0887"
            ],
            [
             0.1111111111111111,
             "#46039f"
            ],
            [
             0.2222222222222222,
             "#7201a8"
            ],
            [
             0.3333333333333333,
             "#9c179e"
            ],
            [
             0.4444444444444444,
             "#bd3786"
            ],
            [
             0.5555555555555556,
             "#d8576b"
            ],
            [
             0.6666666666666666,
             "#ed7953"
            ],
            [
             0.7777777777777778,
             "#fb9f3a"
            ],
            [
             0.8888888888888888,
             "#fdca26"
            ],
            [
             1,
             "#f0f921"
            ]
           ]
          },
          "colorway": [
           "#636efa",
           "#EF553B",
           "#00cc96",
           "#ab63fa",
           "#FFA15A",
           "#19d3f3",
           "#FF6692",
           "#B6E880",
           "#FF97FF",
           "#FECB52"
          ],
          "font": {
           "color": "#2a3f5f"
          },
          "geo": {
           "bgcolor": "white",
           "lakecolor": "white",
           "landcolor": "white",
           "showlakes": true,
           "showland": true,
           "subunitcolor": "#C8D4E3"
          },
          "hoverlabel": {
           "align": "left"
          },
          "hovermode": "closest",
          "mapbox": {
           "style": "light"
          },
          "paper_bgcolor": "white",
          "plot_bgcolor": "white",
          "polar": {
           "angularaxis": {
            "gridcolor": "#EBF0F8",
            "linecolor": "#EBF0F8",
            "ticks": ""
           },
           "bgcolor": "white",
           "radialaxis": {
            "gridcolor": "#EBF0F8",
            "linecolor": "#EBF0F8",
            "ticks": ""
           }
          },
          "scene": {
           "xaxis": {
            "backgroundcolor": "white",
            "gridcolor": "#DFE8F3",
            "gridwidth": 2,
            "linecolor": "#EBF0F8",
            "showbackground": true,
            "ticks": "",
            "zerolinecolor": "#EBF0F8"
           },
           "yaxis": {
            "backgroundcolor": "white",
            "gridcolor": "#DFE8F3",
            "gridwidth": 2,
            "linecolor": "#EBF0F8",
            "showbackground": true,
            "ticks": "",
            "zerolinecolor": "#EBF0F8"
           },
           "zaxis": {
            "backgroundcolor": "white",
            "gridcolor": "#DFE8F3",
            "gridwidth": 2,
            "linecolor": "#EBF0F8",
            "showbackground": true,
            "ticks": "",
            "zerolinecolor": "#EBF0F8"
           }
          },
          "shapedefaults": {
           "line": {
            "color": "#2a3f5f"
           }
          },
          "ternary": {
           "aaxis": {
            "gridcolor": "#DFE8F3",
            "linecolor": "#A2B1C6",
            "ticks": ""
           },
           "baxis": {
            "gridcolor": "#DFE8F3",
            "linecolor": "#A2B1C6",
            "ticks": ""
           },
           "bgcolor": "white",
           "caxis": {
            "gridcolor": "#DFE8F3",
            "linecolor": "#A2B1C6",
            "ticks": ""
           }
          },
          "title": {
           "x": 0.05
          },
          "xaxis": {
           "automargin": true,
           "gridcolor": "#EBF0F8",
           "linecolor": "#EBF0F8",
           "ticks": "",
           "title": {
            "standoff": 15
           },
           "zerolinecolor": "#EBF0F8",
           "zerolinewidth": 2
          },
          "yaxis": {
           "automargin": true,
           "gridcolor": "#EBF0F8",
           "linecolor": "#EBF0F8",
           "ticks": "",
           "title": {
            "standoff": 15
           },
           "zerolinecolor": "#EBF0F8",
           "zerolinewidth": 2
          }
         }
        },
        "title": {
         "text": "Academic VPIN: Volume-Synchronized Order Flow Toxicity"
        },
        "xaxis": {
         "anchor": "y",
         "domain": [
          0,
          1
         ]
        },
        "xaxis2": {
         "anchor": "y2",
         "domain": [
          0,
          1
         ]
        },
        "xaxis3": {
         "anchor": "y3",
         "domain": [
          0,
          1
         ]
        },
        "xaxis4": {
         "anchor": "y4",
         "domain": [
          0,
          1
         ]
        },
        "yaxis": {
         "anchor": "x",
         "domain": [
          0.7875,
          1
         ],
         "title": {
          "text": "Price ($)"
         }
        },
        "yaxis2": {
         "anchor": "x2",
         "domain": [
          0.525,
          0.7375
         ],
         "title": {
          "text": "Volume Δ"
         }
        },
        "yaxis3": {
         "anchor": "x3",
         "domain": [
          0.2625,
          0.475
         ],
         "title": {
          "text": "VPIN"
         }
        },
        "yaxis4": {
         "anchor": "x4",
         "domain": [
          0,
          0.2125
         ],
         "range": [
          0,
          1
         ],
         "title": {
          "text": "CDF"
         }
        }
       }
      }
     },
     "metadata": {},
     "output_type": "display_data"
    }
   ],
   "source": [
    "def plot_academic_vpin(df, buckets, vpin_raw):\n",
    "    \"\"\"\n",
    "    Create academic VPIN visualization with toxicity levels\n",
    "    \"\"\"\n",
    "    fig = make_subplots(\n",
    "        rows=4,\n",
    "        cols=1,\n",
    "        row_heights=[0.25, 0.25, 0.25, 0.25],\n",
    "        subplot_titles=[\n",
    "            \"Price with Volume Buckets\",\n",
    "            \"Order Flow Imbalance (Buy vs Sell Volume)\",\n",
    "            \"VPIN (Raw) - Order Flow Toxicity\",\n",
    "            \"VPIN CDF - Toxicity Probability\",\n",
    "        ],\n",
    "        vertical_spacing=0.05,\n",
    "    )\n",
    "\n",
    "    # 1. Price with bucket boundaries\n",
    "    fig.add_trace(\n",
    "        go.Scatter(\n",
    "            x=df[\"datetime\"],\n",
    "            y=df[\"price\"],\n",
    "            name=\"Price\",\n",
    "            line=dict(color=\"lightblue\", width=1),\n",
    "        ),\n",
    "        row=1,\n",
    "        col=1,\n",
    "    )\n",
    "\n",
    "    # Mark every 10th bucket boundary\n",
    "    bucket_starts = df.groupby(\"bucket_id\")[\"datetime\"].first()\n",
    "    for i, start_time in enumerate(bucket_starts):\n",
    "        if i % 10 == 0:\n",
    "            fig.add_vline(\n",
    "                x=start_time,\n",
    "                line_dash=\"dot\",\n",
    "                line_color=\"gray\",\n",
    "                opacity=0.3,\n",
    "                row=1,\n",
    "                col=1,\n",
    "            )\n",
    "\n",
    "    # 2. Order Flow Imbalance\n",
    "    imbalance = buckets[\"buy_volume\"] - buckets[\"sell_volume\"]\n",
    "    colors = [\"green\" if x > 0 else \"red\" for x in imbalance]\n",
    "\n",
    "    fig.add_trace(\n",
    "        go.Bar(\n",
    "            x=buckets[\"datetime\"],\n",
    "            y=imbalance,\n",
    "            marker_color=colors,\n",
    "            opacity=0.6,\n",
    "            name=\"Volume Imbalance\",\n",
    "            showlegend=False,\n",
    "        ),\n",
    "        row=2,\n",
    "        col=1,\n",
    "    )\n",
    "\n",
    "    # 3. Raw VPIN\n",
    "    fig.add_trace(\n",
    "        go.Scatter(\n",
    "            x=buckets[\"datetime\"],\n",
    "            y=vpin_raw,\n",
    "            name=\"VPIN\",\n",
    "            line=dict(color=\"orange\", width=2),\n",
    "        ),\n",
    "        row=3,\n",
    "        col=1,\n",
    "    )\n",
    "\n",
    "    # Add Flash Crash threshold\n",
    "    fig.add_hline(\n",
    "        y=0.2,\n",
    "        line_dash=\"dash\",\n",
    "        line_color=\"red\",\n",
    "        annotation_text=\"Flash Crash Level (0.2)\",\n",
    "        row=3,\n",
    "        col=1,\n",
    "    )\n",
    "\n",
    "    # 4. VPIN CDF\n",
    "    fig.add_trace(\n",
    "        go.Scatter(\n",
    "            x=buckets[\"datetime\"],\n",
    "            y=buckets[\"vpin_cdf_ssf\"],\n",
    "            name=\"Toxicity Probability\",\n",
    "            fill=\"tozeroy\",\n",
    "            line=dict(color=\"purple\", width=2),\n",
    "        ),\n",
    "        row=4,\n",
    "        col=1,\n",
    "    )\n",
    "\n",
    "    # Mark extreme toxicity events\n",
    "    toxic_events = buckets[buckets[\"toxic_event_ssf\"]]\n",
    "    if len(toxic_events) > 0:\n",
    "        fig.add_trace(\n",
    "            go.Scatter(\n",
    "                x=toxic_events[\"datetime\"],\n",
    "                y=toxic_events[\"vpin_cdf_ssf\"],\n",
    "                mode=\"markers\",\n",
    "                marker=dict(color=\"red\", size=10, symbol=\"x\"),\n",
    "                name=\"Toxic Events\",\n",
    "                showlegend=False,\n",
    "            ),\n",
    "            row=4,\n",
    "            col=1,\n",
    "        )\n",
    "\n",
    "    # Add 90% threshold\n",
    "    fig.add_hline(\n",
    "        y=0.9,\n",
    "        line_dash=\"dash\",\n",
    "        line_color=\"red\",\n",
    "        annotation_text=\"Extreme Toxicity (90%)\",\n",
    "        row=4,\n",
    "        col=1,\n",
    "    )\n",
    "\n",
    "    fig.update_layout(\n",
    "        height=900,\n",
    "        title=\"Academic VPIN: Volume-Synchronized Order Flow Toxicity\",\n",
    "        template=\"plotly_white\",\n",
    "        showlegend=True,\n",
    "        hovermode=\"x unified\",\n",
    "    )\n",
    "\n",
    "    fig.update_yaxes(title=\"Price ($)\", row=1, col=1)\n",
    "    fig.update_yaxes(title=\"Volume Δ\", row=2, col=1)\n",
    "    fig.update_yaxes(title=\"VPIN\", row=3, col=1)\n",
    "    fig.update_yaxes(title=\"CDF\", range=[0, 1], row=4, col=1)\n",
    "\n",
    "    return fig\n",
    "\n",
    "\n",
    "fig = plot_academic_vpin(df, buckets, vpin_raw)\n",
    "fig.show()"
   ]
  },
  {
   "cell_type": "markdown",
   "metadata": {},
   "source": [
    "## Key Metrics Dashboard"
   ]
  },
  {
   "cell_type": "code",
   "execution_count": 45,
   "metadata": {},
   "outputs": [
    {
     "name": "stdout",
     "output_type": "stream",
     "text": [
      "============================================================\n",
      "ACADEMIC VPIN ANALYSIS (Easley et al. 2012 Methodology)\n",
      "============================================================\n",
      "📊 Mean VPIN: 0.0460\n",
      "📈 Max VPIN: 0.2084\n",
      "⚠️  Toxic Events (CDF>0.9): 18/181 buckets\n",
      "📉 Avg Order Imbalance: 42.26%\n",
      "🚨 WARNING: VPIN exceeds Flash Crash threshold (0.2)\n",
      "🚨 HIGH TOXICITY: 9.9% of time in toxic state\n",
      "============================================================\n"
     ]
    }
   ],
   "source": [
    "def calculate_toxicity_metrics(buckets, vpin_raw):\n",
    "    \"\"\"\n",
    "    Calculate key metrics from academic VPIN papers\n",
    "    \"\"\"\n",
    "    # Clean data\n",
    "    clean_vpin = vpin_raw[~np.isnan(vpin_raw)]\n",
    "\n",
    "    if len(clean_vpin) == 0:\n",
    "        print(\"No valid VPIN values to analyze\")\n",
    "        return None\n",
    "\n",
    "    # Metrics\n",
    "    metrics = {\n",
    "        \"mean_vpin\": np.mean(clean_vpin),\n",
    "        \"std_vpin\": np.std(clean_vpin),\n",
    "        \"max_vpin\": np.max(clean_vpin),\n",
    "        \"toxic_periods\": (buckets[\"vpin_cdf\"] > 0.9).sum(),\n",
    "        \"total_buckets\": len(buckets),\n",
    "        \"avg_bucket_imbalance\": np.mean(\n",
    "            np.abs(buckets[\"buy_volume\"] - buckets[\"sell_volume\"])\n",
    "            / (buckets[\"volume\"] + 1e-10)\n",
    "        ),\n",
    "    }\n",
    "\n",
    "    # Print Flash Crash-style analysis\n",
    "    print(\"=\" * 60)\n",
    "    print(\"ACADEMIC VPIN ANALYSIS (Easley et al. 2012 Methodology)\")\n",
    "    print(\"=\" * 60)\n",
    "    print(f\"📊 Mean VPIN: {metrics['mean_vpin']:.4f}\")\n",
    "    print(f\"📈 Max VPIN: {metrics['max_vpin']:.4f}\")\n",
    "    print(\n",
    "        f\"⚠️  Toxic Events (CDF>0.9): {metrics['toxic_periods']}/{metrics['total_buckets']} buckets\"\n",
    "    )\n",
    "    print(f\"📉 Avg Order Imbalance: {metrics['avg_bucket_imbalance']:.2%}\")\n",
    "\n",
    "    # Warning levels\n",
    "    if metrics[\"max_vpin\"] > 0.2:\n",
    "        print(\"🚨 WARNING: VPIN exceeds Flash Crash threshold (0.2)\")\n",
    "\n",
    "    toxicity_pct = metrics[\"toxic_periods\"] / metrics[\"total_buckets\"] * 100\n",
    "    if toxicity_pct > 5:\n",
    "        print(f\"🚨 HIGH TOXICITY: {toxicity_pct:.1f}% of time in toxic state\")\n",
    "\n",
    "    print(\"=\" * 60)\n",
    "\n",
    "    return metrics\n",
    "\n",
    "\n",
    "metrics = calculate_toxicity_metrics(buckets, vpin_raw)"
   ]
  },
  {
   "cell_type": "markdown",
   "metadata": {},
   "source": [
    "## Comparison: Time-based vs Volume-based VPIN"
   ]
  },
  {
   "cell_type": "code",
   "execution_count": 46,
   "metadata": {},
   "outputs": [
    {
     "name": "stdout",
     "output_type": "stream",
     "text": [
      "\n",
      "Calculating time-based VPIN for comparison...\n",
      "\n",
      "============================================================\n",
      "Time-based vs Volume-bucket VPIN Comparison:\n",
      "============================================================\n",
      "Time-based max: 0.0000\n",
      "Volume-bucket max: 0.2084\n",
      "Difference: 0.2084\n",
      "\n",
      "Volume-bucket approach is higher\n",
      "This difference reflects the impact of volume synchronization\n",
      "============================================================\n"
     ]
    }
   ],
   "source": [
    "# Simple time-based VPIN for comparison\n",
    "print(\"\\nCalculating time-based VPIN for comparison...\")\n",
    "time_vpin = np.array(\n",
    "    ta.vpin(\n",
    "        df[\"volume\"].values * 0.5,  # Simple 50/50 split\n",
    "        df[\"volume\"].values * 0.5,\n",
    "        50,\n",
    "    )\n",
    ")\n",
    "\n",
    "print(\"\\n\" + \"=\" * 60)\n",
    "print(\"Time-based vs Volume-bucket VPIN Comparison:\")\n",
    "print(\"=\" * 60)\n",
    "print(f\"Time-based max: {np.nanmax(time_vpin):.4f}\")\n",
    "print(f\"Volume-bucket max: {metrics['max_vpin']:.4f}\")\n",
    "print(f\"Difference: {abs(metrics['max_vpin'] - np.nanmax(time_vpin)):.4f}\")\n",
    "print(\n",
    "    f\"\\nVolume-bucket approach is {'higher' if metrics['max_vpin'] > np.nanmax(time_vpin) else 'lower'}\"\n",
    ")\n",
    "print(\"This difference reflects the impact of volume synchronization\")\n",
    "print(\"=\" * 60)"
   ]
  },
  {
   "cell_type": "markdown",
   "metadata": {},
   "source": [
    "## Summary\n",
    "\n",
    "### Key Academic Features Implemented:\n",
    "\n",
    "1. **Volume Bucket Synchronization**: Each bucket contains exactly V volume units (1% of daily volume)\n",
    "2. **Bulk Volume Classification (BVC)**: Uses CDF of normalized price changes to classify volume\n",
    "3. **CDF Transformation**: Converts VPIN to toxicity probability (0-1 scale)\n",
    "4. **Flash Crash Thresholds**: Uses 0.2 raw VPIN and 0.9 CDF as critical levels\n",
    "5. **Order Flow Imbalance**: Direct visualization of buy-sell pressure per bucket\n",
    "\n",
    "### References:\n",
    "- Easley, López de Prado, O'Hara (2012) \"Flow Toxicity and Liquidity in a High-frequency World\"\n",
    "- López de Prado (2018) \"Advances in Financial Machine Learning\""
   ]
  }
 ],
 "metadata": {
  "kernelspec": {
   "display_name": "py312",
   "language": "python",
   "name": "python3"
  },
  "language_info": {
   "codemirror_mode": {
    "name": "ipython",
    "version": 3
   },
   "file_extension": ".py",
   "mimetype": "text/x-python",
   "name": "python",
   "nbconvert_exporter": "python",
   "pygments_lexer": "ipython3",
   "version": "3.12.11"
  }
 },
 "nbformat": 4,
 "nbformat_minor": 4
}

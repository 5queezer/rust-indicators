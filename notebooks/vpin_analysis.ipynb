{
 "cells": [
  {
   "cell_type": "markdown",
   "metadata": {},
   "source": [
    "# Academic VPIN Implementation Using Rust Module\n",
    "\n",
    "Volume-Synchronized Probability of Informed Trading (VPIN) analysis using academic methodology from Easley, López de Prado, O'Hara (2012)."
   ]
  },
  {
   "cell_type": "code",
   "execution_count": 16,
   "metadata": {},
   "outputs": [
    {
     "name": "stdout",
     "output_type": "stream",
     "text": [
      "✓ Backend: adaptive\n"
     ]
    }
   ],
   "source": [
    "import numpy as np\n",
    "import pandas as pd\n",
    "from scipy.stats import norm\n",
    "import rust_indicators\n",
    "import plotly.graph_objects as go\n",
    "from plotly.subplots import make_subplots\n",
    "from pycoingecko import CoinGeckoAPI\n",
    "import warnings\n",
    "\n",
    "warnings.filterwarnings(\"ignore\")\n",
    "\n",
    "ta = rust_indicators.RustTA()\n",
    "cg = CoinGeckoAPI()\n",
    "coin = \"solana\"\n",
    "days = 180\n",
    "print(f\"✓ Backend: {ta.device()}\")"
   ]
  },
  {
   "cell_type": "markdown",
   "metadata": {},
   "source": [
    "## Core Academic VPIN Functions"
   ]
  },
  {
   "cell_type": "code",
   "execution_count": 17,
   "metadata": {},
   "outputs": [],
   "source": [
    "def create_volume_buckets(df, bucket_size_pct=0.01):\n",
    "    \"\"\"\n",
    "    Create volume-synchronized buckets as per academic VPIN\n",
    "    Each bucket contains exactly V volume units\n",
    "    \"\"\"\n",
    "    # Calculate bucket size as percentage of average daily volume\n",
    "    n_days = df[\"datetime\"].dt.normalize().nunique()\n",
    "    avg_daily_volume = df[\"volume\"].sum() / max(1, n_days)\n",
    "    bucket_size = avg_daily_volume * bucket_size_pct\n",
    "\n",
    "    # Create volume buckets\n",
    "    df[\"cum_volume\"] = df[\"volume\"].cumsum()\n",
    "    df[\"bucket_id\"] = (df[\"cum_volume\"] / bucket_size).astype(int)\n",
    "\n",
    "    # Aggregate to bucket level\n",
    "    buckets = df.groupby(\"bucket_id\").agg(\n",
    "        {\"datetime\": \"first\", \"price\": [\"first\", \"last\"], \"volume\": \"sum\"}\n",
    "    )\n",
    "\n",
    "    buckets.columns = [\"datetime\", \"open\", \"close\", \"volume\"]\n",
    "    buckets[\"price_change\"] = buckets[\"close\"] - buckets[\"open\"]\n",
    "    buckets = buckets.reset_index()\n",
    "\n",
    "    return buckets, bucket_size"
   ]
  },
  {
   "cell_type": "code",
   "execution_count": 18,
   "metadata": {},
   "outputs": [],
   "source": [
    "def bulk_volume_classification(buckets, window=50):\n",
    "    \"\"\"\n",
    "    Implement Bulk Volume Classification (BVC) algorithm\n",
    "    from Easley, López de Prado, O'Hara (2012)\n",
    "    \"\"\"\n",
    "\n",
    "    buckets[\"ret\"] = np.log(buckets[\"close\"]).diff().fillna(0.0)\n",
    "    buckets[\"sigma\"] = buckets[\"ret\"].rolling(window, min_periods=10).std()\n",
    "    buckets[\"sigma\"] = buckets[\"sigma\"].fillna(method=\"bfill\")\n",
    "    buckets[\"sigma\"] = buckets[\"sigma\"].replace(0, np.nan).fillna(buckets[\"ret\"].std())\n",
    "    sigma_floor = 1e-6\n",
    "    buckets[\"z_score\"] = buckets[\"ret\"] / (buckets[\"sigma\"].clip(lower=sigma_floor))\n",
    "    buckets[\"buy_prob\"] = norm.cdf(buckets[\"z_score\"])\n",
    "    buckets[\"buy_volume\"] = buckets[\"volume\"] * buckets[\"buy_prob\"]\n",
    "    buckets[\"sell_volume\"] = buckets[\"volume\"] * (1 - buckets[\"buy_prob\"])\n",
    "\n",
    "    return buckets"
   ]
  },
  {
   "cell_type": "code",
   "execution_count": 19,
   "metadata": {},
   "outputs": [],
   "source": [
    "def calculate_academic_vpin(df, bucket_size_pct=0.01, vpin_window=50):\n",
    "    \"\"\"\n",
    "    Calculate VPIN using academic methodology with Rust module\n",
    "    \"\"\"\n",
    "    # Step 1: Create volume buckets\n",
    "    buckets, bucket_size = create_volume_buckets(df, bucket_size_pct)\n",
    "\n",
    "    # Step 2: Apply Bulk Volume Classification\n",
    "    buckets = bulk_volume_classification(buckets, window=vpin_window)\n",
    "    # after creating `buckets`\n",
    "\n",
    "    if len(buckets) <= 2:\n",
    "        raise ValueError(\"Too few buckets. Reduce bucket_size_pct.\")\n",
    "    if vpin_window >= len(buckets):\n",
    "        vpin_window = max(2, int(0.2 * len(buckets)))  # e.g., 20% of buckets\n",
    "\n",
    "    # Step 3: Calculate VPIN using Rust module on bucketed data\n",
    "    vpin_values = np.array(\n",
    "        ta.vpin(\n",
    "            buckets[\"buy_volume\"].values, buckets[\"sell_volume\"].values, vpin_window\n",
    "        )\n",
    "    )\n",
    "\n",
    "    buckets[\"vpin\"] = vpin_values\n",
    "\n",
    "    # Step 4: Map back to original timeframe\n",
    "    df[\"bucket_id\"] = (df[\"volume\"].cumsum() / bucket_size).astype(int)\n",
    "    vpin_map = dict(zip(buckets[\"bucket_id\"], vpin_values))\n",
    "    df[\"vpin\"] = df[\"bucket_id\"].map(vpin_map)\n",
    "\n",
    "    return df, buckets, vpin_values"
   ]
  },
  {
   "cell_type": "code",
   "execution_count": 20,
   "metadata": {},
   "outputs": [],
   "source": [
    "from scipy.stats import rankdata\n",
    "\n",
    "\n",
    "def calculate_vpin_cdf(vpin_values):\n",
    "    out = np.full_like(vpin_values, np.nan, dtype=float)\n",
    "    m = ~np.isnan(vpin_values)\n",
    "    if m.sum() == 0:\n",
    "        return out\n",
    "    ranks = rankdata(vpin_values[m], method=\"average\")  # 1..N\n",
    "    out[m] = ranks / (len(ranks) + 1.0)  # (0,1)\n",
    "    return out\n"
   ]
  },
  {
   "cell_type": "markdown",
   "metadata": {},
   "source": [
    "## Data Collection and VPIN Calculation"
   ]
  },
  {
   "cell_type": "code",
   "execution_count": 21,
   "metadata": {},
   "outputs": [
    {
     "name": "stdout",
     "output_type": "stream",
     "text": [
      "Fetching Bitcoin data...\n",
      "Data: 181 points from 2025-03-22 00:00:00 to 2025-09-17 06:38:47\n",
      "\n",
      "Calculating academic VPIN...\n",
      "Buckets: 181 volume-synchronized buckets\n",
      "Toxic events: 18 buckets with CDF > 0.9\n",
      "Smoothed-toxic events: 4 (len=181)\n"
     ]
    }
   ],
   "source": [
    "# Fetch real data\n",
    "print(\"Fetching Bitcoin data...\")\n",
    "data = cg.get_coin_market_chart_by_id(coin, vs_currency=\"usd\", days=days)\n",
    "\n",
    "df = pd.DataFrame(data[\"prices\"], columns=[\"timestamp\", \"price\"])\n",
    "df[\"volume\"] = pd.DataFrame(data[\"total_volumes\"])[1]\n",
    "df[\"datetime\"] = pd.to_datetime(df[\"timestamp\"], unit=\"ms\")\n",
    "df = df.sort_values(\"datetime\").reset_index(drop=True)\n",
    "\n",
    "print(f\"Data: {len(df)} points from {df['datetime'].min()} to {df['datetime'].max()}\")\n",
    "\n",
    "# Calculate academic VPIN\n",
    "print(\"\\nCalculating academic VPIN...\")\n",
    "df, buckets, vpin_raw = calculate_academic_vpin(df, bucket_size_pct=0.01)\n",
    "\n",
    "# Convert to CDF (toxicity metric)\n",
    "vpin_cdf = calculate_vpin_cdf(vpin_raw)\n",
    "buckets[\"vpin_cdf\"] = vpin_cdf\n",
    "THRESHOLD = 0.9\n",
    "\n",
    "# Identify toxicity events\n",
    "buckets[\"toxic_event\"] = vpin_cdf > THRESHOLD\n",
    "\n",
    "print(f\"Buckets: {len(buckets)} volume-synchronized buckets\")\n",
    "print(f\"Toxic events: {buckets['toxic_event'].sum()} buckets with CDF > 0.9\")\n",
    "\n",
    "# Smooth the *CDF* (toxicity metric)\n",
    "buckets[\"vpin_cdf_ssf\"] = ta.supersmoother(buckets[\"vpin_cdf\"].values, period=20)\n",
    "\n",
    "# (Optional) Smooth the raw VPIN too\n",
    "# buckets['vpin_raw_ssf'] = ehlers_supersmoother(pd.Series(vpin_raw, index=buckets.index), length=20, poles=2)\n",
    "\n",
    "# Recompute toxicity events on the smoothed series (tune threshold if desired)\n",
    "buckets[\"toxic_event_ssf\"] = buckets[\"vpin_cdf_ssf\"] > THRESHOLD\n",
    "\n",
    "print(f\"Smoothed-toxic events: {buckets['toxic_event_ssf'].sum()} (len={len(buckets)})\")\n"
   ]
  },
  {
   "cell_type": "markdown",
   "metadata": {},
   "source": [
    "## Visualization: Academic VPIN Analysis"
   ]
  },
  {
   "cell_type": "code",
   "execution_count": 22,
   "metadata": {},
   "outputs": [
    {
     "data": {
      "application/vnd.plotly.v1+json": {
       "config": {
        "plotlyServerURL": "https://plot.ly"
       },
       "data": [
        {
         "line": {
          "color": "lightblue",
          "width": 1
         },
         "name": "Price",
         "type": "scatter",
         "x": [
          "2025-03-22T00:00:00.000000000",
          "2025-03-23T00:00:00.000000000",
          "2025-03-24T00:00:00.000000000",
          "2025-03-25T00:00:00.000000000",
          "2025-03-26T00:00:00.000000000",
          "2025-03-27T00:00:00.000000000",
          "2025-03-28T00:00:00.000000000",
          "2025-03-29T00:00:00.000000000",
          "2025-03-30T00:00:00.000000000",
          "2025-03-31T00:00:00.000000000",
          "2025-04-01T00:00:00.000000000",
          "2025-04-02T00:00:00.000000000",
          "2025-04-03T00:00:00.000000000",
          "2025-04-04T00:00:00.000000000",
          "2025-04-05T00:00:00.000000000",
          "2025-04-06T00:00:00.000000000",
          "2025-04-07T00:00:00.000000000",
          "2025-04-08T00:00:00.000000000",
          "2025-04-09T00:00:00.000000000",
          "2025-04-10T00:00:00.000000000",
          "2025-04-11T00:00:00.000000000",
          "2025-04-12T00:00:00.000000000",
          "2025-04-13T00:00:00.000000000",
          "2025-04-14T00:00:00.000000000",
          "2025-04-15T00:00:00.000000000",
          "2025-04-16T00:00:00.000000000",
          "2025-04-17T00:00:00.000000000",
          "2025-04-18T00:00:00.000000000",
          "2025-04-19T00:00:00.000000000",
          "2025-04-20T00:00:00.000000000",
          "2025-04-21T00:00:00.000000000",
          "2025-04-22T00:00:00.000000000",
          "2025-04-23T00:00:00.000000000",
          "2025-04-24T00:00:00.000000000",
          "2025-04-25T00:00:00.000000000",
          "2025-04-26T00:00:00.000000000",
          "2025-04-27T00:00:00.000000000",
          "2025-04-28T00:00:00.000000000",
          "2025-04-29T00:00:00.000000000",
          "2025-04-30T00:00:00.000000000",
          "2025-05-01T00:00:00.000000000",
          "2025-05-02T00:00:00.000000000",
          "2025-05-03T00:00:00.000000000",
          "2025-05-04T00:00:00.000000000",
          "2025-05-05T00:00:00.000000000",
          "2025-05-06T00:00:00.000000000",
          "2025-05-07T00:00:00.000000000",
          "2025-05-08T00:00:00.000000000",
          "2025-05-09T00:00:00.000000000",
          "2025-05-10T00:00:00.000000000",
          "2025-05-11T00:00:00.000000000",
          "2025-05-12T00:00:00.000000000",
          "2025-05-13T00:00:00.000000000",
          "2025-05-14T00:00:00.000000000",
          "2025-05-15T00:00:00.000000000",
          "2025-05-16T00:00:00.000000000",
          "2025-05-17T00:00:00.000000000",
          "2025-05-18T00:00:00.000000000",
          "2025-05-19T00:00:00.000000000",
          "2025-05-20T00:00:00.000000000",
          "2025-05-21T00:00:00.000000000",
          "2025-05-22T00:00:00.000000000",
          "2025-05-23T00:00:00.000000000",
          "2025-05-24T00:00:00.000000000",
          "2025-05-25T00:00:00.000000000",
          "2025-05-26T00:00:00.000000000",
          "2025-05-27T00:00:00.000000000",
          "2025-05-28T00:00:00.000000000",
          "2025-05-29T00:00:00.000000000",
          "2025-05-30T00:00:00.000000000",
          "2025-05-31T00:00:00.000000000",
          "2025-06-01T00:00:00.000000000",
          "2025-06-02T00:00:00.000000000",
          "2025-06-03T00:00:00.000000000",
          "2025-06-04T00:00:00.000000000",
          "2025-06-05T00:00:00.000000000",
          "2025-06-06T00:00:00.000000000",
          "2025-06-07T00:00:00.000000000",
          "2025-06-08T00:00:00.000000000",
          "2025-06-09T00:00:00.000000000",
          "2025-06-10T00:00:00.000000000",
          "2025-06-11T00:00:00.000000000",
          "2025-06-12T00:00:00.000000000",
          "2025-06-13T00:00:00.000000000",
          "2025-06-14T00:00:00.000000000",
          "2025-06-15T00:00:00.000000000",
          "2025-06-16T00:00:00.000000000",
          "2025-06-17T00:00:00.000000000",
          "2025-06-18T00:00:00.000000000",
          "2025-06-19T00:00:00.000000000",
          "2025-06-20T00:00:00.000000000",
          "2025-06-21T00:00:00.000000000",
          "2025-06-22T00:00:00.000000000",
          "2025-06-23T00:00:00.000000000",
          "2025-06-24T00:00:00.000000000",
          "2025-06-25T00:00:00.000000000",
          "2025-06-26T00:00:00.000000000",
          "2025-06-27T00:00:00.000000000",
          "2025-06-28T00:00:00.000000000",
          "2025-06-29T00:00:00.000000000",
          "2025-06-30T00:00:00.000000000",
          "2025-07-01T00:00:00.000000000",
          "2025-07-02T00:00:00.000000000",
          "2025-07-03T00:00:00.000000000",
          "2025-07-04T00:00:00.000000000",
          "2025-07-05T00:00:00.000000000",
          "2025-07-06T00:00:00.000000000",
          "2025-07-07T00:00:00.000000000",
          "2025-07-08T00:00:00.000000000",
          "2025-07-09T00:00:00.000000000",
          "2025-07-10T00:00:00.000000000",
          "2025-07-11T00:00:00.000000000",
          "2025-07-12T00:00:00.000000000",
          "2025-07-13T00:00:00.000000000",
          "2025-07-14T00:00:00.000000000",
          "2025-07-15T00:00:00.000000000",
          "2025-07-16T00:00:00.000000000",
          "2025-07-17T00:00:00.000000000",
          "2025-07-18T00:00:00.000000000",
          "2025-07-19T00:00:00.000000000",
          "2025-07-20T00:00:00.000000000",
          "2025-07-21T00:00:00.000000000",
          "2025-07-22T00:00:00.000000000",
          "2025-07-23T00:00:00.000000000",
          "2025-07-24T00:00:00.000000000",
          "2025-07-25T00:00:00.000000000",
          "2025-07-26T00:00:00.000000000",
          "2025-07-27T00:00:00.000000000",
          "2025-07-28T00:00:00.000000000",
          "2025-07-29T00:00:00.000000000",
          "2025-07-30T00:00:00.000000000",
          "2025-07-31T00:00:00.000000000",
          "2025-08-01T00:00:00.000000000",
          "2025-08-02T00:00:00.000000000",
          "2025-08-03T00:00:00.000000000",
          "2025-08-04T00:00:00.000000000",
          "2025-08-05T00:00:00.000000000",
          "2025-08-06T00:00:00.000000000",
          "2025-08-07T00:00:00.000000000",
          "2025-08-08T00:00:00.000000000",
          "2025-08-09T00:00:00.000000000",
          "2025-08-10T00:00:00.000000000",
          "2025-08-11T00:00:00.000000000",
          "2025-08-12T00:00:00.000000000",
          "2025-08-13T00:00:00.000000000",
          "2025-08-14T00:00:00.000000000",
          "2025-08-15T00:00:00.000000000",
          "2025-08-16T00:00:00.000000000",
          "2025-08-17T00:00:00.000000000",
          "2025-08-18T00:00:00.000000000",
          "2025-08-19T00:00:00.000000000",
          "2025-08-20T00:00:00.000000000",
          "2025-08-21T00:00:00.000000000",
          "2025-08-22T00:00:00.000000000",
          "2025-08-23T00:00:00.000000000",
          "2025-08-24T00:00:00.000000000",
          "2025-08-25T00:00:00.000000000",
          "2025-08-26T00:00:00.000000000",
          "2025-08-27T00:00:00.000000000",
          "2025-08-28T00:00:00.000000000",
          "2025-08-29T00:00:00.000000000",
          "2025-08-30T00:00:00.000000000",
          "2025-08-31T00:00:00.000000000",
          "2025-09-01T00:00:00.000000000",
          "2025-09-02T00:00:00.000000000",
          "2025-09-03T00:00:00.000000000",
          "2025-09-04T00:00:00.000000000",
          "2025-09-05T00:00:00.000000000",
          "2025-09-06T00:00:00.000000000",
          "2025-09-07T00:00:00.000000000",
          "2025-09-08T00:00:00.000000000",
          "2025-09-09T00:00:00.000000000",
          "2025-09-10T00:00:00.000000000",
          "2025-09-11T00:00:00.000000000",
          "2025-09-12T00:00:00.000000000",
          "2025-09-13T00:00:00.000000000",
          "2025-09-14T00:00:00.000000000",
          "2025-09-15T00:00:00.000000000",
          "2025-09-16T00:00:00.000000000",
          "2025-09-17T00:00:00.000000000",
          "2025-09-17T06:38:47.000000000"
         ],
         "xaxis": "x",
         "y": {
          "bdata": "ggR/76sHYEBOmCs7igxgQGyfZvQ7g2BA3/1hMIqSYUCYcnqO2/1hQLgSeqn8ImFAYXFEmSBMYUDgSn5oRy5gQBQB1hIfIF9ALSNWXiklX0D70KV3bzdfQBEyVtqks19A0MOT7XiFXUA8YNxSWUxdQJot6AOjrV5A1p6GxcYKXkCaKkg4+HBaQIXrUzT+slpAmZVPlSNfWkB7LRXWn71dQFQeOvy2OFxAf5IIpR5ZXkDqs2658IRgQO+3WASDB2BAqgnve38tYEAW4s/McpNfQIC3z488b2BAFZ1Cbq/TYEAa7YAdPL9gQLw0hjKPdGFAVi5h7TU0YUCm98CdkgphQIpm4Cm6mWJAr2wfRf/fYkC4NbHWjgpjQHekZ15x3WJAKUcDvq6kYkDdXpO85IdiQB3keee0f2JAxlOhIMdPYkBKleyxeHdiQEsz875V2GJA5zxywxt/YkBeZLGDhVliQDPH3Qhv/2FAPSfPTPFZYkCunlC0GV1iQMp29UprZmJA2i4fHFJtZEDhsmFzTpZlQDGpwHr4KmZA/zmtCHObZUBm9ESPbM1lQIrOGra4AWdA+b2l8o8OZkBuSLUYFhhlQMsB43iU+GRAmUGJsw++ZEDQgJE1TXFlQD0n1k7g1mRAFLia5FcMZUCDYRSE975lQDrsq+WFcmZAudqHAfHNZUCAC9R77P9lQKziPqo55GVAcrARY+/WZUCMJ7a0fRJmQJe3xw3dg2VAXHUmpdjaZEDzEkJ2Z5BjQCCQb3bUm2NAQNUFgzC0Y0DILiiTFJ9jQKv3eFpvcmNA7Ih8TPAwY0B9i+l0hxFiQAFTDZa7iGJATbMXWmnCYkA3luuSJBBjQNfO1igdJWRATpC4jNyeZECh6dm+oiBkQNli5nUiFWNAk2xhRfmQYkCWahOqDBhiQLbBI57qFWNAoKGJA/DtYkCO0juEvX9iQHkmVf7cSGJAVX1HBC1jYkCX7/lrSIFhQJ8ACla4tmBATIql+wd6YEB4LeuaAhliQMElnZSpOWJAJFjuBNjrYUBmCDWzS19hQK82/2YOxGFAQ09G5f/YYkCazdCSMypjQLzBSZf/XWNAGoMxyOpaYkBiY5KGYAVjQOF6sPz6CGNA0AT4vGp4YkD3gOCzOHNiQJX7OCh5/WJA+jnkF0iZYkCs6DExlvpiQEUaeqilpmNAmN/LfHZ7ZEBz+EIqGlhkQPBQ1oEDD2RACVfansMnZEDV4Uf3B0lkQAAZhBXofmRAOfgT4Ya6ZUCzZyLpHwNmQEYILWTVK2ZAkBNgfyUdZkDLf9NbwJ9mQCAZgt2PjWhA55aiGk+paUAScRAk9LJnQF/KvWzy0WZAZIowmH9FZ0ASPvERER5nQAYgWzBtkmdA6ZBu1PfgZkDnS9tTXqVmQLQt11wZPGZA8xXKrTeFZUCNaqoaUllkQMiHsAMA0WNAogQLZOY8ZECusgx8SS1lQIIMAJisgmRAyo0H0ooFZUDVuvYhU+xlQHrSlYZzGWZAmnolQF2MZkCkz+AfFt1mQDfM76xx4WVAr42QGAMTaECVWaGwMjppQD6tIr03GGhAWIPpszAzZ0CB1hwdn7hnQC4aMv2C9GdAye/szmrgZkDtJcCjzgxmQENpF86KaGdAUmYYasaHZkBsLoC5VghpQOUxyjyegGlAxLnZZDC8aUDHdQSY7WVnQBiJ9KWLf2hAJ5NrrWNpaUAwmAc8ltFqQHsURNSqomlA8V+re7lWaUDI3Kzy1BxpQDVf2j9InGhAxAvzKl8nakBEsrabuFVqQGDXryDwVWlARfSnFlVvaUDgZRId+QVpQLP6IHWX0GlAItxqu93CakCftLBxUyxrQCJFajD9/2tA4N+HJGKWbEDyZriNQ0huQOR2wfhcVW5AkfwXfJwQbkDz0jIDvzptQOMzO2gaoG1ActQv/U5ubUA=",
          "dtype": "f8"
         },
         "yaxis": "y"
        },
        {
         "marker": {
          "color": [
           "red",
           "green",
           "green",
           "green",
           "green",
           "red",
           "green",
           "red",
           "red",
           "green",
           "green",
           "green",
           "red",
           "red",
           "green",
           "red",
           "red",
           "green",
           "red",
           "green",
           "red",
           "green",
           "green",
           "red",
           "green",
           "red",
           "green",
           "green",
           "red",
           "green",
           "red",
           "red",
           "green",
           "green",
           "green",
           "red",
           "red",
           "red",
           "red",
           "red",
           "green",
           "green",
           "red",
           "red",
           "red",
           "green",
           "green",
           "green",
           "green",
           "green",
           "green",
           "red",
           "green",
           "green",
           "red",
           "red",
           "red",
           "red",
           "green",
           "red",
           "green",
           "green",
           "green",
           "red",
           "green",
           "red",
           "red",
           "green",
           "red",
           "red",
           "red",
           "green",
           "green",
           "red",
           "red",
           "red",
           "red",
           "green",
           "green",
           "green",
           "green",
           "green",
           "red",
           "red",
           "red",
           "red",
           "green",
           "red",
           "red",
           "red",
           "green",
           "red",
           "red",
           "red",
           "green",
           "green",
           "red",
           "red",
           "green",
           "green",
           "green",
           "green",
           "red",
           "green",
           "green",
           "red",
           "red",
           "green",
           "red",
           "green",
           "green",
           "green",
           "red",
           "red",
           "green",
           "green",
           "green",
           "green",
           "green",
           "green",
           "red",
           "green",
           "green",
           "green",
           "red",
           "red",
           "green",
           "red",
           "green",
           "red",
           "red",
           "red",
           "red",
           "red",
           "red",
           "green",
           "green",
           "red",
           "green",
           "green",
           "green",
           "green",
           "green",
           "red",
           "green",
           "green",
           "red",
           "red",
           "green",
           "green",
           "red",
           "red",
           "green",
           "red",
           "green",
           "green",
           "green",
           "red",
           "green",
           "green",
           "green",
           "red",
           "red",
           "red",
           "red",
           "green",
           "green",
           "red",
           "green",
           "red",
           "green",
           "green",
           "green",
           "green",
           "green",
           "green",
           "green",
           "red",
           "red",
           "green",
           "red"
          ]
         },
         "name": "Volume Imbalance",
         "opacity": 0.6,
         "showlegend": false,
         "type": "bar",
         "x": [
          "2025-03-22T00:00:00.000000000",
          "2025-03-23T00:00:00.000000000",
          "2025-03-24T00:00:00.000000000",
          "2025-03-25T00:00:00.000000000",
          "2025-03-26T00:00:00.000000000",
          "2025-03-27T00:00:00.000000000",
          "2025-03-28T00:00:00.000000000",
          "2025-03-29T00:00:00.000000000",
          "2025-03-30T00:00:00.000000000",
          "2025-03-31T00:00:00.000000000",
          "2025-04-01T00:00:00.000000000",
          "2025-04-02T00:00:00.000000000",
          "2025-04-03T00:00:00.000000000",
          "2025-04-04T00:00:00.000000000",
          "2025-04-05T00:00:00.000000000",
          "2025-04-06T00:00:00.000000000",
          "2025-04-07T00:00:00.000000000",
          "2025-04-08T00:00:00.000000000",
          "2025-04-09T00:00:00.000000000",
          "2025-04-10T00:00:00.000000000",
          "2025-04-11T00:00:00.000000000",
          "2025-04-12T00:00:00.000000000",
          "2025-04-13T00:00:00.000000000",
          "2025-04-14T00:00:00.000000000",
          "2025-04-15T00:00:00.000000000",
          "2025-04-16T00:00:00.000000000",
          "2025-04-17T00:00:00.000000000",
          "2025-04-18T00:00:00.000000000",
          "2025-04-19T00:00:00.000000000",
          "2025-04-20T00:00:00.000000000",
          "2025-04-21T00:00:00.000000000",
          "2025-04-22T00:00:00.000000000",
          "2025-04-23T00:00:00.000000000",
          "2025-04-24T00:00:00.000000000",
          "2025-04-25T00:00:00.000000000",
          "2025-04-26T00:00:00.000000000",
          "2025-04-27T00:00:00.000000000",
          "2025-04-28T00:00:00.000000000",
          "2025-04-29T00:00:00.000000000",
          "2025-04-30T00:00:00.000000000",
          "2025-05-01T00:00:00.000000000",
          "2025-05-02T00:00:00.000000000",
          "2025-05-03T00:00:00.000000000",
          "2025-05-04T00:00:00.000000000",
          "2025-05-05T00:00:00.000000000",
          "2025-05-06T00:00:00.000000000",
          "2025-05-07T00:00:00.000000000",
          "2025-05-08T00:00:00.000000000",
          "2025-05-09T00:00:00.000000000",
          "2025-05-10T00:00:00.000000000",
          "2025-05-11T00:00:00.000000000",
          "2025-05-12T00:00:00.000000000",
          "2025-05-13T00:00:00.000000000",
          "2025-05-14T00:00:00.000000000",
          "2025-05-15T00:00:00.000000000",
          "2025-05-16T00:00:00.000000000",
          "2025-05-17T00:00:00.000000000",
          "2025-05-18T00:00:00.000000000",
          "2025-05-19T00:00:00.000000000",
          "2025-05-20T00:00:00.000000000",
          "2025-05-21T00:00:00.000000000",
          "2025-05-22T00:00:00.000000000",
          "2025-05-23T00:00:00.000000000",
          "2025-05-24T00:00:00.000000000",
          "2025-05-25T00:00:00.000000000",
          "2025-05-26T00:00:00.000000000",
          "2025-05-27T00:00:00.000000000",
          "2025-05-28T00:00:00.000000000",
          "2025-05-29T00:00:00.000000000",
          "2025-05-30T00:00:00.000000000",
          "2025-05-31T00:00:00.000000000",
          "2025-06-01T00:00:00.000000000",
          "2025-06-02T00:00:00.000000000",
          "2025-06-03T00:00:00.000000000",
          "2025-06-04T00:00:00.000000000",
          "2025-06-05T00:00:00.000000000",
          "2025-06-06T00:00:00.000000000",
          "2025-06-07T00:00:00.000000000",
          "2025-06-08T00:00:00.000000000",
          "2025-06-09T00:00:00.000000000",
          "2025-06-10T00:00:00.000000000",
          "2025-06-11T00:00:00.000000000",
          "2025-06-12T00:00:00.000000000",
          "2025-06-13T00:00:00.000000000",
          "2025-06-14T00:00:00.000000000",
          "2025-06-15T00:00:00.000000000",
          "2025-06-16T00:00:00.000000000",
          "2025-06-17T00:00:00.000000000",
          "2025-06-18T00:00:00.000000000",
          "2025-06-19T00:00:00.000000000",
          "2025-06-20T00:00:00.000000000",
          "2025-06-21T00:00:00.000000000",
          "2025-06-22T00:00:00.000000000",
          "2025-06-23T00:00:00.000000000",
          "2025-06-24T00:00:00.000000000",
          "2025-06-25T00:00:00.000000000",
          "2025-06-26T00:00:00.000000000",
          "2025-06-27T00:00:00.000000000",
          "2025-06-28T00:00:00.000000000",
          "2025-06-29T00:00:00.000000000",
          "2025-06-30T00:00:00.000000000",
          "2025-07-01T00:00:00.000000000",
          "2025-07-02T00:00:00.000000000",
          "2025-07-03T00:00:00.000000000",
          "2025-07-04T00:00:00.000000000",
          "2025-07-05T00:00:00.000000000",
          "2025-07-06T00:00:00.000000000",
          "2025-07-07T00:00:00.000000000",
          "2025-07-08T00:00:00.000000000",
          "2025-07-09T00:00:00.000000000",
          "2025-07-10T00:00:00.000000000",
          "2025-07-11T00:00:00.000000000",
          "2025-07-12T00:00:00.000000000",
          "2025-07-13T00:00:00.000000000",
          "2025-07-14T00:00:00.000000000",
          "2025-07-15T00:00:00.000000000",
          "2025-07-16T00:00:00.000000000",
          "2025-07-17T00:00:00.000000000",
          "2025-07-18T00:00:00.000000000",
          "2025-07-19T00:00:00.000000000",
          "2025-07-20T00:00:00.000000000",
          "2025-07-21T00:00:00.000000000",
          "2025-07-22T00:00:00.000000000",
          "2025-07-23T00:00:00.000000000",
          "2025-07-24T00:00:00.000000000",
          "2025-07-25T00:00:00.000000000",
          "2025-07-26T00:00:00.000000000",
          "2025-07-27T00:00:00.000000000",
          "2025-07-28T00:00:00.000000000",
          "2025-07-29T00:00:00.000000000",
          "2025-07-30T00:00:00.000000000",
          "2025-07-31T00:00:00.000000000",
          "2025-08-01T00:00:00.000000000",
          "2025-08-02T00:00:00.000000000",
          "2025-08-03T00:00:00.000000000",
          "2025-08-04T00:00:00.000000000",
          "2025-08-05T00:00:00.000000000",
          "2025-08-06T00:00:00.000000000",
          "2025-08-07T00:00:00.000000000",
          "2025-08-08T00:00:00.000000000",
          "2025-08-09T00:00:00.000000000",
          "2025-08-10T00:00:00.000000000",
          "2025-08-11T00:00:00.000000000",
          "2025-08-12T00:00:00.000000000",
          "2025-08-13T00:00:00.000000000",
          "2025-08-14T00:00:00.000000000",
          "2025-08-15T00:00:00.000000000",
          "2025-08-16T00:00:00.000000000",
          "2025-08-17T00:00:00.000000000",
          "2025-08-18T00:00:00.000000000",
          "2025-08-19T00:00:00.000000000",
          "2025-08-20T00:00:00.000000000",
          "2025-08-21T00:00:00.000000000",
          "2025-08-22T00:00:00.000000000",
          "2025-08-23T00:00:00.000000000",
          "2025-08-24T00:00:00.000000000",
          "2025-08-25T00:00:00.000000000",
          "2025-08-26T00:00:00.000000000",
          "2025-08-27T00:00:00.000000000",
          "2025-08-28T00:00:00.000000000",
          "2025-08-29T00:00:00.000000000",
          "2025-08-30T00:00:00.000000000",
          "2025-08-31T00:00:00.000000000",
          "2025-09-01T00:00:00.000000000",
          "2025-09-02T00:00:00.000000000",
          "2025-09-03T00:00:00.000000000",
          "2025-09-04T00:00:00.000000000",
          "2025-09-05T00:00:00.000000000",
          "2025-09-06T00:00:00.000000000",
          "2025-09-07T00:00:00.000000000",
          "2025-09-08T00:00:00.000000000",
          "2025-09-09T00:00:00.000000000",
          "2025-09-10T00:00:00.000000000",
          "2025-09-11T00:00:00.000000000",
          "2025-09-12T00:00:00.000000000",
          "2025-09-13T00:00:00.000000000",
          "2025-09-14T00:00:00.000000000",
          "2025-09-15T00:00:00.000000000",
          "2025-09-16T00:00:00.000000000",
          "2025-09-17T00:00:00.000000000",
          "2025-09-17T06:38:47.000000000"
         ],
         "xaxis": "x2",
         "y": {
          "bdata": "AAAAAAAAAAAgAgZuTPaCQRJeqG6wIc9ByNetG7GI8EFD1m0lCSXcQaxDqYK83OTBVG3evH9+wUG/K4vF7QvrwSDpH7U9ENvBALctBH5Ed0GwQqrFs/6lQR95DDzOZNFB7Zargp+R9cFMA84nZQjKwSIblzgngPFBh5CbH8yRyMF5Y/DcwEPwwZrW0XgspNhBkMkhjYT608FTosNMWAX+QR5GZJp9HunBkmxAk+KS60Gi8YnQxUruQVO6TXBzvdrB+NCx9kqwxEHmkMR2Q8LTwQhVqzFdMOVB43NowVgp1UEAWj678i2mwWJ36s1S89hBQktweqhCxcGuzHZJWAzGwYWnHYy3u/JBHXoBEu7S0kEOhiOvcjfDQZptV164JsfBUtwM/hVjvMFAk4XPhh2swVDj8/Gs2J7BUOb8yiv7wMEwL5WfYny9Qc2Izsjzg9NBBLW1RtQXz8FY9wk1f5muwWbWUuCD4MLBY91u05j8ykGArMdWyNyCQYBANIEYiKVBHWozUtrf+0FwfBVJ3Y/5QVQBRvSNL99BNDSReEWr3sG0eaEYpSLTQZGUPlo6LfJBqINbqR1Z7MGQTxqdk5rrwRy4/XzyVbvBYP4tka9ow8GEnTHrIqLjQU3WwxiW6eHBenHA7NyQyUHoQ6ANxkbpQQ5UR+FlwOdBvHhvD5dC8MH8P5ECs6/BQTRm19W1zrXBOEfDmp1oo8FEd2KbYLbLQWAS3Bzal9zBKLXj2aM+4sFeX44xwL3wwdDQS5Jr3qNBWO2OZg4NtEGYqh5LCx21wR4rDbCg9srB/U0IBECczMFOEDaOLRLywSD2uRP4etpB4kw0J/8vwkGqWACzrd3IQQe6igfOS+tB7hnVEgYm5UG2PlhQ1/rowSk+2n8ADevBDPxwRIvc78FqHobR64/UwapGxrasMOpB1NDTDKVzzsGyZYpXkJrjwf1VfwKlSNHBoPbtRGYXu0EX2iVP5a7vwftHkjVEkOjBG7/Gi4eW3cGyupvuthr5QeCVkrwXFsRBlwaJ7s9k08HuAwtm5IbiwfAvyxf76dxBxzPKIoTx50FM56im9GDRQfSmjPZVpNVB9MpEufKf68GWU9/ekWzoQUCAbqm/K5NBXd0ICRvN48EgzI8VfM6HwQIY/Dj9beBB1yOv/kSZ3cF8l+G/x3bfQU2Oxh9eQexBWN0ABiv6/0Ekt5QXbUriwS1ZteDNkuLBgK1WSdlByUHQcYhfwObgQVj2gEEJ5+dBelrxK8pvDkKFLNPtlW7yQWA7GP2hC+hB4M1OlMxWv8FYPFhcthv7QcNtp8ZNkxVCZ1P1tzbcGEL7YnWwPasUwmAdZPcGVAnCzMOjxny2+0F00g/vktHKwW7890nq3eVB5X8GI/5I+sGWUE/w58DTwTn5Wyt+0eLB4BCMBEMt68GzJACReyn8wXgugshgfdzBiEz7eih62UG4JM5VsBnvQeCo7qgnnefBGFSTeX4f3kH4QdvgDO3rQVD5dO7hu9BBBOVGHOm54EEMwcb6KcHeQTh2Ohg7XfXBDargeUeE/kESZ9ElB0UCQjCbkCZclwXCURdH5J069sHXUineY7zeQdIe+eYDW8xBOM22hfYX88HKa75PxNnuwcrDOyaj5/RB3c7Am5cZ7MEiQZDLx7kCQpj45f8bD+VB4BibQkS/3kHuGW7f5JEGwlJcCkGt9fVBgpiqJNco/UGcJ/AgWjwCQm5UKeAJ2AHCCkB0HaYF08FgCjSPZ4HJwU4fxM8VHuTBgsurlLqF+0HgEgbYWjXKQTEMus+twufBEAPdw2ZCwEEFiN5OUw/Kwb11fDORkOBBSJPrcPH+9UG8ivIE6THjQZzxLFrztvJBk++PxIe87UHe5pQWOv8EQuDN0Iifpa1BisHJ3PkF2cH979xpjW/zwWigBTHkmt1B9PgI+4W0zcE=",
          "dtype": "f8"
         },
         "yaxis": "y2"
        },
        {
         "line": {
          "color": "orange",
          "width": 2
         },
         "name": "VPIN",
         "type": "scatter",
         "x": [
          "2025-03-22T00:00:00.000000000",
          "2025-03-23T00:00:00.000000000",
          "2025-03-24T00:00:00.000000000",
          "2025-03-25T00:00:00.000000000",
          "2025-03-26T00:00:00.000000000",
          "2025-03-27T00:00:00.000000000",
          "2025-03-28T00:00:00.000000000",
          "2025-03-29T00:00:00.000000000",
          "2025-03-30T00:00:00.000000000",
          "2025-03-31T00:00:00.000000000",
          "2025-04-01T00:00:00.000000000",
          "2025-04-02T00:00:00.000000000",
          "2025-04-03T00:00:00.000000000",
          "2025-04-04T00:00:00.000000000",
          "2025-04-05T00:00:00.000000000",
          "2025-04-06T00:00:00.000000000",
          "2025-04-07T00:00:00.000000000",
          "2025-04-08T00:00:00.000000000",
          "2025-04-09T00:00:00.000000000",
          "2025-04-10T00:00:00.000000000",
          "2025-04-11T00:00:00.000000000",
          "2025-04-12T00:00:00.000000000",
          "2025-04-13T00:00:00.000000000",
          "2025-04-14T00:00:00.000000000",
          "2025-04-15T00:00:00.000000000",
          "2025-04-16T00:00:00.000000000",
          "2025-04-17T00:00:00.000000000",
          "2025-04-18T00:00:00.000000000",
          "2025-04-19T00:00:00.000000000",
          "2025-04-20T00:00:00.000000000",
          "2025-04-21T00:00:00.000000000",
          "2025-04-22T00:00:00.000000000",
          "2025-04-23T00:00:00.000000000",
          "2025-04-24T00:00:00.000000000",
          "2025-04-25T00:00:00.000000000",
          "2025-04-26T00:00:00.000000000",
          "2025-04-27T00:00:00.000000000",
          "2025-04-28T00:00:00.000000000",
          "2025-04-29T00:00:00.000000000",
          "2025-04-30T00:00:00.000000000",
          "2025-05-01T00:00:00.000000000",
          "2025-05-02T00:00:00.000000000",
          "2025-05-03T00:00:00.000000000",
          "2025-05-04T00:00:00.000000000",
          "2025-05-05T00:00:00.000000000",
          "2025-05-06T00:00:00.000000000",
          "2025-05-07T00:00:00.000000000",
          "2025-05-08T00:00:00.000000000",
          "2025-05-09T00:00:00.000000000",
          "2025-05-10T00:00:00.000000000",
          "2025-05-11T00:00:00.000000000",
          "2025-05-12T00:00:00.000000000",
          "2025-05-13T00:00:00.000000000",
          "2025-05-14T00:00:00.000000000",
          "2025-05-15T00:00:00.000000000",
          "2025-05-16T00:00:00.000000000",
          "2025-05-17T00:00:00.000000000",
          "2025-05-18T00:00:00.000000000",
          "2025-05-19T00:00:00.000000000",
          "2025-05-20T00:00:00.000000000",
          "2025-05-21T00:00:00.000000000",
          "2025-05-22T00:00:00.000000000",
          "2025-05-23T00:00:00.000000000",
          "2025-05-24T00:00:00.000000000",
          "2025-05-25T00:00:00.000000000",
          "2025-05-26T00:00:00.000000000",
          "2025-05-27T00:00:00.000000000",
          "2025-05-28T00:00:00.000000000",
          "2025-05-29T00:00:00.000000000",
          "2025-05-30T00:00:00.000000000",
          "2025-05-31T00:00:00.000000000",
          "2025-06-01T00:00:00.000000000",
          "2025-06-02T00:00:00.000000000",
          "2025-06-03T00:00:00.000000000",
          "2025-06-04T00:00:00.000000000",
          "2025-06-05T00:00:00.000000000",
          "2025-06-06T00:00:00.000000000",
          "2025-06-07T00:00:00.000000000",
          "2025-06-08T00:00:00.000000000",
          "2025-06-09T00:00:00.000000000",
          "2025-06-10T00:00:00.000000000",
          "2025-06-11T00:00:00.000000000",
          "2025-06-12T00:00:00.000000000",
          "2025-06-13T00:00:00.000000000",
          "2025-06-14T00:00:00.000000000",
          "2025-06-15T00:00:00.000000000",
          "2025-06-16T00:00:00.000000000",
          "2025-06-17T00:00:00.000000000",
          "2025-06-18T00:00:00.000000000",
          "2025-06-19T00:00:00.000000000",
          "2025-06-20T00:00:00.000000000",
          "2025-06-21T00:00:00.000000000",
          "2025-06-22T00:00:00.000000000",
          "2025-06-23T00:00:00.000000000",
          "2025-06-24T00:00:00.000000000",
          "2025-06-25T00:00:00.000000000",
          "2025-06-26T00:00:00.000000000",
          "2025-06-27T00:00:00.000000000",
          "2025-06-28T00:00:00.000000000",
          "2025-06-29T00:00:00.000000000",
          "2025-06-30T00:00:00.000000000",
          "2025-07-01T00:00:00.000000000",
          "2025-07-02T00:00:00.000000000",
          "2025-07-03T00:00:00.000000000",
          "2025-07-04T00:00:00.000000000",
          "2025-07-05T00:00:00.000000000",
          "2025-07-06T00:00:00.000000000",
          "2025-07-07T00:00:00.000000000",
          "2025-07-08T00:00:00.000000000",
          "2025-07-09T00:00:00.000000000",
          "2025-07-10T00:00:00.000000000",
          "2025-07-11T00:00:00.000000000",
          "2025-07-12T00:00:00.000000000",
          "2025-07-13T00:00:00.000000000",
          "2025-07-14T00:00:00.000000000",
          "2025-07-15T00:00:00.000000000",
          "2025-07-16T00:00:00.000000000",
          "2025-07-17T00:00:00.000000000",
          "2025-07-18T00:00:00.000000000",
          "2025-07-19T00:00:00.000000000",
          "2025-07-20T00:00:00.000000000",
          "2025-07-21T00:00:00.000000000",
          "2025-07-22T00:00:00.000000000",
          "2025-07-23T00:00:00.000000000",
          "2025-07-24T00:00:00.000000000",
          "2025-07-25T00:00:00.000000000",
          "2025-07-26T00:00:00.000000000",
          "2025-07-27T00:00:00.000000000",
          "2025-07-28T00:00:00.000000000",
          "2025-07-29T00:00:00.000000000",
          "2025-07-30T00:00:00.000000000",
          "2025-07-31T00:00:00.000000000",
          "2025-08-01T00:00:00.000000000",
          "2025-08-02T00:00:00.000000000",
          "2025-08-03T00:00:00.000000000",
          "2025-08-04T00:00:00.000000000",
          "2025-08-05T00:00:00.000000000",
          "2025-08-06T00:00:00.000000000",
          "2025-08-07T00:00:00.000000000",
          "2025-08-08T00:00:00.000000000",
          "2025-08-09T00:00:00.000000000",
          "2025-08-10T00:00:00.000000000",
          "2025-08-11T00:00:00.000000000",
          "2025-08-12T00:00:00.000000000",
          "2025-08-13T00:00:00.000000000",
          "2025-08-14T00:00:00.000000000",
          "2025-08-15T00:00:00.000000000",
          "2025-08-16T00:00:00.000000000",
          "2025-08-17T00:00:00.000000000",
          "2025-08-18T00:00:00.000000000",
          "2025-08-19T00:00:00.000000000",
          "2025-08-20T00:00:00.000000000",
          "2025-08-21T00:00:00.000000000",
          "2025-08-22T00:00:00.000000000",
          "2025-08-23T00:00:00.000000000",
          "2025-08-24T00:00:00.000000000",
          "2025-08-25T00:00:00.000000000",
          "2025-08-26T00:00:00.000000000",
          "2025-08-27T00:00:00.000000000",
          "2025-08-28T00:00:00.000000000",
          "2025-08-29T00:00:00.000000000",
          "2025-08-30T00:00:00.000000000",
          "2025-08-31T00:00:00.000000000",
          "2025-09-01T00:00:00.000000000",
          "2025-09-02T00:00:00.000000000",
          "2025-09-03T00:00:00.000000000",
          "2025-09-04T00:00:00.000000000",
          "2025-09-05T00:00:00.000000000",
          "2025-09-06T00:00:00.000000000",
          "2025-09-07T00:00:00.000000000",
          "2025-09-08T00:00:00.000000000",
          "2025-09-09T00:00:00.000000000",
          "2025-09-10T00:00:00.000000000",
          "2025-09-11T00:00:00.000000000",
          "2025-09-12T00:00:00.000000000",
          "2025-09-13T00:00:00.000000000",
          "2025-09-14T00:00:00.000000000",
          "2025-09-15T00:00:00.000000000",
          "2025-09-16T00:00:00.000000000",
          "2025-09-17T00:00:00.000000000",
          "2025-09-17T06:38:47.000000000"
         ],
         "xaxis": "x3",
         "y": {
          "bdata": "AAAAAAAAAAAAAAAAAAAAAAAAAAAAAAAAAAAAAAAAAAAAAAAAAAAAAAAAAAAAAAAAAAAAAAAAAAAAAAAAAAAAAAAAAAAAAAAAAAAAAAAAAAAAAAAAAAAAAAAAAAAAAAAAAAAAAAAAAAAAAAAAAAAAAAAAAAAAAAAAAAAAAAAAAAAAAAAAAAAAAAAAAAAAAAAAAAAAAAAAAAAAAAAAAAAAAAAAAAAAAAAAAAAAAAAAAAAAAAAAAAAAAAAAAAAAAAAAAAAAAAAAAAAAAAAAAAAAAAAAAAAAAAAAAAAAAAAAAAAAAAAAAAAAAAAAAAAAAAAAAAAAAAAAAAAAAAAAAAAAAAAAAAAAAAAAAAAAAAAAAAAAAAAAAAAAAAAAAAAAAAAAAAAAAAAAAAAAAAAAAAAAAAAAAAAAAAAAAAAAAAAAAAAAAAAAAAAAAAAAAAAAAAAAAAAAAAAAAAAAAAAAAAAAAAAAAAAAAAAAAAAAAAAAAAAAAAAAAAAAAAAAAAAAAAAAAAAAAAAAAAAAAAAAAAAAAIcKMZFHqcI/1I8G52wjwT/1PYa4e87APzVi7KxY9sA/R5XM0z8luz/12BJNH+S5P/LRUumej7g/hXporKoDvD9qmCv3bGHAP84Y6WtAo70/2LB4NPxAvj8GKbUAECrAP+nPVSvyGMU/8izN1UPvwj8dkYKwIOjAP8HKbZnEA8E/MPXGXnxiwz9Qry9By3fDP5OI8MOgWMM/n5PSbOBkuz/rqaMMdx66Py/pdZXKM7Y/rzeirzQMsj/Bo3WcDNGzP5O6dbeDCLI/hWSdWcmIsj9Nhnv8O+KiP8Ru3EYC0KM/hM1pD3q+pT+aiOmH0s+jPwDMVVwzH64/3sTn2mhCsz8m0VRol6OiPxKd8xkvc4w/gJsxApg3gj+GsCyBVDOIP38J06V0jns/7NJh17gBaT8EVOKdgheBP6PfprEmgIY/cKYuXTfghj/pe/Cz4IeiP12wlYzVpqc/jVB8028cqz+7g55jFHyUP3f6aR08WJU/b8idBwArmz9/fm1SxnqjP3RhOi8nFLA/nQDkKLqdtD9mm32jb9S1P6xlGjn3tLE/2l+Q3anStz85tuD90uK5P472s1/hdbU/m5LL1LZYtD/4jX+rARm0P2v6fM8MpbA/NFIaRgA/tj/jRjqpstiwP/wcvsWFi6o/lCxjzSSLmz/Biy+o+/GpP0yfKHyG1qU/UHCg7uPrpD8VdV377MGcP3EPRPCQoYs/xpNJ9b9opz/gcQbI1YmxP7ijnG+kobU/0S8f9WbXuD9q59q2fu29P3z8xYsl+sY/atngcwvFzj9f49f9KfPFP0ttiTst4sA/4+MFg68/xD90dTRrHkLDP9E3N9xFv8M/oSrjoX/lwD+CYxfyhqK+P7X6DEzmU7s/OhuiuM0ouz8TDpaVjYa4P7RjI/gKJbo/4beVe53ouz/NZxMEDTi8P6G0weX38Lo/75FRllDNvT+iLC4Fr1fAPy7jcXJsbcA/FKVDj0hZwj/nV3iiu9LDP+NN9ypJqsI/0I92l68Hwz/POIg991XFP/qJhra/7cE/1H+9SbfJwD+WBoqhBc3AP6bQeIgJJMA/wUfiCxWTvD/fSchOZHq5PywJrB8ifL4/j276oaeRuj/TKusDs6e/P5R0zR/TLsE/6NpY9d1owT+3KRS7Vce6P8kOnXlTnr4/iq9TcTqCwD8/SgzYO8jBP5MkNGDcXro/g2qgdk1wuz8MgcH8JmW8P/yJNTyZlbo/j/CrNN6DvT/NryZnl6m8P4cd2HznArM/Sl5FL2H6sD8mpH8hhoauP13BLVDz87A/fmoV1O1QsD+Z36uJJMWSP+OJk4oaK6E/xVDcmwwToD9sjroMvne4P28RVTmuSrQ/HYOU8y6Vsz+YqVM4Wg+sP3uc0mVbPLQ/dL8CxdxatD8=",
          "dtype": "f8"
         },
         "yaxis": "y3"
        },
        {
         "fill": "tozeroy",
         "line": {
          "color": "purple",
          "width": 2
         },
         "name": "Toxicity Probability",
         "type": "scatter",
         "x": [
          "2025-03-22T00:00:00.000000000",
          "2025-03-23T00:00:00.000000000",
          "2025-03-24T00:00:00.000000000",
          "2025-03-25T00:00:00.000000000",
          "2025-03-26T00:00:00.000000000",
          "2025-03-27T00:00:00.000000000",
          "2025-03-28T00:00:00.000000000",
          "2025-03-29T00:00:00.000000000",
          "2025-03-30T00:00:00.000000000",
          "2025-03-31T00:00:00.000000000",
          "2025-04-01T00:00:00.000000000",
          "2025-04-02T00:00:00.000000000",
          "2025-04-03T00:00:00.000000000",
          "2025-04-04T00:00:00.000000000",
          "2025-04-05T00:00:00.000000000",
          "2025-04-06T00:00:00.000000000",
          "2025-04-07T00:00:00.000000000",
          "2025-04-08T00:00:00.000000000",
          "2025-04-09T00:00:00.000000000",
          "2025-04-10T00:00:00.000000000",
          "2025-04-11T00:00:00.000000000",
          "2025-04-12T00:00:00.000000000",
          "2025-04-13T00:00:00.000000000",
          "2025-04-14T00:00:00.000000000",
          "2025-04-15T00:00:00.000000000",
          "2025-04-16T00:00:00.000000000",
          "2025-04-17T00:00:00.000000000",
          "2025-04-18T00:00:00.000000000",
          "2025-04-19T00:00:00.000000000",
          "2025-04-20T00:00:00.000000000",
          "2025-04-21T00:00:00.000000000",
          "2025-04-22T00:00:00.000000000",
          "2025-04-23T00:00:00.000000000",
          "2025-04-24T00:00:00.000000000",
          "2025-04-25T00:00:00.000000000",
          "2025-04-26T00:00:00.000000000",
          "2025-04-27T00:00:00.000000000",
          "2025-04-28T00:00:00.000000000",
          "2025-04-29T00:00:00.000000000",
          "2025-04-30T00:00:00.000000000",
          "2025-05-01T00:00:00.000000000",
          "2025-05-02T00:00:00.000000000",
          "2025-05-03T00:00:00.000000000",
          "2025-05-04T00:00:00.000000000",
          "2025-05-05T00:00:00.000000000",
          "2025-05-06T00:00:00.000000000",
          "2025-05-07T00:00:00.000000000",
          "2025-05-08T00:00:00.000000000",
          "2025-05-09T00:00:00.000000000",
          "2025-05-10T00:00:00.000000000",
          "2025-05-11T00:00:00.000000000",
          "2025-05-12T00:00:00.000000000",
          "2025-05-13T00:00:00.000000000",
          "2025-05-14T00:00:00.000000000",
          "2025-05-15T00:00:00.000000000",
          "2025-05-16T00:00:00.000000000",
          "2025-05-17T00:00:00.000000000",
          "2025-05-18T00:00:00.000000000",
          "2025-05-19T00:00:00.000000000",
          "2025-05-20T00:00:00.000000000",
          "2025-05-21T00:00:00.000000000",
          "2025-05-22T00:00:00.000000000",
          "2025-05-23T00:00:00.000000000",
          "2025-05-24T00:00:00.000000000",
          "2025-05-25T00:00:00.000000000",
          "2025-05-26T00:00:00.000000000",
          "2025-05-27T00:00:00.000000000",
          "2025-05-28T00:00:00.000000000",
          "2025-05-29T00:00:00.000000000",
          "2025-05-30T00:00:00.000000000",
          "2025-05-31T00:00:00.000000000",
          "2025-06-01T00:00:00.000000000",
          "2025-06-02T00:00:00.000000000",
          "2025-06-03T00:00:00.000000000",
          "2025-06-04T00:00:00.000000000",
          "2025-06-05T00:00:00.000000000",
          "2025-06-06T00:00:00.000000000",
          "2025-06-07T00:00:00.000000000",
          "2025-06-08T00:00:00.000000000",
          "2025-06-09T00:00:00.000000000",
          "2025-06-10T00:00:00.000000000",
          "2025-06-11T00:00:00.000000000",
          "2025-06-12T00:00:00.000000000",
          "2025-06-13T00:00:00.000000000",
          "2025-06-14T00:00:00.000000000",
          "2025-06-15T00:00:00.000000000",
          "2025-06-16T00:00:00.000000000",
          "2025-06-17T00:00:00.000000000",
          "2025-06-18T00:00:00.000000000",
          "2025-06-19T00:00:00.000000000",
          "2025-06-20T00:00:00.000000000",
          "2025-06-21T00:00:00.000000000",
          "2025-06-22T00:00:00.000000000",
          "2025-06-23T00:00:00.000000000",
          "2025-06-24T00:00:00.000000000",
          "2025-06-25T00:00:00.000000000",
          "2025-06-26T00:00:00.000000000",
          "2025-06-27T00:00:00.000000000",
          "2025-06-28T00:00:00.000000000",
          "2025-06-29T00:00:00.000000000",
          "2025-06-30T00:00:00.000000000",
          "2025-07-01T00:00:00.000000000",
          "2025-07-02T00:00:00.000000000",
          "2025-07-03T00:00:00.000000000",
          "2025-07-04T00:00:00.000000000",
          "2025-07-05T00:00:00.000000000",
          "2025-07-06T00:00:00.000000000",
          "2025-07-07T00:00:00.000000000",
          "2025-07-08T00:00:00.000000000",
          "2025-07-09T00:00:00.000000000",
          "2025-07-10T00:00:00.000000000",
          "2025-07-11T00:00:00.000000000",
          "2025-07-12T00:00:00.000000000",
          "2025-07-13T00:00:00.000000000",
          "2025-07-14T00:00:00.000000000",
          "2025-07-15T00:00:00.000000000",
          "2025-07-16T00:00:00.000000000",
          "2025-07-17T00:00:00.000000000",
          "2025-07-18T00:00:00.000000000",
          "2025-07-19T00:00:00.000000000",
          "2025-07-20T00:00:00.000000000",
          "2025-07-21T00:00:00.000000000",
          "2025-07-22T00:00:00.000000000",
          "2025-07-23T00:00:00.000000000",
          "2025-07-24T00:00:00.000000000",
          "2025-07-25T00:00:00.000000000",
          "2025-07-26T00:00:00.000000000",
          "2025-07-27T00:00:00.000000000",
          "2025-07-28T00:00:00.000000000",
          "2025-07-29T00:00:00.000000000",
          "2025-07-30T00:00:00.000000000",
          "2025-07-31T00:00:00.000000000",
          "2025-08-01T00:00:00.000000000",
          "2025-08-02T00:00:00.000000000",
          "2025-08-03T00:00:00.000000000",
          "2025-08-04T00:00:00.000000000",
          "2025-08-05T00:00:00.000000000",
          "2025-08-06T00:00:00.000000000",
          "2025-08-07T00:00:00.000000000",
          "2025-08-08T00:00:00.000000000",
          "2025-08-09T00:00:00.000000000",
          "2025-08-10T00:00:00.000000000",
          "2025-08-11T00:00:00.000000000",
          "2025-08-12T00:00:00.000000000",
          "2025-08-13T00:00:00.000000000",
          "2025-08-14T00:00:00.000000000",
          "2025-08-15T00:00:00.000000000",
          "2025-08-16T00:00:00.000000000",
          "2025-08-17T00:00:00.000000000",
          "2025-08-18T00:00:00.000000000",
          "2025-08-19T00:00:00.000000000",
          "2025-08-20T00:00:00.000000000",
          "2025-08-21T00:00:00.000000000",
          "2025-08-22T00:00:00.000000000",
          "2025-08-23T00:00:00.000000000",
          "2025-08-24T00:00:00.000000000",
          "2025-08-25T00:00:00.000000000",
          "2025-08-26T00:00:00.000000000",
          "2025-08-27T00:00:00.000000000",
          "2025-08-28T00:00:00.000000000",
          "2025-08-29T00:00:00.000000000",
          "2025-08-30T00:00:00.000000000",
          "2025-08-31T00:00:00.000000000",
          "2025-09-01T00:00:00.000000000",
          "2025-09-02T00:00:00.000000000",
          "2025-09-03T00:00:00.000000000",
          "2025-09-04T00:00:00.000000000",
          "2025-09-05T00:00:00.000000000",
          "2025-09-06T00:00:00.000000000",
          "2025-09-07T00:00:00.000000000",
          "2025-09-08T00:00:00.000000000",
          "2025-09-09T00:00:00.000000000",
          "2025-09-10T00:00:00.000000000",
          "2025-09-11T00:00:00.000000000",
          "2025-09-12T00:00:00.000000000",
          "2025-09-13T00:00:00.000000000",
          "2025-09-14T00:00:00.000000000",
          "2025-09-15T00:00:00.000000000",
          "2025-09-16T00:00:00.000000000",
          "2025-09-17T00:00:00.000000000",
          "2025-09-17T06:38:47.000000000"
         ],
         "xaxis": "x4",
         "y": {
          "bdata": "AAAAAAAAAAAAAAAAAAAAADjzwjlJrIY/5wjigC8MnT9y67veRbmoP9dAeX5sfbE/xDQ5zhg7tj/mMMijTlm6P2o2TqLzvb0/ewdt6nkzwD+8HaDa5jDBPwyOQLB14sE/jUheDVVVwj/krVor7ZbCPwggQgC8s8I/wW0slay2wj9AeryxyqjCP+p/qcY3kcI/5EWJkEp1wj8YaFqgx1jCP4XeJGQlPsI/Lg+KL9Imwj+uUQUEdhPCP9uBlGwsBMI/bjoMsrT4wT++kW0PmPDBP9q0p3dG68E/4krRCCvowT8eLFyLuebBP/fIs2p25sE/qJVpgfrmwT/wYFjr8+fBP6judt4k6cE/VkvrVmHqwT/5FVQxjOvBP4aSLSKU7ME/VFwz1HDtwT/cWQtaIO7BP59BDgml7sE/q1ffwgPvwT8+x7ioQu/BP1RwzCxo78E/DHLVcnrvwT+2DAzwfu/BP+euVjt678E/TOIxAHDvwT9WcuQIY+/BP1Is1lZV78E/D/4KQkjvwT9P3bWaPO/BP5glX5yW1sU/lK5k0p+szz9xR0Z3JxrWP5ZNLZJMtdw/pvrLsJxP4T+uQfb0zYjjP66lZvJCB+U/uddZ+aII5j9DU5JjsuPmP8hjOJ6Ln+c/20Zk304q6D8uaJyKoZroP97PTOAjMek/5voMGZf56T/WB/Ugqq7qP20cli4AOes/GPoB26u36z8Dj+hZvz3sP/+4pl4zvOw/8ikggYfd7D8QRrECCGTsPxz2XiNGbes/3StdwzkN6j/KIuOir3PoPxYSrorb0+Y/CsCzTr1J5T/9WKwmycPjP754g2MxOOI/KnY4/yHR4D8pcKCQMDjfPxrOfneQW90/chNgkTpY3D8zTIUy8sLbP3/FP7/j+No/+jna/Zrn2T/BfIwmH7fYP4NDhxuTg9c/1OTTTAZR1j8j8qaC5DrVP8wtQkgwW9Q/joR0dby60z8v0NMBw33TPx5CVZml09M/JcNEViqv1D/myzZclJLVP9BpmYeDJdY/7rfbY1aA1j8IOK0yAtDWP0bk2eR5YNc/eAUCtwGI2D8oD5rh3UraP4s2Pbt7H9w/O1GNJiHl3T8b15RaPtbfP5NugxAW1eA/0rdrN0+K4T+8nQIzuATiP+GjxmZJM+I/VnGSO1E/4j+/Sv/EBjbiP8uqg5By6uE/eL+ZWaZP4T+eb8ETgIzgP2ThlGt2qN8/FDM2vDdR3j+ezR+GMf7cP9+OAV3Cj9s/UDAJ92BX2j+nky+Ots/ZPyE/C33LLto/ai+NZLRv2z9h5RHfc53dPzBH5AgZj+A/h6AAM6fh4j94yErVM2HlP5QJjJ/WnOc/2s8Sxmp66T/+H0bmnBDrPwdbOYNgVew/tP3QJVwz7T9+VzDoiYjtP2NCPal1Te0/uuJEVE2c7D8M7xX2vZLrP9k6rtIFWeo/+JmeHDc56T+xeGJm4lfoP40yDY3Bpec/ljzC86Qq5z/abLitcQXnPyRUEVjXLec/5LtIwwqj5z/uQfX0sWzoP4Fb2uIhYOk/dK5HPXZQ6j/MSiijXj/rPyGMLNaYEew/VIZiq5WS7D9L49jlt8HsPwQDH5r2rew/0vJR59xQ7D+TWteIu5brPxI8Pk0YvOo/FTcmEI7o6T8wnJHSnS/pP6M90zC02+g/1ze3R3Ht6D8gfW66LP3oPwfWOAOX6Og/3RGPn1ru6D82RGNWICjpP4o0/vFWSek/lbeZyn4d6T+S2r9f0NroP8VKnMNOgug/yN249iEo6D/uw+pWIevnPy6aK2u/fOc/LrF8L56l5j+g/r5r+IblP248Tf5TT+Q/oAmUSdYj4z/wjy64O+ThP1N2cnEyj+A/BGwOjRCk3j8EhUIshRrdPyGB/kyHytw/FjngiycY3T9j90uKmX3dPxQmEpL59N0/swOpEqm83j8=",
          "dtype": "f8"
         },
         "yaxis": "y4"
        },
        {
         "marker": {
          "color": "red",
          "size": 10,
          "symbol": "x"
         },
         "mode": "markers",
         "name": "Toxic Events",
         "showlegend": false,
         "type": "scatter",
         "x": [
          "2025-05-30T00:00:00.000000000",
          "2025-07-29T00:00:00.000000000",
          "2025-07-30T00:00:00.000000000",
          "2025-07-31T00:00:00.000000000"
         ],
         "xaxis": "x4",
         "y": {
          "bdata": "8ikggYfd7D+0/dAlXDPtP35XMOiJiO0/Y0I9qXVN7T8=",
          "dtype": "f8"
         },
         "yaxis": "y4"
        }
       ],
       "layout": {
        "annotations": [
         {
          "font": {
           "size": 16
          },
          "showarrow": false,
          "text": "Price with Volume Buckets",
          "x": 0.5,
          "xanchor": "center",
          "xref": "paper",
          "y": 1,
          "yanchor": "bottom",
          "yref": "paper"
         },
         {
          "font": {
           "size": 16
          },
          "showarrow": false,
          "text": "Order Flow Imbalance (Buy vs Sell Volume)",
          "x": 0.5,
          "xanchor": "center",
          "xref": "paper",
          "y": 0.7375,
          "yanchor": "bottom",
          "yref": "paper"
         },
         {
          "font": {
           "size": 16
          },
          "showarrow": false,
          "text": "VPIN (Raw) - Order Flow Toxicity",
          "x": 0.5,
          "xanchor": "center",
          "xref": "paper",
          "y": 0.475,
          "yanchor": "bottom",
          "yref": "paper"
         },
         {
          "font": {
           "size": 16
          },
          "showarrow": false,
          "text": "VPIN CDF - Toxicity Probability",
          "x": 0.5,
          "xanchor": "center",
          "xref": "paper",
          "y": 0.2125,
          "yanchor": "bottom",
          "yref": "paper"
         },
         {
          "showarrow": false,
          "text": "Flash Crash Level (0.2)",
          "x": 1,
          "xanchor": "right",
          "xref": "x3 domain",
          "y": 0.2,
          "yanchor": "bottom",
          "yref": "y3"
         },
         {
          "showarrow": false,
          "text": "Extreme Toxicity (90%)",
          "x": 1,
          "xanchor": "right",
          "xref": "x4 domain",
          "y": 0.9,
          "yanchor": "bottom",
          "yref": "y4"
         }
        ],
        "height": 900,
        "hovermode": "x unified",
        "shapes": [
         {
          "line": {
           "color": "gray",
           "dash": "dot"
          },
          "opacity": 0.3,
          "type": "line",
          "x0": "2025-03-22T00:00:00",
          "x1": "2025-03-22T00:00:00",
          "xref": "x",
          "y0": 0,
          "y1": 1,
          "yref": "y domain"
         },
         {
          "line": {
           "color": "gray",
           "dash": "dot"
          },
          "opacity": 0.3,
          "type": "line",
          "x0": "2025-04-01T00:00:00",
          "x1": "2025-04-01T00:00:00",
          "xref": "x",
          "y0": 0,
          "y1": 1,
          "yref": "y domain"
         },
         {
          "line": {
           "color": "gray",
           "dash": "dot"
          },
          "opacity": 0.3,
          "type": "line",
          "x0": "2025-04-11T00:00:00",
          "x1": "2025-04-11T00:00:00",
          "xref": "x",
          "y0": 0,
          "y1": 1,
          "yref": "y domain"
         },
         {
          "line": {
           "color": "gray",
           "dash": "dot"
          },
          "opacity": 0.3,
          "type": "line",
          "x0": "2025-04-21T00:00:00",
          "x1": "2025-04-21T00:00:00",
          "xref": "x",
          "y0": 0,
          "y1": 1,
          "yref": "y domain"
         },
         {
          "line": {
           "color": "gray",
           "dash": "dot"
          },
          "opacity": 0.3,
          "type": "line",
          "x0": "2025-05-01T00:00:00",
          "x1": "2025-05-01T00:00:00",
          "xref": "x",
          "y0": 0,
          "y1": 1,
          "yref": "y domain"
         },
         {
          "line": {
           "color": "gray",
           "dash": "dot"
          },
          "opacity": 0.3,
          "type": "line",
          "x0": "2025-05-11T00:00:00",
          "x1": "2025-05-11T00:00:00",
          "xref": "x",
          "y0": 0,
          "y1": 1,
          "yref": "y domain"
         },
         {
          "line": {
           "color": "gray",
           "dash": "dot"
          },
          "opacity": 0.3,
          "type": "line",
          "x0": "2025-05-21T00:00:00",
          "x1": "2025-05-21T00:00:00",
          "xref": "x",
          "y0": 0,
          "y1": 1,
          "yref": "y domain"
         },
         {
          "line": {
           "color": "gray",
           "dash": "dot"
          },
          "opacity": 0.3,
          "type": "line",
          "x0": "2025-05-31T00:00:00",
          "x1": "2025-05-31T00:00:00",
          "xref": "x",
          "y0": 0,
          "y1": 1,
          "yref": "y domain"
         },
         {
          "line": {
           "color": "gray",
           "dash": "dot"
          },
          "opacity": 0.3,
          "type": "line",
          "x0": "2025-06-10T00:00:00",
          "x1": "2025-06-10T00:00:00",
          "xref": "x",
          "y0": 0,
          "y1": 1,
          "yref": "y domain"
         },
         {
          "line": {
           "color": "gray",
           "dash": "dot"
          },
          "opacity": 0.3,
          "type": "line",
          "x0": "2025-06-20T00:00:00",
          "x1": "2025-06-20T00:00:00",
          "xref": "x",
          "y0": 0,
          "y1": 1,
          "yref": "y domain"
         },
         {
          "line": {
           "color": "gray",
           "dash": "dot"
          },
          "opacity": 0.3,
          "type": "line",
          "x0": "2025-06-30T00:00:00",
          "x1": "2025-06-30T00:00:00",
          "xref": "x",
          "y0": 0,
          "y1": 1,
          "yref": "y domain"
         },
         {
          "line": {
           "color": "gray",
           "dash": "dot"
          },
          "opacity": 0.3,
          "type": "line",
          "x0": "2025-07-10T00:00:00",
          "x1": "2025-07-10T00:00:00",
          "xref": "x",
          "y0": 0,
          "y1": 1,
          "yref": "y domain"
         },
         {
          "line": {
           "color": "gray",
           "dash": "dot"
          },
          "opacity": 0.3,
          "type": "line",
          "x0": "2025-07-20T00:00:00",
          "x1": "2025-07-20T00:00:00",
          "xref": "x",
          "y0": 0,
          "y1": 1,
          "yref": "y domain"
         },
         {
          "line": {
           "color": "gray",
           "dash": "dot"
          },
          "opacity": 0.3,
          "type": "line",
          "x0": "2025-07-30T00:00:00",
          "x1": "2025-07-30T00:00:00",
          "xref": "x",
          "y0": 0,
          "y1": 1,
          "yref": "y domain"
         },
         {
          "line": {
           "color": "gray",
           "dash": "dot"
          },
          "opacity": 0.3,
          "type": "line",
          "x0": "2025-08-09T00:00:00",
          "x1": "2025-08-09T00:00:00",
          "xref": "x",
          "y0": 0,
          "y1": 1,
          "yref": "y domain"
         },
         {
          "line": {
           "color": "gray",
           "dash": "dot"
          },
          "opacity": 0.3,
          "type": "line",
          "x0": "2025-08-19T00:00:00",
          "x1": "2025-08-19T00:00:00",
          "xref": "x",
          "y0": 0,
          "y1": 1,
          "yref": "y domain"
         },
         {
          "line": {
           "color": "gray",
           "dash": "dot"
          },
          "opacity": 0.3,
          "type": "line",
          "x0": "2025-08-29T00:00:00",
          "x1": "2025-08-29T00:00:00",
          "xref": "x",
          "y0": 0,
          "y1": 1,
          "yref": "y domain"
         },
         {
          "line": {
           "color": "gray",
           "dash": "dot"
          },
          "opacity": 0.3,
          "type": "line",
          "x0": "2025-09-08T00:00:00",
          "x1": "2025-09-08T00:00:00",
          "xref": "x",
          "y0": 0,
          "y1": 1,
          "yref": "y domain"
         },
         {
          "line": {
           "color": "gray",
           "dash": "dot"
          },
          "opacity": 0.3,
          "type": "line",
          "x0": "2025-09-17T06:38:47",
          "x1": "2025-09-17T06:38:47",
          "xref": "x",
          "y0": 0,
          "y1": 1,
          "yref": "y domain"
         },
         {
          "line": {
           "color": "red",
           "dash": "dash"
          },
          "type": "line",
          "x0": 0,
          "x1": 1,
          "xref": "x3 domain",
          "y0": 0.2,
          "y1": 0.2,
          "yref": "y3"
         },
         {
          "line": {
           "color": "red",
           "dash": "dash"
          },
          "type": "line",
          "x0": 0,
          "x1": 1,
          "xref": "x4 domain",
          "y0": 0.9,
          "y1": 0.9,
          "yref": "y4"
         }
        ],
        "showlegend": true,
        "template": {
         "data": {
          "bar": [
           {
            "error_x": {
             "color": "#2a3f5f"
            },
            "error_y": {
             "color": "#2a3f5f"
            },
            "marker": {
             "line": {
              "color": "white",
              "width": 0.5
             },
             "pattern": {
              "fillmode": "overlay",
              "size": 10,
              "solidity": 0.2
             }
            },
            "type": "bar"
           }
          ],
          "barpolar": [
           {
            "marker": {
             "line": {
              "color": "white",
              "width": 0.5
             },
             "pattern": {
              "fillmode": "overlay",
              "size": 10,
              "solidity": 0.2
             }
            },
            "type": "barpolar"
           }
          ],
          "carpet": [
           {
            "aaxis": {
             "endlinecolor": "#2a3f5f",
             "gridcolor": "#C8D4E3",
             "linecolor": "#C8D4E3",
             "minorgridcolor": "#C8D4E3",
             "startlinecolor": "#2a3f5f"
            },
            "baxis": {
             "endlinecolor": "#2a3f5f",
             "gridcolor": "#C8D4E3",
             "linecolor": "#C8D4E3",
             "minorgridcolor": "#C8D4E3",
             "startlinecolor": "#2a3f5f"
            },
            "type": "carpet"
           }
          ],
          "choropleth": [
           {
            "colorbar": {
             "outlinewidth": 0,
             "ticks": ""
            },
            "type": "choropleth"
           }
          ],
          "contour": [
           {
            "colorbar": {
             "outlinewidth": 0,
             "ticks": ""
            },
            "colorscale": [
             [
              0,
              "#0d0887"
             ],
             [
              0.1111111111111111,
              "#46039f"
             ],
             [
              0.2222222222222222,
              "#7201a8"
             ],
             [
              0.3333333333333333,
              "#9c179e"
             ],
             [
              0.4444444444444444,
              "#bd3786"
             ],
             [
              0.5555555555555556,
              "#d8576b"
             ],
             [
              0.6666666666666666,
              "#ed7953"
             ],
             [
              0.7777777777777778,
              "#fb9f3a"
             ],
             [
              0.8888888888888888,
              "#fdca26"
             ],
             [
              1,
              "#f0f921"
             ]
            ],
            "type": "contour"
           }
          ],
          "contourcarpet": [
           {
            "colorbar": {
             "outlinewidth": 0,
             "ticks": ""
            },
            "type": "contourcarpet"
           }
          ],
          "heatmap": [
           {
            "colorbar": {
             "outlinewidth": 0,
             "ticks": ""
            },
            "colorscale": [
             [
              0,
              "#0d0887"
             ],
             [
              0.1111111111111111,
              "#46039f"
             ],
             [
              0.2222222222222222,
              "#7201a8"
             ],
             [
              0.3333333333333333,
              "#9c179e"
             ],
             [
              0.4444444444444444,
              "#bd3786"
             ],
             [
              0.5555555555555556,
              "#d8576b"
             ],
             [
              0.6666666666666666,
              "#ed7953"
             ],
             [
              0.7777777777777778,
              "#fb9f3a"
             ],
             [
              0.8888888888888888,
              "#fdca26"
             ],
             [
              1,
              "#f0f921"
             ]
            ],
            "type": "heatmap"
           }
          ],
          "histogram": [
           {
            "marker": {
             "pattern": {
              "fillmode": "overlay",
              "size": 10,
              "solidity": 0.2
             }
            },
            "type": "histogram"
           }
          ],
          "histogram2d": [
           {
            "colorbar": {
             "outlinewidth": 0,
             "ticks": ""
            },
            "colorscale": [
             [
              0,
              "#0d0887"
             ],
             [
              0.1111111111111111,
              "#46039f"
             ],
             [
              0.2222222222222222,
              "#7201a8"
             ],
             [
              0.3333333333333333,
              "#9c179e"
             ],
             [
              0.4444444444444444,
              "#bd3786"
             ],
             [
              0.5555555555555556,
              "#d8576b"
             ],
             [
              0.6666666666666666,
              "#ed7953"
             ],
             [
              0.7777777777777778,
              "#fb9f3a"
             ],
             [
              0.8888888888888888,
              "#fdca26"
             ],
             [
              1,
              "#f0f921"
             ]
            ],
            "type": "histogram2d"
           }
          ],
          "histogram2dcontour": [
           {
            "colorbar": {
             "outlinewidth": 0,
             "ticks": ""
            },
            "colorscale": [
             [
              0,
              "#0d0887"
             ],
             [
              0.1111111111111111,
              "#46039f"
             ],
             [
              0.2222222222222222,
              "#7201a8"
             ],
             [
              0.3333333333333333,
              "#9c179e"
             ],
             [
              0.4444444444444444,
              "#bd3786"
             ],
             [
              0.5555555555555556,
              "#d8576b"
             ],
             [
              0.6666666666666666,
              "#ed7953"
             ],
             [
              0.7777777777777778,
              "#fb9f3a"
             ],
             [
              0.8888888888888888,
              "#fdca26"
             ],
             [
              1,
              "#f0f921"
             ]
            ],
            "type": "histogram2dcontour"
           }
          ],
          "mesh3d": [
           {
            "colorbar": {
             "outlinewidth": 0,
             "ticks": ""
            },
            "type": "mesh3d"
           }
          ],
          "parcoords": [
           {
            "line": {
             "colorbar": {
              "outlinewidth": 0,
              "ticks": ""
             }
            },
            "type": "parcoords"
           }
          ],
          "pie": [
           {
            "automargin": true,
            "type": "pie"
           }
          ],
          "scatter": [
           {
            "fillpattern": {
             "fillmode": "overlay",
             "size": 10,
             "solidity": 0.2
            },
            "type": "scatter"
           }
          ],
          "scatter3d": [
           {
            "line": {
             "colorbar": {
              "outlinewidth": 0,
              "ticks": ""
             }
            },
            "marker": {
             "colorbar": {
              "outlinewidth": 0,
              "ticks": ""
             }
            },
            "type": "scatter3d"
           }
          ],
          "scattercarpet": [
           {
            "marker": {
             "colorbar": {
              "outlinewidth": 0,
              "ticks": ""
             }
            },
            "type": "scattercarpet"
           }
          ],
          "scattergeo": [
           {
            "marker": {
             "colorbar": {
              "outlinewidth": 0,
              "ticks": ""
             }
            },
            "type": "scattergeo"
           }
          ],
          "scattergl": [
           {
            "marker": {
             "colorbar": {
              "outlinewidth": 0,
              "ticks": ""
             }
            },
            "type": "scattergl"
           }
          ],
          "scattermap": [
           {
            "marker": {
             "colorbar": {
              "outlinewidth": 0,
              "ticks": ""
             }
            },
            "type": "scattermap"
           }
          ],
          "scattermapbox": [
           {
            "marker": {
             "colorbar": {
              "outlinewidth": 0,
              "ticks": ""
             }
            },
            "type": "scattermapbox"
           }
          ],
          "scatterpolar": [
           {
            "marker": {
             "colorbar": {
              "outlinewidth": 0,
              "ticks": ""
             }
            },
            "type": "scatterpolar"
           }
          ],
          "scatterpolargl": [
           {
            "marker": {
             "colorbar": {
              "outlinewidth": 0,
              "ticks": ""
             }
            },
            "type": "scatterpolargl"
           }
          ],
          "scatterternary": [
           {
            "marker": {
             "colorbar": {
              "outlinewidth": 0,
              "ticks": ""
             }
            },
            "type": "scatterternary"
           }
          ],
          "surface": [
           {
            "colorbar": {
             "outlinewidth": 0,
             "ticks": ""
            },
            "colorscale": [
             [
              0,
              "#0d0887"
             ],
             [
              0.1111111111111111,
              "#46039f"
             ],
             [
              0.2222222222222222,
              "#7201a8"
             ],
             [
              0.3333333333333333,
              "#9c179e"
             ],
             [
              0.4444444444444444,
              "#bd3786"
             ],
             [
              0.5555555555555556,
              "#d8576b"
             ],
             [
              0.6666666666666666,
              "#ed7953"
             ],
             [
              0.7777777777777778,
              "#fb9f3a"
             ],
             [
              0.8888888888888888,
              "#fdca26"
             ],
             [
              1,
              "#f0f921"
             ]
            ],
            "type": "surface"
           }
          ],
          "table": [
           {
            "cells": {
             "fill": {
              "color": "#EBF0F8"
             },
             "line": {
              "color": "white"
             }
            },
            "header": {
             "fill": {
              "color": "#C8D4E3"
             },
             "line": {
              "color": "white"
             }
            },
            "type": "table"
           }
          ]
         },
         "layout": {
          "annotationdefaults": {
           "arrowcolor": "#2a3f5f",
           "arrowhead": 0,
           "arrowwidth": 1
          },
          "autotypenumbers": "strict",
          "coloraxis": {
           "colorbar": {
            "outlinewidth": 0,
            "ticks": ""
           }
          },
          "colorscale": {
           "diverging": [
            [
             0,
             "#8e0152"
            ],
            [
             0.1,
             "#c51b7d"
            ],
            [
             0.2,
             "#de77ae"
            ],
            [
             0.3,
             "#f1b6da"
            ],
            [
             0.4,
             "#fde0ef"
            ],
            [
             0.5,
             "#f7f7f7"
            ],
            [
             0.6,
             "#e6f5d0"
            ],
            [
             0.7,
             "#b8e186"
            ],
            [
             0.8,
             "#7fbc41"
            ],
            [
             0.9,
             "#4d9221"
            ],
            [
             1,
             "#276419"
            ]
           ],
           "sequential": [
            [
             0,
             "#0d0887"
            ],
            [
             0.1111111111111111,
             "#46039f"
            ],
            [
             0.2222222222222222,
             "#7201a8"
            ],
            [
             0.3333333333333333,
             "#9c179e"
            ],
            [
             0.4444444444444444,
             "#bd3786"
            ],
            [
             0.5555555555555556,
             "#d8576b"
            ],
            [
             0.6666666666666666,
             "#ed7953"
            ],
            [
             0.7777777777777778,
             "#fb9f3a"
            ],
            [
             0.8888888888888888,
             "#fdca26"
            ],
            [
             1,
             "#f0f921"
            ]
           ],
           "sequentialminus": [
            [
             0,
             "#0d0887"
            ],
            [
             0.1111111111111111,
             "#46039f"
            ],
            [
             0.2222222222222222,
             "#7201a8"
            ],
            [
             0.3333333333333333,
             "#9c179e"
            ],
            [
             0.4444444444444444,
             "#bd3786"
            ],
            [
             0.5555555555555556,
             "#d8576b"
            ],
            [
             0.6666666666666666,
             "#ed7953"
            ],
            [
             0.7777777777777778,
             "#fb9f3a"
            ],
            [
             0.8888888888888888,
             "#fdca26"
            ],
            [
             1,
             "#f0f921"
            ]
           ]
          },
          "colorway": [
           "#636efa",
           "#EF553B",
           "#00cc96",
           "#ab63fa",
           "#FFA15A",
           "#19d3f3",
           "#FF6692",
           "#B6E880",
           "#FF97FF",
           "#FECB52"
          ],
          "font": {
           "color": "#2a3f5f"
          },
          "geo": {
           "bgcolor": "white",
           "lakecolor": "white",
           "landcolor": "white",
           "showlakes": true,
           "showland": true,
           "subunitcolor": "#C8D4E3"
          },
          "hoverlabel": {
           "align": "left"
          },
          "hovermode": "closest",
          "mapbox": {
           "style": "light"
          },
          "paper_bgcolor": "white",
          "plot_bgcolor": "white",
          "polar": {
           "angularaxis": {
            "gridcolor": "#EBF0F8",
            "linecolor": "#EBF0F8",
            "ticks": ""
           },
           "bgcolor": "white",
           "radialaxis": {
            "gridcolor": "#EBF0F8",
            "linecolor": "#EBF0F8",
            "ticks": ""
           }
          },
          "scene": {
           "xaxis": {
            "backgroundcolor": "white",
            "gridcolor": "#DFE8F3",
            "gridwidth": 2,
            "linecolor": "#EBF0F8",
            "showbackground": true,
            "ticks": "",
            "zerolinecolor": "#EBF0F8"
           },
           "yaxis": {
            "backgroundcolor": "white",
            "gridcolor": "#DFE8F3",
            "gridwidth": 2,
            "linecolor": "#EBF0F8",
            "showbackground": true,
            "ticks": "",
            "zerolinecolor": "#EBF0F8"
           },
           "zaxis": {
            "backgroundcolor": "white",
            "gridcolor": "#DFE8F3",
            "gridwidth": 2,
            "linecolor": "#EBF0F8",
            "showbackground": true,
            "ticks": "",
            "zerolinecolor": "#EBF0F8"
           }
          },
          "shapedefaults": {
           "line": {
            "color": "#2a3f5f"
           }
          },
          "ternary": {
           "aaxis": {
            "gridcolor": "#DFE8F3",
            "linecolor": "#A2B1C6",
            "ticks": ""
           },
           "baxis": {
            "gridcolor": "#DFE8F3",
            "linecolor": "#A2B1C6",
            "ticks": ""
           },
           "bgcolor": "white",
           "caxis": {
            "gridcolor": "#DFE8F3",
            "linecolor": "#A2B1C6",
            "ticks": ""
           }
          },
          "title": {
           "x": 0.05
          },
          "xaxis": {
           "automargin": true,
           "gridcolor": "#EBF0F8",
           "linecolor": "#EBF0F8",
           "ticks": "",
           "title": {
            "standoff": 15
           },
           "zerolinecolor": "#EBF0F8",
           "zerolinewidth": 2
          },
          "yaxis": {
           "automargin": true,
           "gridcolor": "#EBF0F8",
           "linecolor": "#EBF0F8",
           "ticks": "",
           "title": {
            "standoff": 15
           },
           "zerolinecolor": "#EBF0F8",
           "zerolinewidth": 2
          }
         }
        },
        "title": {
         "text": "Academic VPIN: Volume-Synchronized Order Flow Toxicity"
        },
        "xaxis": {
         "anchor": "y",
         "domain": [
          0,
          1
         ]
        },
        "xaxis2": {
         "anchor": "y2",
         "domain": [
          0,
          1
         ]
        },
        "xaxis3": {
         "anchor": "y3",
         "domain": [
          0,
          1
         ]
        },
        "xaxis4": {
         "anchor": "y4",
         "domain": [
          0,
          1
         ]
        },
        "yaxis": {
         "anchor": "x",
         "domain": [
          0.7875,
          1
         ],
         "title": {
          "text": "Price ($)"
         }
        },
        "yaxis2": {
         "anchor": "x2",
         "domain": [
          0.525,
          0.7375
         ],
         "title": {
          "text": "Volume Δ"
         }
        },
        "yaxis3": {
         "anchor": "x3",
         "domain": [
          0.2625,
          0.475
         ],
         "title": {
          "text": "VPIN"
         }
        },
        "yaxis4": {
         "anchor": "x4",
         "domain": [
          0,
          0.2125
         ],
         "range": [
          0,
          1
         ],
         "title": {
          "text": "CDF"
         }
        }
       }
      }
     },
     "metadata": {},
     "output_type": "display_data"
    }
   ],
   "source": [
    "def plot_academic_vpin(df, buckets, vpin_raw):\n",
    "    \"\"\"\n",
    "    Create academic VPIN visualization with toxicity levels\n",
    "    \"\"\"\n",
    "    fig = make_subplots(\n",
    "        rows=4,\n",
    "        cols=1,\n",
    "        row_heights=[0.25, 0.25, 0.25, 0.25],\n",
    "        subplot_titles=[\n",
    "            \"Price with Volume Buckets\",\n",
    "            \"Order Flow Imbalance (Buy vs Sell Volume)\",\n",
    "            \"VPIN (Raw) - Order Flow Toxicity\",\n",
    "            \"VPIN CDF - Toxicity Probability\",\n",
    "        ],\n",
    "        vertical_spacing=0.05,\n",
    "    )\n",
    "\n",
    "    # 1. Price with bucket boundaries\n",
    "    fig.add_trace(\n",
    "        go.Scatter(\n",
    "            x=df[\"datetime\"],\n",
    "            y=df[\"price\"],\n",
    "            name=\"Price\",\n",
    "            line=dict(color=\"lightblue\", width=1),\n",
    "        ),\n",
    "        row=1,\n",
    "        col=1,\n",
    "    )\n",
    "\n",
    "    # Mark every 10th bucket boundary\n",
    "    bucket_starts = df.groupby(\"bucket_id\")[\"datetime\"].first()\n",
    "    for i, start_time in enumerate(bucket_starts):\n",
    "        if i % 10 == 0:\n",
    "            fig.add_vline(\n",
    "                x=start_time,\n",
    "                line_dash=\"dot\",\n",
    "                line_color=\"gray\",\n",
    "                opacity=0.3,\n",
    "                row=1,\n",
    "                col=1,\n",
    "            )\n",
    "\n",
    "    # 2. Order Flow Imbalance\n",
    "    imbalance = buckets[\"buy_volume\"] - buckets[\"sell_volume\"]\n",
    "    colors = [\"green\" if x > 0 else \"red\" for x in imbalance]\n",
    "\n",
    "    fig.add_trace(\n",
    "        go.Bar(\n",
    "            x=buckets[\"datetime\"],\n",
    "            y=imbalance,\n",
    "            marker_color=colors,\n",
    "            opacity=0.6,\n",
    "            name=\"Volume Imbalance\",\n",
    "            showlegend=False,\n",
    "        ),\n",
    "        row=2,\n",
    "        col=1,\n",
    "    )\n",
    "\n",
    "    # 3. Raw VPIN\n",
    "    fig.add_trace(\n",
    "        go.Scatter(\n",
    "            x=buckets[\"datetime\"],\n",
    "            y=vpin_raw,\n",
    "            name=\"VPIN\",\n",
    "            line=dict(color=\"orange\", width=2),\n",
    "        ),\n",
    "        row=3,\n",
    "        col=1,\n",
    "    )\n",
    "\n",
    "    # Add Flash Crash threshold\n",
    "    fig.add_hline(\n",
    "        y=0.2,\n",
    "        line_dash=\"dash\",\n",
    "        line_color=\"red\",\n",
    "        annotation_text=\"Flash Crash Level (0.2)\",\n",
    "        row=3,\n",
    "        col=1,\n",
    "    )\n",
    "\n",
    "    # 4. VPIN CDF\n",
    "    fig.add_trace(\n",
    "        go.Scatter(\n",
    "            x=buckets[\"datetime\"],\n",
    "            y=buckets[\"vpin_cdf_ssf\"],\n",
    "            name=\"Toxicity Probability\",\n",
    "            fill=\"tozeroy\",\n",
    "            line=dict(color=\"purple\", width=2),\n",
    "        ),\n",
    "        row=4,\n",
    "        col=1,\n",
    "    )\n",
    "\n",
    "    # Mark extreme toxicity events\n",
    "    toxic_events = buckets[buckets[\"toxic_event_ssf\"]]\n",
    "    if len(toxic_events) > 0:\n",
    "        fig.add_trace(\n",
    "            go.Scatter(\n",
    "                x=toxic_events[\"datetime\"],\n",
    "                y=toxic_events[\"vpin_cdf_ssf\"],\n",
    "                mode=\"markers\",\n",
    "                marker=dict(color=\"red\", size=10, symbol=\"x\"),\n",
    "                name=\"Toxic Events\",\n",
    "                showlegend=False,\n",
    "            ),\n",
    "            row=4,\n",
    "            col=1,\n",
    "        )\n",
    "\n",
    "    # Add 90% threshold\n",
    "    fig.add_hline(\n",
    "        y=0.9,\n",
    "        line_dash=\"dash\",\n",
    "        line_color=\"red\",\n",
    "        annotation_text=\"Extreme Toxicity (90%)\",\n",
    "        row=4,\n",
    "        col=1,\n",
    "    )\n",
    "\n",
    "    fig.update_layout(\n",
    "        height=900,\n",
    "        title=\"Academic VPIN: Volume-Synchronized Order Flow Toxicity\",\n",
    "        template=\"plotly_white\",\n",
    "        showlegend=True,\n",
    "        hovermode=\"x unified\",\n",
    "    )\n",
    "\n",
    "    fig.update_yaxes(title=\"Price ($)\", row=1, col=1)\n",
    "    fig.update_yaxes(title=\"Volume Δ\", row=2, col=1)\n",
    "    fig.update_yaxes(title=\"VPIN\", row=3, col=1)\n",
    "    fig.update_yaxes(title=\"CDF\", range=[0, 1], row=4, col=1)\n",
    "\n",
    "    return fig\n",
    "\n",
    "\n",
    "fig = plot_academic_vpin(df, buckets, vpin_raw)\n",
    "fig.show()"
   ]
  },
  {
   "cell_type": "markdown",
   "metadata": {},
   "source": [
    "## Key Metrics Dashboard"
   ]
  },
  {
   "cell_type": "code",
   "execution_count": 23,
   "metadata": {},
   "outputs": [
    {
     "name": "stdout",
     "output_type": "stream",
     "text": [
      "============================================================\n",
      "ACADEMIC VPIN ANALYSIS (Easley et al. 2012 Methodology)\n",
      "============================================================\n",
      "📊 Mean VPIN: 0.0663\n",
      "📈 Max VPIN: 0.2404\n",
      "⚠️  Toxic Events (CDF>0.9): 18/181 buckets\n",
      "📉 Avg Order Imbalance: 46.95%\n",
      "🚨 WARNING: VPIN exceeds Flash Crash threshold (0.2)\n",
      "🚨 HIGH TOXICITY: 9.9% of time in toxic state\n",
      "============================================================\n"
     ]
    }
   ],
   "source": [
    "def calculate_toxicity_metrics(buckets, vpin_raw):\n",
    "    \"\"\"\n",
    "    Calculate key metrics from academic VPIN papers\n",
    "    \"\"\"\n",
    "    # Clean data\n",
    "    clean_vpin = vpin_raw[~np.isnan(vpin_raw)]\n",
    "\n",
    "    if len(clean_vpin) == 0:\n",
    "        print(\"No valid VPIN values to analyze\")\n",
    "        return None\n",
    "\n",
    "    # Metrics\n",
    "    metrics = {\n",
    "        \"mean_vpin\": np.mean(clean_vpin),\n",
    "        \"std_vpin\": np.std(clean_vpin),\n",
    "        \"max_vpin\": np.max(clean_vpin),\n",
    "        \"toxic_periods\": (buckets[\"vpin_cdf\"] > 0.9).sum(),\n",
    "        \"total_buckets\": len(buckets),\n",
    "        \"avg_bucket_imbalance\": np.mean(\n",
    "            np.abs(buckets[\"buy_volume\"] - buckets[\"sell_volume\"])\n",
    "            / (buckets[\"volume\"] + 1e-10)\n",
    "        ),\n",
    "    }\n",
    "\n",
    "    # Print Flash Crash-style analysis\n",
    "    print(\"=\" * 60)\n",
    "    print(\"ACADEMIC VPIN ANALYSIS (Easley et al. 2012 Methodology)\")\n",
    "    print(\"=\" * 60)\n",
    "    print(f\"📊 Mean VPIN: {metrics['mean_vpin']:.4f}\")\n",
    "    print(f\"📈 Max VPIN: {metrics['max_vpin']:.4f}\")\n",
    "    print(\n",
    "        f\"⚠️  Toxic Events (CDF>0.9): {metrics['toxic_periods']}/{metrics['total_buckets']} buckets\"\n",
    "    )\n",
    "    print(f\"📉 Avg Order Imbalance: {metrics['avg_bucket_imbalance']:.2%}\")\n",
    "\n",
    "    # Warning levels\n",
    "    if metrics[\"max_vpin\"] > 0.2:\n",
    "        print(\"🚨 WARNING: VPIN exceeds Flash Crash threshold (0.2)\")\n",
    "\n",
    "    toxicity_pct = metrics[\"toxic_periods\"] / metrics[\"total_buckets\"] * 100\n",
    "    if toxicity_pct > 5:\n",
    "        print(f\"🚨 HIGH TOXICITY: {toxicity_pct:.1f}% of time in toxic state\")\n",
    "\n",
    "    print(\"=\" * 60)\n",
    "\n",
    "    return metrics\n",
    "\n",
    "\n",
    "metrics = calculate_toxicity_metrics(buckets, vpin_raw)"
   ]
  },
  {
   "cell_type": "markdown",
   "metadata": {},
   "source": [
    "## Comparison: Time-based vs Volume-based VPIN"
   ]
  },
  {
   "cell_type": "code",
   "execution_count": 24,
   "metadata": {},
   "outputs": [
    {
     "name": "stdout",
     "output_type": "stream",
     "text": [
      "\n",
      "Calculating time-based VPIN for comparison...\n",
      "\n",
      "============================================================\n",
      "Time-based vs Volume-bucket VPIN Comparison:\n",
      "============================================================\n",
      "Time-based max: 0.0000\n",
      "Volume-bucket max: 0.2404\n",
      "Difference: 0.2404\n",
      "\n",
      "Volume-bucket approach is higher\n",
      "This difference reflects the impact of volume synchronization\n",
      "============================================================\n"
     ]
    }
   ],
   "source": [
    "# Simple time-based VPIN for comparison\n",
    "print(\"\\nCalculating time-based VPIN for comparison...\")\n",
    "time_vpin = np.array(\n",
    "    ta.vpin(\n",
    "        df[\"volume\"].values * 0.5,  # Simple 50/50 split\n",
    "        df[\"volume\"].values * 0.5,\n",
    "        50,\n",
    "    )\n",
    ")\n",
    "\n",
    "print(\"\\n\" + \"=\" * 60)\n",
    "print(\"Time-based vs Volume-bucket VPIN Comparison:\")\n",
    "print(\"=\" * 60)\n",
    "print(f\"Time-based max: {np.nanmax(time_vpin):.4f}\")\n",
    "print(f\"Volume-bucket max: {metrics['max_vpin']:.4f}\")\n",
    "print(f\"Difference: {abs(metrics['max_vpin'] - np.nanmax(time_vpin)):.4f}\")\n",
    "print(\n",
    "    f\"\\nVolume-bucket approach is {'higher' if metrics['max_vpin'] > np.nanmax(time_vpin) else 'lower'}\"\n",
    ")\n",
    "print(\"This difference reflects the impact of volume synchronization\")\n",
    "print(\"=\" * 60)"
   ]
  },
  {
   "cell_type": "markdown",
   "metadata": {},
   "source": [
    "## Summary\n",
    "\n",
    "### Key Academic Features Implemented:\n",
    "\n",
    "1. **Volume Bucket Synchronization**: Each bucket contains exactly V volume units (1% of daily volume)\n",
    "2. **Bulk Volume Classification (BVC)**: Uses CDF of normalized price changes to classify volume\n",
    "3. **CDF Transformation**: Converts VPIN to toxicity probability (0-1 scale)\n",
    "4. **Flash Crash Thresholds**: Uses 0.2 raw VPIN and 0.9 CDF as critical levels\n",
    "5. **Order Flow Imbalance**: Direct visualization of buy-sell pressure per bucket\n",
    "\n",
    "### References:\n",
    "- Easley, López de Prado, O'Hara (2012) \"Flow Toxicity and Liquidity in a High-frequency World\"\n",
    "- López de Prado (2018) \"Advances in Financial Machine Learning\""
   ]
  }
 ],
 "metadata": {
  "kernelspec": {
   "display_name": "py312",
   "language": "python",
   "name": "python3"
  },
  "language_info": {
   "codemirror_mode": {
    "name": "ipython",
    "version": 3
   },
   "file_extension": ".py",
   "mimetype": "text/x-python",
   "name": "python",
   "nbconvert_exporter": "python",
   "pygments_lexer": "ipython3",
   "version": "3.12.11"
  }
 },
 "nbformat": 4,
 "nbformat_minor": 4
}

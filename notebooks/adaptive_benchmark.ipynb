{
 "cells": [
  {
   "cell_type": "markdown",
   "metadata": {},
   "source": [
    "# Adaptive Backend Benchmark\n",
    "\n",
    "Performance comparison between CPU and Adaptive backends."
   ]
  },
  {
   "cell_type": "code",
   "execution_count": null,
   "metadata": {},
   "outputs": [],
   "source": [
    "import numpy as np\n",
    "import pandas as pd\n",
    "import plotly.graph_objects as go\n",
    "import rust_indicators\n",
    "from pycoingecko import CoinGeckoAPI\n",
    "import time\n",
    "import os\n",
    "\n",
    "cg = CoinGeckoAPI()"
   ]
  },
  {
   "cell_type": "code",
   "execution_count": null,
   "metadata": {},
   "outputs": [],
   "source": [
    "# Setup backends\n",
    "os.environ['RUST_INDICATORS_DEVICE'] = 'cpu'\n",
    "cpu_ta = rust_indicators.RustTA()\n",
    "\n",
    "if 'RUST_INDICATORS_DEVICE' in os.environ:\n",
    "    del os.environ['RUST_INDICATORS_DEVICE']\n",
    "adaptive_ta = rust_indicators.RustTA()\n",
    "\n",
    "print(f\"CPU: {cpu_ta.device()}, Adaptive: {adaptive_ta.device()}\")"
   ]
  },
  {
   "cell_type": "code",
   "execution_count": null,
   "metadata": {},
   "outputs": [],
   "source": [
    "# Get data\n",
    "data = cg.get_coin_market_chart_by_id('bitcoin', 'usd', 7)\n",
    "df = pd.DataFrame(data['prices'], columns=['timestamp', 'price'])\n",
    "df['volume'] = pd.DataFrame(data['total_volumes'])[1]\n",
    "\n",
    "# Generate buy/sell volumes\n",
    "price_changes = df['price'].pct_change().fillna(0)\n",
    "buy_ratio = 0.5 + 0.3 * np.tanh(price_changes / price_changes.std())\n",
    "df['buy_volume'] = df['volume'] * buy_ratio\n",
    "df['sell_volume'] = df['volume'] * (1 - buy_ratio)\n",
    "\n",
    "print(f\"Data points: {len(df)}\")"
   ]
  },
  {
   "cell_type": "code",
   "execution_count": null,
   "metadata": {},
   "outputs": [],
   "source": [
    "# Benchmark function\n",
    "def benchmark_backend(backend, name, sizes):\n",
    "    results = []\n",
    "    \n",
    "    for size in sizes:\n",
    "        buy_vols = df['buy_volume'].iloc[:size].values\n",
    "        sell_vols = df['sell_volume'].iloc[:size].values\n",
    "        \n",
    "        times = []\n",
    "        for _ in range(3):\n",
    "            start = time.time()\n",
    "            backend.vpin(buy_vols, sell_vols, 50)\n",
    "            times.append(time.time() - start)\n",
    "        \n",
    "        avg_time = np.mean(times)\n",
    "        throughput = size / avg_time\n",
    "        \n",
    "        results.append({\n",
    "            'size': size,\n",
    "            'time': avg_time,\n",
    "            'throughput': throughput,\n",
    "            'backend': name\n",
    "        })\n",
    "        \n",
    "        print(f\"{name} {size:5d}: {avg_time:.4f}s ({throughput:,.0f} pts/s)\")\n",
    "    \n",
    "    return results\n",
    "\n",
    "# Run benchmarks\n",
    "sizes = [1000, 2000, 3000, 4000, 5000, 7500, 10000]\n",
    "cpu_results = benchmark_backend(cpu_ta, 'CPU', sizes)\n",
    "adaptive_results = benchmark_backend(adaptive_ta, 'Adaptive', sizes)"
   ]
  },
  {
   "cell_type": "code",
   "execution_count": null,
   "metadata": {},
   "outputs": [],
   "source": [
    "# Plot results\n",
    "results_df = pd.DataFrame(cpu_results + adaptive_results)\n",
    "\n",
    "fig = go.Figure()\n",
    "\n",
    "for backend in ['CPU', 'Adaptive']:\n",
    "    data = results_df[results_df['backend'] == backend]\n",
    "    fig.add_trace(go.Scatter(\n",
    "        x=data['size'], y=data['throughput'],\n",
    "        name=backend, mode='lines+markers'\n",
    "    ))\n",
    "\n",
    "fig.update_layout(\n",
    "    title='Backend Performance Comparison',\n",
    "    xaxis_title='Data Size',\n",
    "    yaxis_title='Throughput (points/sec)',\n",
    "    template='plotly_dark'\n",
    ")\n",
    "\n",
    "fig.show()"
   ]
  },
  {
   "cell_type": "code",
   "execution_count": null,
   "metadata": {},
   "outputs": [],
   "source": [
    "# Summary\n",
    "cpu_avg = np.mean([r['throughput'] for r in cpu_results])\n",
    "adaptive_avg = np.mean([r['throughput'] for r in adaptive_results])\n",
    "speedup = adaptive_avg / cpu_avg\n",
    "\n",
    "print(f\"CPU Average: {cpu_avg:,.0f} pts/s\")\n",
    "print(f\"Adaptive Average: {adaptive_avg:,.0f} pts/s\")\n",
    "print(f\"Speedup: {speedup:.2f}x\")"
   ]
  },
  {
   "cell_type": "code",
   "execution_count": null,
   "metadata": {},
   "outputs": [],
   "source": []
  }
 ],
 "metadata": {
  "kernelspec": {
   "display_name": "Python 3 (ipykernel)",
   "language": "python",
   "name": "python3"
  },
  "language_info": {
   "codemirror_mode": {
    "name": "ipython",
    "version": 3
   },
   "file_extension": ".py",
   "mimetype": "text/x-python",
   "name": "python",
   "nbconvert_exporter": "python",
   "pygments_lexer": "ipython3",
   "version": "3.13.5"
  }
 },
 "nbformat": 4,
 "nbformat_minor": 4
}
